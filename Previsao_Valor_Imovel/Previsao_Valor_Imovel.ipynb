{
 "cells": [
  {
   "cell_type": "markdown",
   "metadata": {
    "colab_type": "text",
    "id": "4vhNe3CadOcI"
   },
   "source": [
    "### Conhecendo a base de dados"
   ]
  },
  {
   "cell_type": "markdown",
   "metadata": {
    "colab_type": "text",
    "id": "UIKcG9cuf73S"
   },
   "source": [
    "Monta o drive"
   ]
  },
  {
   "cell_type": "code",
   "execution_count": 1,
   "metadata": {
    "colab": {
     "base_uri": "https://localhost:8080/",
     "height": 122
    },
    "colab_type": "code",
    "id": "Pra_pLjfAW3d",
    "outputId": "a97ef262-dd45-4550-9f9e-10890398acd3"
   },
   "outputs": [
    {
     "name": "stdout",
     "output_type": "stream",
     "text": [
      "Go to this URL in a browser: https://accounts.google.com/o/oauth2/auth?client_id=947318989803-6bn6qk8qdgf4n4g3pfee6491hc0brc4i.apps.googleusercontent.com&redirect_uri=urn%3aietf%3awg%3aoauth%3a2.0%3aoob&response_type=code&scope=email%20https%3a%2f%2fwww.googleapis.com%2fauth%2fdocs.test%20https%3a%2f%2fwww.googleapis.com%2fauth%2fdrive%20https%3a%2f%2fwww.googleapis.com%2fauth%2fdrive.photos.readonly%20https%3a%2f%2fwww.googleapis.com%2fauth%2fpeopleapi.readonly\n",
      "\n",
      "Enter your authorization code:\n",
      "··········\n",
      "Mounted at /content/drive\n"
     ]
    }
   ],
   "source": [
    "from google.colab import drive\n",
    "drive.mount('/content/drive')"
   ]
  },
  {
   "cell_type": "markdown",
   "metadata": {
    "colab_type": "text",
    "id": "LpI7iiKFVv85"
   },
   "source": [
    "Importando as bibliotecas básicas"
   ]
  },
  {
   "cell_type": "code",
   "execution_count": 2,
   "metadata": {
    "colab": {
     "base_uri": "https://localhost:8080/",
     "height": 51
    },
    "colab_type": "code",
    "id": "KrCFI6wjVy8r",
    "outputId": "ab29e7db-cd51-4255-bf77-a2c06964eccd"
   },
   "outputs": [
    {
     "name": "stderr",
     "output_type": "stream",
     "text": [
      "/usr/local/lib/python3.6/dist-packages/statsmodels/tools/_testing.py:19: FutureWarning: pandas.util.testing is deprecated. Use the functions in the public API at pandas.testing instead.\n",
      "  import pandas.util.testing as tm\n"
     ]
    }
   ],
   "source": [
    "import pandas as pd\n",
    "import seaborn as sns\n",
    "import numpy as np\n",
    "import matplotlib.pyplot as plt"
   ]
  },
  {
   "cell_type": "markdown",
   "metadata": {
    "colab_type": "text",
    "id": "pN6MI_aOdLkK"
   },
   "source": [
    "Carregando a Base de Dados"
   ]
  },
  {
   "cell_type": "code",
   "execution_count": 3,
   "metadata": {
    "colab": {},
    "colab_type": "code",
    "id": "fH08VuIvDYqC"
   },
   "outputs": [],
   "source": [
    "# carrega o dataset de london\n",
    "from sklearn.datasets import load_boston\n",
    "boston = load_boston()"
   ]
  },
  {
   "cell_type": "code",
   "execution_count": 4,
   "metadata": {
    "colab": {
     "base_uri": "https://localhost:8080/",
     "height": 884
    },
    "colab_type": "code",
    "id": "vdncFGtm9EZe",
    "outputId": "31702362-ec9c-4eae-ea5e-7456da4a25b9"
   },
   "outputs": [
    {
     "name": "stdout",
     "output_type": "stream",
     "text": [
      ".. _boston_dataset:\n",
      "\n",
      "Boston house prices dataset\n",
      "---------------------------\n",
      "\n",
      "**Data Set Characteristics:**  \n",
      "\n",
      "    :Number of Instances: 506 \n",
      "\n",
      "    :Number of Attributes: 13 numeric/categorical predictive. Median Value (attribute 14) is usually the target.\n",
      "\n",
      "    :Attribute Information (in order):\n",
      "        - CRIM     per capita crime rate by town\n",
      "        - ZN       proportion of residential land zoned for lots over 25,000 sq.ft.\n",
      "        - INDUS    proportion of non-retail business acres per town\n",
      "        - CHAS     Charles River dummy variable (= 1 if tract bounds river; 0 otherwise)\n",
      "        - NOX      nitric oxides concentration (parts per 10 million)\n",
      "        - RM       average number of rooms per dwelling\n",
      "        - AGE      proportion of owner-occupied units built prior to 1940\n",
      "        - DIS      weighted distances to five Boston employment centres\n",
      "        - RAD      index of accessibility to radial highways\n",
      "        - TAX      full-value property-tax rate per $10,000\n",
      "        - PTRATIO  pupil-teacher ratio by town\n",
      "        - B        1000(Bk - 0.63)^2 where Bk is the proportion of blacks by town\n",
      "        - LSTAT    % lower status of the population\n",
      "        - MEDV     Median value of owner-occupied homes in $1000's\n",
      "\n",
      "    :Missing Attribute Values: None\n",
      "\n",
      "    :Creator: Harrison, D. and Rubinfeld, D.L.\n",
      "\n",
      "This is a copy of UCI ML housing dataset.\n",
      "https://archive.ics.uci.edu/ml/machine-learning-databases/housing/\n",
      "\n",
      "\n",
      "This dataset was taken from the StatLib library which is maintained at Carnegie Mellon University.\n",
      "\n",
      "The Boston house-price data of Harrison, D. and Rubinfeld, D.L. 'Hedonic\n",
      "prices and the demand for clean air', J. Environ. Economics & Management,\n",
      "vol.5, 81-102, 1978.   Used in Belsley, Kuh & Welsch, 'Regression diagnostics\n",
      "...', Wiley, 1980.   N.B. Various transformations are used in the table on\n",
      "pages 244-261 of the latter.\n",
      "\n",
      "The Boston house-price data has been used in many machine learning papers that address regression\n",
      "problems.   \n",
      "     \n",
      ".. topic:: References\n",
      "\n",
      "   - Belsley, Kuh & Welsch, 'Regression diagnostics: Identifying Influential Data and Sources of Collinearity', Wiley, 1980. 244-261.\n",
      "   - Quinlan,R. (1993). Combining Instance-Based and Model-Based Learning. In Proceedings on the Tenth International Conference of Machine Learning, 236-243, University of Massachusetts, Amherst. Morgan Kaufmann.\n",
      "\n"
     ]
    }
   ],
   "source": [
    "# descrição do dataset\n",
    "print (boston.DESCR)"
   ]
  },
  {
   "cell_type": "code",
   "execution_count": 5,
   "metadata": {
    "colab": {},
    "colab_type": "code",
    "id": "e1d1cfElD_aD"
   },
   "outputs": [],
   "source": [
    "# cria um dataframe pandas\n",
    "data = pd.DataFrame(boston.data, columns=boston.feature_names)"
   ]
  },
  {
   "cell_type": "markdown",
   "metadata": {
    "colab_type": "text",
    "id": "2DqDhU9Gdkme"
   },
   "source": [
    "Adicionando a coluna que será nossa variável alvo"
   ]
  },
  {
   "cell_type": "code",
   "execution_count": 6,
   "metadata": {
    "colab": {},
    "colab_type": "code",
    "id": "WaGqRi0vElWS"
   },
   "outputs": [],
   "source": [
    "# adiciona a variável MEDV\n",
    "data['MEDV'] = boston.target"
   ]
  },
  {
   "cell_type": "code",
   "execution_count": 7,
   "metadata": {
    "colab": {},
    "colab_type": "code",
    "id": "caKPkl_SFil0"
   },
   "outputs": [],
   "source": [
    "# filtra os top 16 maiores registro da coluna MEDV\n",
    "top16 = data.nlargest(16, 'MEDV').index"
   ]
  },
  {
   "cell_type": "code",
   "execution_count": 8,
   "metadata": {
    "colab": {},
    "colab_type": "code",
    "id": "cicsUFf4OELZ"
   },
   "outputs": [],
   "source": [
    "# remove os valores listados em top16\n",
    "data.drop(top16, inplace=True)"
   ]
  },
  {
   "cell_type": "markdown",
   "metadata": {
    "colab_type": "text",
    "id": "X2mMG-H_xfCU"
   },
   "source": [
    "**Definindo um Baseline**\n",
    "\n",
    "- `Uma baseline é importante para ter marcos no projeto`.\n",
    "- `Permite uma explicação fácil para todos os envolvidos`.\n",
    "- `É algo que sempre tentaremos ganhar na medida do possível`."
   ]
  },
  {
   "cell_type": "code",
   "execution_count": 9,
   "metadata": {
    "colab": {},
    "colab_type": "code",
    "id": "q-k-jC68Tmra"
   },
   "outputs": [],
   "source": [
    "# converte os dados\n",
    "data.RM = data.RM.astype(int)"
   ]
  },
  {
   "cell_type": "code",
   "execution_count": 10,
   "metadata": {
    "colab": {
     "base_uri": "https://localhost:8080/",
     "height": 374
    },
    "colab_type": "code",
    "id": "cA9VCNRnUOPi",
    "outputId": "e1e50853-7da9-41a4-e4e8-7b5df0f35c05"
   },
   "outputs": [
    {
     "name": "stdout",
     "output_type": "stream",
     "text": [
      "<class 'pandas.core.frame.DataFrame'>\n",
      "Int64Index: 490 entries, 0 to 505\n",
      "Data columns (total 14 columns):\n",
      " #   Column   Non-Null Count  Dtype  \n",
      "---  ------   --------------  -----  \n",
      " 0   CRIM     490 non-null    float64\n",
      " 1   ZN       490 non-null    float64\n",
      " 2   INDUS    490 non-null    float64\n",
      " 3   CHAS     490 non-null    float64\n",
      " 4   NOX      490 non-null    float64\n",
      " 5   RM       490 non-null    int64  \n",
      " 6   AGE      490 non-null    float64\n",
      " 7   DIS      490 non-null    float64\n",
      " 8   RAD      490 non-null    float64\n",
      " 9   TAX      490 non-null    float64\n",
      " 10  PTRATIO  490 non-null    float64\n",
      " 11  B        490 non-null    float64\n",
      " 12  LSTAT    490 non-null    float64\n",
      " 13  MEDV     490 non-null    float64\n",
      "dtypes: float64(13), int64(1)\n",
      "memory usage: 57.4 KB\n"
     ]
    }
   ],
   "source": [
    "data.info()"
   ]
  },
  {
   "cell_type": "code",
   "execution_count": 11,
   "metadata": {
    "colab": {
     "base_uri": "https://localhost:8080/",
     "height": 170
    },
    "colab_type": "code",
    "id": "K_-mp-6WtUee",
    "outputId": "30026c88-df2b-42d8-c738-25339b70ca51"
   },
   "outputs": [
    {
     "data": {
      "text/plain": [
       "count    490.000000\n",
       "mean       5.740816\n",
       "std        0.737657\n",
       "min        3.000000\n",
       "25%        5.000000\n",
       "50%        6.000000\n",
       "75%        6.000000\n",
       "max        8.000000\n",
       "Name: RM, dtype: float64"
      ]
     },
     "execution_count": 11,
     "metadata": {
      "tags": []
     },
     "output_type": "execute_result"
    }
   ],
   "source": [
    "# estatística descritiva da coluna numero de quartos\n",
    "data.RM.describe()"
   ]
  },
  {
   "cell_type": "code",
   "execution_count": 12,
   "metadata": {
    "colab": {},
    "colab_type": "code",
    "id": "HIknobGdtUQR"
   },
   "outputs": [],
   "source": [
    "# definindo a regra para categorizar os dados\n",
    "categorias = []"
   ]
  },
  {
   "cell_type": "code",
   "execution_count": 13,
   "metadata": {
    "colab": {},
    "colab_type": "code",
    "id": "faL-8m1onPP2"
   },
   "outputs": [],
   "source": [
    "# alimenta a lista categorias\n",
    "for i in data.RM.iteritems():\n",
    "  valor = (i[1])\n",
    "  if valor <= 4:\n",
    "    categorias.append('Pequeno')\n",
    "  elif valor < 7:\n",
    "    categorias.append('Medio')\n",
    "  else:\n",
    "    categorias.append('Grande')"
   ]
  },
  {
   "cell_type": "code",
   "execution_count": 14,
   "metadata": {
    "colab": {},
    "colab_type": "code",
    "id": "-nEk0wXeNFWE"
   },
   "outputs": [],
   "source": [
    "# cria a coluna categorias\n",
    "data['categorias'] = categorias"
   ]
  },
  {
   "cell_type": "code",
   "execution_count": 15,
   "metadata": {
    "colab": {
     "base_uri": "https://localhost:8080/",
     "height": 85
    },
    "colab_type": "code",
    "id": "i-iVO76sR-am",
    "outputId": "d3c0fd43-f075-4379-fee8-6540a22c652e"
   },
   "outputs": [
    {
     "data": {
      "text/plain": [
       "Medio      424\n",
       "Grande      52\n",
       "Pequeno     14\n",
       "Name: categorias, dtype: int64"
      ]
     },
     "execution_count": 15,
     "metadata": {
      "tags": []
     },
     "output_type": "execute_result"
    }
   ],
   "source": [
    "# imprime a contagem de categorias\n",
    "data.categorias.value_counts()"
   ]
  },
  {
   "cell_type": "code",
   "execution_count": 16,
   "metadata": {
    "colab": {},
    "colab_type": "code",
    "id": "Gxa6OrD8Ht-0"
   },
   "outputs": [],
   "source": [
    "# agrupa as categorias e calcula as médias\n",
    "medias_categorias = data.groupby(by='categorias')['MEDV'].mean()"
   ]
  },
  {
   "cell_type": "code",
   "execution_count": 17,
   "metadata": {
    "colab": {
     "base_uri": "https://localhost:8080/",
     "height": 102
    },
    "colab_type": "code",
    "id": "zYMhxnzDIM2X",
    "outputId": "76240c93-d52f-44ff-dfea-11b9e0a482a8"
   },
   "outputs": [
    {
     "data": {
      "text/plain": [
       "categorias\n",
       "Grande     35.719231\n",
       "Medio      20.130425\n",
       "Pequeno    14.921429\n",
       "Name: MEDV, dtype: float64"
      ]
     },
     "execution_count": 17,
     "metadata": {
      "tags": []
     },
     "output_type": "execute_result"
    }
   ],
   "source": [
    "# visualizando a variável medias_categorias\n",
    "medias_categorias"
   ]
  },
  {
   "cell_type": "code",
   "execution_count": 18,
   "metadata": {
    "colab": {},
    "colab_type": "code",
    "id": "wJHkQXozHcYN"
   },
   "outputs": [],
   "source": [
    "# criando o dicionario com chaves medio, grande e pequeno e seus valores\n",
    "dic_baseline = {'Grande': medias_categorias[0], 'Medio': medias_categorias[1], 'Pequeno': medias_categorias[2]}"
   ]
  },
  {
   "cell_type": "code",
   "execution_count": 19,
   "metadata": {
    "colab": {
     "base_uri": "https://localhost:8080/",
     "height": 68
    },
    "colab_type": "code",
    "id": "AMrYkM_T7eqS",
    "outputId": "276a9606-631c-48f3-b5b2-27bb09788ba5"
   },
   "outputs": [
    {
     "data": {
      "text/plain": [
       "{'Grande': 35.71923076923077,\n",
       " 'Medio': 20.1304245283019,\n",
       " 'Pequeno': 14.921428571428574}"
      ]
     },
     "execution_count": 19,
     "metadata": {
      "tags": []
     },
     "output_type": "execute_result"
    }
   ],
   "source": [
    "# imprime dicionario\n",
    "dic_baseline"
   ]
  },
  {
   "cell_type": "code",
   "execution_count": 20,
   "metadata": {
    "colab": {},
    "colab_type": "code",
    "id": "7lfDPAmL8kjX"
   },
   "outputs": [],
   "source": [
    "# cria a função retorna baseline\n",
    "def retorna_baseline(num_quartos):\n",
    "  if num_quartos <= 4:\n",
    "    return dic_baseline.get('Pequeno')\n",
    "  elif num_quartos < 7:\n",
    "    return dic_baseline.get('Medio')\n",
    "  else:\n",
    "    return dic_baseline.get('Grande')"
   ]
  },
  {
   "cell_type": "code",
   "execution_count": 21,
   "metadata": {
    "colab": {
     "base_uri": "https://localhost:8080/",
     "height": 34
    },
    "colab_type": "code",
    "id": "um5I8oQ2Arhe",
    "outputId": "ea52b890-153e-4122-f970-515d59768b83"
   },
   "outputs": [
    {
     "data": {
      "text/plain": [
       "35.71923076923077"
      ]
     },
     "execution_count": 21,
     "metadata": {
      "tags": []
     },
     "output_type": "execute_result"
    }
   ],
   "source": [
    "# chama a função retorna baseline\n",
    "retorna_baseline(7)"
   ]
  },
  {
   "cell_type": "code",
   "execution_count": 22,
   "metadata": {
    "colab": {
     "base_uri": "https://localhost:8080/",
     "height": 1000
    },
    "colab_type": "code",
    "id": "785EhcLuCoqw",
    "outputId": "ea51b192-aba1-4063-b56b-7f872dadfaa6"
   },
   "outputs": [
    {
     "name": "stdout",
     "output_type": "stream",
     "text": [
      "Número de quartos é: 6 , Valor médio: 20.1304245283019\n",
      "Número de quartos é: 6 , Valor médio: 20.1304245283019\n",
      "Número de quartos é: 7 , Valor médio: 35.71923076923077\n",
      "Número de quartos é: 6 , Valor médio: 20.1304245283019\n",
      "Número de quartos é: 7 , Valor médio: 35.71923076923077\n",
      "Número de quartos é: 6 , Valor médio: 20.1304245283019\n",
      "Número de quartos é: 6 , Valor médio: 20.1304245283019\n",
      "Número de quartos é: 6 , Valor médio: 20.1304245283019\n",
      "Número de quartos é: 5 , Valor médio: 20.1304245283019\n",
      "Número de quartos é: 6 , Valor médio: 20.1304245283019\n",
      "Número de quartos é: 6 , Valor médio: 20.1304245283019\n",
      "Número de quartos é: 6 , Valor médio: 20.1304245283019\n",
      "Número de quartos é: 5 , Valor médio: 20.1304245283019\n",
      "Número de quartos é: 5 , Valor médio: 20.1304245283019\n",
      "Número de quartos é: 6 , Valor médio: 20.1304245283019\n",
      "Número de quartos é: 5 , Valor médio: 20.1304245283019\n",
      "Número de quartos é: 5 , Valor médio: 20.1304245283019\n",
      "Número de quartos é: 5 , Valor médio: 20.1304245283019\n",
      "Número de quartos é: 5 , Valor médio: 20.1304245283019\n",
      "Número de quartos é: 5 , Valor médio: 20.1304245283019\n",
      "Número de quartos é: 5 , Valor médio: 20.1304245283019\n",
      "Número de quartos é: 5 , Valor médio: 20.1304245283019\n",
      "Número de quartos é: 6 , Valor médio: 20.1304245283019\n",
      "Número de quartos é: 5 , Valor médio: 20.1304245283019\n",
      "Número de quartos é: 5 , Valor médio: 20.1304245283019\n",
      "Número de quartos é: 5 , Valor médio: 20.1304245283019\n",
      "Número de quartos é: 5 , Valor médio: 20.1304245283019\n",
      "Número de quartos é: 6 , Valor médio: 20.1304245283019\n",
      "Número de quartos é: 6 , Valor médio: 20.1304245283019\n",
      "Número de quartos é: 6 , Valor médio: 20.1304245283019\n",
      "Número de quartos é: 5 , Valor médio: 20.1304245283019\n",
      "Número de quartos é: 6 , Valor médio: 20.1304245283019\n",
      "Número de quartos é: 5 , Valor médio: 20.1304245283019\n",
      "Número de quartos é: 5 , Valor médio: 20.1304245283019\n",
      "Número de quartos é: 6 , Valor médio: 20.1304245283019\n",
      "Número de quartos é: 5 , Valor médio: 20.1304245283019\n",
      "Número de quartos é: 5 , Valor médio: 20.1304245283019\n",
      "Número de quartos é: 5 , Valor médio: 20.1304245283019\n",
      "Número de quartos é: 5 , Valor médio: 20.1304245283019\n",
      "Número de quartos é: 6 , Valor médio: 20.1304245283019\n",
      "Número de quartos é: 7 , Valor médio: 35.71923076923077\n",
      "Número de quartos é: 6 , Valor médio: 20.1304245283019\n",
      "Número de quartos é: 6 , Valor médio: 20.1304245283019\n",
      "Número de quartos é: 6 , Valor médio: 20.1304245283019\n",
      "Número de quartos é: 6 , Valor médio: 20.1304245283019\n",
      "Número de quartos é: 5 , Valor médio: 20.1304245283019\n",
      "Número de quartos é: 5 , Valor médio: 20.1304245283019\n",
      "Número de quartos é: 6 , Valor médio: 20.1304245283019\n",
      "Número de quartos é: 5 , Valor médio: 20.1304245283019\n",
      "Número de quartos é: 5 , Valor médio: 20.1304245283019\n",
      "Número de quartos é: 5 , Valor médio: 20.1304245283019\n",
      "Número de quartos é: 6 , Valor médio: 20.1304245283019\n",
      "Número de quartos é: 6 , Valor médio: 20.1304245283019\n",
      "Número de quartos é: 5 , Valor médio: 20.1304245283019\n",
      "Número de quartos é: 5 , Valor médio: 20.1304245283019\n",
      "Número de quartos é: 7 , Valor médio: 35.71923076923077\n",
      "Número de quartos é: 6 , Valor médio: 20.1304245283019\n",
      "Número de quartos é: 6 , Valor médio: 20.1304245283019\n",
      "Número de quartos é: 6 , Valor médio: 20.1304245283019\n",
      "Número de quartos é: 5 , Valor médio: 20.1304245283019\n",
      "Número de quartos é: 5 , Valor médio: 20.1304245283019\n",
      "Número de quartos é: 5 , Valor médio: 20.1304245283019\n",
      "Número de quartos é: 6 , Valor médio: 20.1304245283019\n",
      "Número de quartos é: 6 , Valor médio: 20.1304245283019\n",
      "Número de quartos é: 7 , Valor médio: 35.71923076923077\n",
      "Número de quartos é: 6 , Valor médio: 20.1304245283019\n",
      "Número de quartos é: 5 , Valor médio: 20.1304245283019\n",
      "Número de quartos é: 5 , Valor médio: 20.1304245283019\n",
      "Número de quartos é: 5 , Valor médio: 20.1304245283019\n",
      "Número de quartos é: 5 , Valor médio: 20.1304245283019\n",
      "Número de quartos é: 6 , Valor médio: 20.1304245283019\n",
      "Número de quartos é: 5 , Valor médio: 20.1304245283019\n",
      "Número de quartos é: 6 , Valor médio: 20.1304245283019\n",
      "Número de quartos é: 6 , Valor médio: 20.1304245283019\n",
      "Número de quartos é: 6 , Valor médio: 20.1304245283019\n",
      "Número de quartos é: 6 , Valor médio: 20.1304245283019\n",
      "Número de quartos é: 6 , Valor médio: 20.1304245283019\n",
      "Número de quartos é: 6 , Valor médio: 20.1304245283019\n",
      "Número de quartos é: 6 , Valor médio: 20.1304245283019\n",
      "Número de quartos é: 5 , Valor médio: 20.1304245283019\n",
      "Número de quartos é: 6 , Valor médio: 20.1304245283019\n",
      "Número de quartos é: 6 , Valor médio: 20.1304245283019\n",
      "Número de quartos é: 6 , Valor médio: 20.1304245283019\n",
      "Número de quartos é: 6 , Valor médio: 20.1304245283019\n",
      "Número de quartos é: 6 , Valor médio: 20.1304245283019\n",
      "Número de quartos é: 6 , Valor médio: 20.1304245283019\n",
      "Número de quartos é: 6 , Valor médio: 20.1304245283019\n",
      "Número de quartos é: 6 , Valor médio: 20.1304245283019\n",
      "Número de quartos é: 7 , Valor médio: 35.71923076923077\n",
      "Número de quartos é: 7 , Valor médio: 35.71923076923077\n",
      "Número de quartos é: 6 , Valor médio: 20.1304245283019\n",
      "Número de quartos é: 6 , Valor médio: 20.1304245283019\n",
      "Número de quartos é: 6 , Valor médio: 20.1304245283019\n",
      "Número de quartos é: 6 , Valor médio: 20.1304245283019\n",
      "Número de quartos é: 6 , Valor médio: 20.1304245283019\n",
      "Número de quartos é: 6 , Valor médio: 20.1304245283019\n",
      "Número de quartos é: 6 , Valor médio: 20.1304245283019\n",
      "Número de quartos é: 8 , Valor médio: 35.71923076923077\n",
      "Número de quartos é: 7 , Valor médio: 35.71923076923077\n",
      "Número de quartos é: 7 , Valor médio: 35.71923076923077\n",
      "Número de quartos é: 6 , Valor médio: 20.1304245283019\n",
      "Número de quartos é: 6 , Valor médio: 20.1304245283019\n",
      "Número de quartos é: 6 , Valor médio: 20.1304245283019\n",
      "Número de quartos é: 6 , Valor médio: 20.1304245283019\n",
      "Número de quartos é: 6 , Valor médio: 20.1304245283019\n",
      "Número de quartos é: 5 , Valor médio: 20.1304245283019\n",
      "Número de quartos é: 5 , Valor médio: 20.1304245283019\n",
      "Número de quartos é: 6 , Valor médio: 20.1304245283019\n",
      "Número de quartos é: 6 , Valor médio: 20.1304245283019\n",
      "Número de quartos é: 6 , Valor médio: 20.1304245283019\n",
      "Número de quartos é: 6 , Valor médio: 20.1304245283019\n",
      "Número de quartos é: 6 , Valor médio: 20.1304245283019\n",
      "Número de quartos é: 5 , Valor médio: 20.1304245283019\n",
      "Número de quartos é: 6 , Valor médio: 20.1304245283019\n",
      "Número de quartos é: 6 , Valor médio: 20.1304245283019\n",
      "Número de quartos é: 5 , Valor médio: 20.1304245283019\n",
      "Número de quartos é: 6 , Valor médio: 20.1304245283019\n",
      "Número de quartos é: 6 , Valor médio: 20.1304245283019\n",
      "Número de quartos é: 5 , Valor médio: 20.1304245283019\n",
      "Número de quartos é: 5 , Valor médio: 20.1304245283019\n",
      "Número de quartos é: 5 , Valor médio: 20.1304245283019\n",
      "Número de quartos é: 6 , Valor médio: 20.1304245283019\n",
      "Número de quartos é: 5 , Valor médio: 20.1304245283019\n",
      "Número de quartos é: 5 , Valor médio: 20.1304245283019\n",
      "Número de quartos é: 5 , Valor médio: 20.1304245283019\n",
      "Número de quartos é: 5 , Valor médio: 20.1304245283019\n",
      "Número de quartos é: 5 , Valor médio: 20.1304245283019\n",
      "Número de quartos é: 5 , Valor médio: 20.1304245283019\n",
      "Número de quartos é: 6 , Valor médio: 20.1304245283019\n",
      "Número de quartos é: 5 , Valor médio: 20.1304245283019\n",
      "Número de quartos é: 6 , Valor médio: 20.1304245283019\n",
      "Número de quartos é: 6 , Valor médio: 20.1304245283019\n",
      "Número de quartos é: 6 , Valor médio: 20.1304245283019\n",
      "Número de quartos é: 5 , Valor médio: 20.1304245283019\n",
      "Número de quartos é: 5 , Valor médio: 20.1304245283019\n",
      "Número de quartos é: 6 , Valor médio: 20.1304245283019\n",
      "Número de quartos é: 5 , Valor médio: 20.1304245283019\n",
      "Número de quartos é: 6 , Valor médio: 20.1304245283019\n",
      "Número de quartos é: 5 , Valor médio: 20.1304245283019\n",
      "Número de quartos é: 6 , Valor médio: 20.1304245283019\n",
      "Número de quartos é: 6 , Valor médio: 20.1304245283019\n",
      "Número de quartos é: 5 , Valor médio: 20.1304245283019\n",
      "Número de quartos é: 5 , Valor médio: 20.1304245283019\n",
      "Número de quartos é: 5 , Valor médio: 20.1304245283019\n",
      "Número de quartos é: 4 , Valor médio: 14.921428571428574\n",
      "Número de quartos é: 6 , Valor médio: 20.1304245283019\n",
      "Número de quartos é: 5 , Valor médio: 20.1304245283019\n",
      "Número de quartos é: 4 , Valor médio: 14.921428571428574\n",
      "Número de quartos é: 5 , Valor médio: 20.1304245283019\n",
      "Número de quartos é: 5 , Valor médio: 20.1304245283019\n",
      "Número de quartos é: 6 , Valor médio: 20.1304245283019\n",
      "Número de quartos é: 5 , Valor médio: 20.1304245283019\n",
      "Número de quartos é: 5 , Valor médio: 20.1304245283019\n",
      "Número de quartos é: 5 , Valor médio: 20.1304245283019\n",
      "Número de quartos é: 6 , Valor médio: 20.1304245283019\n",
      "Número de quartos é: 6 , Valor médio: 20.1304245283019\n",
      "Número de quartos é: 5 , Valor médio: 20.1304245283019\n",
      "Número de quartos é: 6 , Valor médio: 20.1304245283019\n",
      "Número de quartos é: 6 , Valor médio: 20.1304245283019\n",
      "Número de quartos é: 6 , Valor médio: 20.1304245283019\n",
      "Número de quartos é: 6 , Valor médio: 20.1304245283019\n",
      "Número de quartos é: 5 , Valor médio: 20.1304245283019\n",
      "Número de quartos é: 6 , Valor médio: 20.1304245283019\n",
      "Número de quartos é: 5 , Valor médio: 20.1304245283019\n",
      "Número de quartos é: 6 , Valor médio: 20.1304245283019\n",
      "Número de quartos é: 6 , Valor médio: 20.1304245283019\n",
      "Número de quartos é: 5 , Valor médio: 20.1304245283019\n",
      "Número de quartos é: 5 , Valor médio: 20.1304245283019\n",
      "Número de quartos é: 5 , Valor médio: 20.1304245283019\n",
      "Número de quartos é: 6 , Valor médio: 20.1304245283019\n",
      "Número de quartos é: 5 , Valor médio: 20.1304245283019\n",
      "Número de quartos é: 6 , Valor médio: 20.1304245283019\n",
      "Número de quartos é: 6 , Valor médio: 20.1304245283019\n",
      "Número de quartos é: 6 , Valor médio: 20.1304245283019\n",
      "Número de quartos é: 6 , Valor médio: 20.1304245283019\n",
      "Número de quartos é: 6 , Valor médio: 20.1304245283019\n",
      "Número de quartos é: 7 , Valor médio: 35.71923076923077\n",
      "Número de quartos é: 6 , Valor médio: 20.1304245283019\n",
      "Número de quartos é: 7 , Valor médio: 35.71923076923077\n",
      "Número de quartos é: 6 , Valor médio: 20.1304245283019\n",
      "Número de quartos é: 5 , Valor médio: 20.1304245283019\n",
      "Número de quartos é: 6 , Valor médio: 20.1304245283019\n",
      "Número de quartos é: 6 , Valor médio: 20.1304245283019\n",
      "Número de quartos é: 6 , Valor médio: 20.1304245283019\n",
      "Número de quartos é: 7 , Valor médio: 35.71923076923077\n",
      "Número de quartos é: 6 , Valor médio: 20.1304245283019\n",
      "Número de quartos é: 6 , Valor médio: 20.1304245283019\n",
      "Número de quartos é: 7 , Valor médio: 35.71923076923077\n",
      "Número de quartos é: 6 , Valor médio: 20.1304245283019\n",
      "Número de quartos é: 6 , Valor médio: 20.1304245283019\n",
      "Número de quartos é: 7 , Valor médio: 35.71923076923077\n",
      "Número de quartos é: 7 , Valor médio: 35.71923076923077\n",
      "Número de quartos é: 7 , Valor médio: 35.71923076923077\n",
      "Número de quartos é: 6 , Valor médio: 20.1304245283019\n",
      "Número de quartos é: 7 , Valor médio: 35.71923076923077\n",
      "Número de quartos é: 6 , Valor médio: 20.1304245283019\n",
      "Número de quartos é: 7 , Valor médio: 35.71923076923077\n",
      "Número de quartos é: 7 , Valor médio: 35.71923076923077\n",
      "Número de quartos é: 5 , Valor médio: 20.1304245283019\n",
      "Número de quartos é: 6 , Valor médio: 20.1304245283019\n",
      "Número de quartos é: 5 , Valor médio: 20.1304245283019\n",
      "Número de quartos é: 6 , Valor médio: 20.1304245283019\n",
      "Número de quartos é: 5 , Valor médio: 20.1304245283019\n",
      "Número de quartos é: 5 , Valor médio: 20.1304245283019\n",
      "Número de quartos é: 5 , Valor médio: 20.1304245283019\n",
      "Número de quartos é: 5 , Valor médio: 20.1304245283019\n",
      "Número de quartos é: 6 , Valor médio: 20.1304245283019\n",
      "Número de quartos é: 5 , Valor médio: 20.1304245283019\n",
      "Número de quartos é: 6 , Valor médio: 20.1304245283019\n",
      "Número de quartos é: 5 , Valor médio: 20.1304245283019\n",
      "Número de quartos é: 6 , Valor médio: 20.1304245283019\n",
      "Número de quartos é: 5 , Valor médio: 20.1304245283019\n",
      "Número de quartos é: 6 , Valor médio: 20.1304245283019\n",
      "Número de quartos é: 6 , Valor médio: 20.1304245283019\n",
      "Número de quartos é: 6 , Valor médio: 20.1304245283019\n",
      "Número de quartos é: 6 , Valor médio: 20.1304245283019\n",
      "Número de quartos é: 6 , Valor médio: 20.1304245283019\n",
      "Número de quartos é: 8 , Valor médio: 35.71923076923077\n",
      "Número de quartos é: 8 , Valor médio: 35.71923076923077\n",
      "Número de quartos é: 7 , Valor médio: 35.71923076923077\n",
      "Número de quartos é: 7 , Valor médio: 35.71923076923077\n",
      "Número de quartos é: 6 , Valor médio: 20.1304245283019\n",
      "Número de quartos é: 5 , Valor médio: 20.1304245283019\n",
      "Número de quartos é: 7 , Valor médio: 35.71923076923077\n",
      "Número de quartos é: 8 , Valor médio: 35.71923076923077\n",
      "Número de quartos é: 8 , Valor médio: 35.71923076923077\n",
      "Número de quartos é: 6 , Valor médio: 20.1304245283019\n",
      "Número de quartos é: 6 , Valor médio: 20.1304245283019\n",
      "Número de quartos é: 6 , Valor médio: 20.1304245283019\n",
      "Número de quartos é: 7 , Valor médio: 35.71923076923077\n",
      "Número de quartos é: 6 , Valor médio: 20.1304245283019\n",
      "Número de quartos é: 6 , Valor médio: 20.1304245283019\n",
      "Número de quartos é: 6 , Valor médio: 20.1304245283019\n",
      "Número de quartos é: 6 , Valor médio: 20.1304245283019\n",
      "Número de quartos é: 6 , Valor médio: 20.1304245283019\n",
      "Número de quartos é: 6 , Valor médio: 20.1304245283019\n",
      "Número de quartos é: 5 , Valor médio: 20.1304245283019\n",
      "Número de quartos é: 5 , Valor médio: 20.1304245283019\n",
      "Número de quartos é: 6 , Valor médio: 20.1304245283019\n",
      "Número de quartos é: 6 , Valor médio: 20.1304245283019\n",
      "Número de quartos é: 6 , Valor médio: 20.1304245283019\n",
      "Número de quartos é: 6 , Valor médio: 20.1304245283019\n",
      "Número de quartos é: 6 , Valor médio: 20.1304245283019\n",
      "Número de quartos é: 6 , Valor médio: 20.1304245283019\n",
      "Número de quartos é: 6 , Valor médio: 20.1304245283019\n",
      "Número de quartos é: 8 , Valor médio: 35.71923076923077\n",
      "Número de quartos é: 6 , Valor médio: 20.1304245283019\n",
      "Número de quartos é: 5 , Valor médio: 20.1304245283019\n",
      "Número de quartos é: 7 , Valor médio: 35.71923076923077\n",
      "Número de quartos é: 7 , Valor médio: 35.71923076923077\n",
      "Número de quartos é: 6 , Valor médio: 20.1304245283019\n",
      "Número de quartos é: 7 , Valor médio: 35.71923076923077\n",
      "Número de quartos é: 7 , Valor médio: 35.71923076923077\n",
      "Número de quartos é: 8 , Valor médio: 35.71923076923077\n",
      "Número de quartos é: 7 , Valor médio: 35.71923076923077\n",
      "Número de quartos é: 7 , Valor médio: 35.71923076923077\n",
      "Número de quartos é: 5 , Valor médio: 20.1304245283019\n",
      "Número de quartos é: 7 , Valor médio: 35.71923076923077\n",
      "Número de quartos é: 7 , Valor médio: 35.71923076923077\n",
      "Número de quartos é: 5 , Valor médio: 20.1304245283019\n",
      "Número de quartos é: 5 , Valor médio: 20.1304245283019\n",
      "Número de quartos é: 6 , Valor médio: 20.1304245283019\n",
      "Número de quartos é: 6 , Valor médio: 20.1304245283019\n",
      "Número de quartos é: 7 , Valor médio: 35.71923076923077\n",
      "Número de quartos é: 6 , Valor médio: 20.1304245283019\n",
      "Número de quartos é: 6 , Valor médio: 20.1304245283019\n",
      "Número de quartos é: 7 , Valor médio: 35.71923076923077\n",
      "Número de quartos é: 6 , Valor médio: 20.1304245283019\n",
      "Número de quartos é: 6 , Valor médio: 20.1304245283019\n",
      "Número de quartos é: 6 , Valor médio: 20.1304245283019\n",
      "Número de quartos é: 7 , Valor médio: 35.71923076923077\n",
      "Número de quartos é: 6 , Valor médio: 20.1304245283019\n",
      "Número de quartos é: 7 , Valor médio: 35.71923076923077\n",
      "Número de quartos é: 7 , Valor médio: 35.71923076923077\n",
      "Número de quartos é: 6 , Valor médio: 20.1304245283019\n",
      "Número de quartos é: 6 , Valor médio: 20.1304245283019\n",
      "Número de quartos é: 6 , Valor médio: 20.1304245283019\n",
      "Número de quartos é: 6 , Valor médio: 20.1304245283019\n",
      "Número de quartos é: 6 , Valor médio: 20.1304245283019\n",
      "Número de quartos é: 6 , Valor médio: 20.1304245283019\n",
      "Número de quartos é: 7 , Valor médio: 35.71923076923077\n",
      "Número de quartos é: 6 , Valor médio: 20.1304245283019\n",
      "Número de quartos é: 6 , Valor médio: 20.1304245283019\n",
      "Número de quartos é: 6 , Valor médio: 20.1304245283019\n",
      "Número de quartos é: 6 , Valor médio: 20.1304245283019\n",
      "Número de quartos é: 6 , Valor médio: 20.1304245283019\n",
      "Número de quartos é: 5 , Valor médio: 20.1304245283019\n",
      "Número de quartos é: 6 , Valor médio: 20.1304245283019\n",
      "Número de quartos é: 7 , Valor médio: 35.71923076923077\n",
      "Número de quartos é: 6 , Valor médio: 20.1304245283019\n",
      "Número de quartos é: 6 , Valor médio: 20.1304245283019\n",
      "Número de quartos é: 6 , Valor médio: 20.1304245283019\n",
      "Número de quartos é: 6 , Valor médio: 20.1304245283019\n",
      "Número de quartos é: 7 , Valor médio: 35.71923076923077\n",
      "Número de quartos é: 6 , Valor médio: 20.1304245283019\n",
      "Número de quartos é: 7 , Valor médio: 35.71923076923077\n",
      "Número de quartos é: 6 , Valor médio: 20.1304245283019\n",
      "Número de quartos é: 6 , Valor médio: 20.1304245283019\n",
      "Número de quartos é: 5 , Valor médio: 20.1304245283019\n",
      "Número de quartos é: 4 , Valor médio: 14.921428571428574\n",
      "Número de quartos é: 6 , Valor médio: 20.1304245283019\n",
      "Número de quartos é: 6 , Valor médio: 20.1304245283019\n",
      "Número de quartos é: 6 , Valor médio: 20.1304245283019\n",
      "Número de quartos é: 6 , Valor médio: 20.1304245283019\n",
      "Número de quartos é: 5 , Valor médio: 20.1304245283019\n",
      "Número de quartos é: 5 , Valor médio: 20.1304245283019\n",
      "Número de quartos é: 5 , Valor médio: 20.1304245283019\n",
      "Número de quartos é: 6 , Valor médio: 20.1304245283019\n",
      "Número de quartos é: 6 , Valor médio: 20.1304245283019\n",
      "Número de quartos é: 6 , Valor médio: 20.1304245283019\n",
      "Número de quartos é: 6 , Valor médio: 20.1304245283019\n",
      "Número de quartos é: 6 , Valor médio: 20.1304245283019\n",
      "Número de quartos é: 5 , Valor médio: 20.1304245283019\n",
      "Número de quartos é: 6 , Valor médio: 20.1304245283019\n",
      "Número de quartos é: 6 , Valor médio: 20.1304245283019\n",
      "Número de quartos é: 6 , Valor médio: 20.1304245283019\n",
      "Número de quartos é: 6 , Valor médio: 20.1304245283019\n",
      "Número de quartos é: 5 , Valor médio: 20.1304245283019\n",
      "Número de quartos é: 6 , Valor médio: 20.1304245283019\n",
      "Número de quartos é: 6 , Valor médio: 20.1304245283019\n",
      "Número de quartos é: 5 , Valor médio: 20.1304245283019\n",
      "Número de quartos é: 6 , Valor médio: 20.1304245283019\n",
      "Número de quartos é: 6 , Valor médio: 20.1304245283019\n",
      "Número de quartos é: 6 , Valor médio: 20.1304245283019\n",
      "Número de quartos é: 6 , Valor médio: 20.1304245283019\n",
      "Número de quartos é: 5 , Valor médio: 20.1304245283019\n",
      "Número de quartos é: 5 , Valor médio: 20.1304245283019\n",
      "Número de quartos é: 6 , Valor médio: 20.1304245283019\n",
      "Número de quartos é: 5 , Valor médio: 20.1304245283019\n",
      "Número de quartos é: 5 , Valor médio: 20.1304245283019\n",
      "Número de quartos é: 7 , Valor médio: 35.71923076923077\n",
      "Número de quartos é: 6 , Valor médio: 20.1304245283019\n",
      "Número de quartos é: 6 , Valor médio: 20.1304245283019\n",
      "Número de quartos é: 6 , Valor médio: 20.1304245283019\n",
      "Número de quartos é: 6 , Valor médio: 20.1304245283019\n",
      "Número de quartos é: 5 , Valor médio: 20.1304245283019\n",
      "Número de quartos é: 6 , Valor médio: 20.1304245283019\n",
      "Número de quartos é: 6 , Valor médio: 20.1304245283019\n",
      "Número de quartos é: 6 , Valor médio: 20.1304245283019\n",
      "Número de quartos é: 6 , Valor médio: 20.1304245283019\n",
      "Número de quartos é: 6 , Valor médio: 20.1304245283019\n",
      "Número de quartos é: 5 , Valor médio: 20.1304245283019\n",
      "Número de quartos é: 6 , Valor médio: 20.1304245283019\n",
      "Número de quartos é: 5 , Valor médio: 20.1304245283019\n",
      "Número de quartos é: 5 , Valor médio: 20.1304245283019\n",
      "Número de quartos é: 6 , Valor médio: 20.1304245283019\n",
      "Número de quartos é: 6 , Valor médio: 20.1304245283019\n",
      "Número de quartos é: 6 , Valor médio: 20.1304245283019\n",
      "Número de quartos é: 6 , Valor médio: 20.1304245283019\n",
      "Número de quartos é: 6 , Valor médio: 20.1304245283019\n",
      "Número de quartos é: 6 , Valor médio: 20.1304245283019\n",
      "Número de quartos é: 5 , Valor médio: 20.1304245283019\n",
      "Número de quartos é: 5 , Valor médio: 20.1304245283019\n",
      "Número de quartos é: 8 , Valor médio: 35.71923076923077\n",
      "Número de quartos é: 3 , Valor médio: 14.921428571428574\n",
      "Número de quartos é: 4 , Valor médio: 14.921428571428574\n",
      "Número de quartos é: 3 , Valor médio: 14.921428571428574\n",
      "Número de quartos é: 4 , Valor médio: 14.921428571428574\n",
      "Número de quartos é: 4 , Valor médio: 14.921428571428574\n",
      "Número de quartos é: 7 , Valor médio: 35.71923076923077\n",
      "Número de quartos é: 6 , Valor médio: 20.1304245283019\n",
      "Número de quartos é: 6 , Valor médio: 20.1304245283019\n",
      "Número de quartos é: 6 , Valor médio: 20.1304245283019\n",
      "Número de quartos é: 6 , Valor médio: 20.1304245283019\n",
      "Número de quartos é: 6 , Valor médio: 20.1304245283019\n",
      "Número de quartos é: 6 , Valor médio: 20.1304245283019\n",
      "Número de quartos é: 5 , Valor médio: 20.1304245283019\n",
      "Número de quartos é: 5 , Valor médio: 20.1304245283019\n",
      "Número de quartos é: 4 , Valor médio: 14.921428571428574\n",
      "Número de quartos é: 5 , Valor médio: 20.1304245283019\n",
      "Número de quartos é: 4 , Valor médio: 14.921428571428574\n",
      "Número de quartos é: 5 , Valor médio: 20.1304245283019\n",
      "Número de quartos é: 4 , Valor médio: 14.921428571428574\n",
      "Número de quartos é: 5 , Valor médio: 20.1304245283019\n",
      "Número de quartos é: 5 , Valor médio: 20.1304245283019\n",
      "Número de quartos é: 6 , Valor médio: 20.1304245283019\n",
      "Número de quartos é: 5 , Valor médio: 20.1304245283019\n",
      "Número de quartos é: 6 , Valor médio: 20.1304245283019\n",
      "Número de quartos é: 5 , Valor médio: 20.1304245283019\n",
      "Número de quartos é: 6 , Valor médio: 20.1304245283019\n",
      "Número de quartos é: 6 , Valor médio: 20.1304245283019\n",
      "Número de quartos é: 5 , Valor médio: 20.1304245283019\n",
      "Número de quartos é: 5 , Valor médio: 20.1304245283019\n",
      "Número de quartos é: 5 , Valor médio: 20.1304245283019\n",
      "Número de quartos é: 5 , Valor médio: 20.1304245283019\n",
      "Número de quartos é: 6 , Valor médio: 20.1304245283019\n",
      "Número de quartos é: 6 , Valor médio: 20.1304245283019\n",
      "Número de quartos é: 5 , Valor médio: 20.1304245283019\n",
      "Número de quartos é: 5 , Valor médio: 20.1304245283019\n",
      "Número de quartos é: 5 , Valor médio: 20.1304245283019\n",
      "Número de quartos é: 4 , Valor médio: 14.921428571428574\n",
      "Número de quartos é: 5 , Valor médio: 20.1304245283019\n",
      "Número de quartos é: 5 , Valor médio: 20.1304245283019\n",
      "Número de quartos é: 6 , Valor médio: 20.1304245283019\n",
      "Número de quartos é: 5 , Valor médio: 20.1304245283019\n",
      "Número de quartos é: 6 , Valor médio: 20.1304245283019\n",
      "Número de quartos é: 4 , Valor médio: 14.921428571428574\n",
      "Número de quartos é: 5 , Valor médio: 20.1304245283019\n",
      "Número de quartos é: 4 , Valor médio: 14.921428571428574\n",
      "Número de quartos é: 6 , Valor médio: 20.1304245283019\n",
      "Número de quartos é: 6 , Valor médio: 20.1304245283019\n",
      "Número de quartos é: 5 , Valor médio: 20.1304245283019\n",
      "Número de quartos é: 5 , Valor médio: 20.1304245283019\n",
      "Número de quartos é: 6 , Valor médio: 20.1304245283019\n",
      "Número de quartos é: 6 , Valor médio: 20.1304245283019\n",
      "Número de quartos é: 6 , Valor médio: 20.1304245283019\n",
      "Número de quartos é: 5 , Valor médio: 20.1304245283019\n",
      "Número de quartos é: 6 , Valor médio: 20.1304245283019\n",
      "Número de quartos é: 5 , Valor médio: 20.1304245283019\n",
      "Número de quartos é: 5 , Valor médio: 20.1304245283019\n",
      "Número de quartos é: 5 , Valor médio: 20.1304245283019\n",
      "Número de quartos é: 6 , Valor médio: 20.1304245283019\n",
      "Número de quartos é: 6 , Valor médio: 20.1304245283019\n",
      "Número de quartos é: 6 , Valor médio: 20.1304245283019\n",
      "Número de quartos é: 6 , Valor médio: 20.1304245283019\n",
      "Número de quartos é: 6 , Valor médio: 20.1304245283019\n",
      "Número de quartos é: 6 , Valor médio: 20.1304245283019\n",
      "Número de quartos é: 6 , Valor médio: 20.1304245283019\n",
      "Número de quartos é: 6 , Valor médio: 20.1304245283019\n",
      "Número de quartos é: 6 , Valor médio: 20.1304245283019\n",
      "Número de quartos é: 6 , Valor médio: 20.1304245283019\n",
      "Número de quartos é: 6 , Valor médio: 20.1304245283019\n",
      "Número de quartos é: 5 , Valor médio: 20.1304245283019\n",
      "Número de quartos é: 5 , Valor médio: 20.1304245283019\n",
      "Número de quartos é: 5 , Valor médio: 20.1304245283019\n",
      "Número de quartos é: 6 , Valor médio: 20.1304245283019\n",
      "Número de quartos é: 6 , Valor médio: 20.1304245283019\n",
      "Número de quartos é: 6 , Valor médio: 20.1304245283019\n",
      "Número de quartos é: 5 , Valor médio: 20.1304245283019\n",
      "Número de quartos é: 6 , Valor médio: 20.1304245283019\n",
      "Número de quartos é: 6 , Valor médio: 20.1304245283019\n",
      "Número de quartos é: 6 , Valor médio: 20.1304245283019\n",
      "Número de quartos é: 6 , Valor médio: 20.1304245283019\n",
      "Número de quartos é: 6 , Valor médio: 20.1304245283019\n",
      "Número de quartos é: 6 , Valor médio: 20.1304245283019\n",
      "Número de quartos é: 6 , Valor médio: 20.1304245283019\n",
      "Número de quartos é: 6 , Valor médio: 20.1304245283019\n",
      "Número de quartos é: 7 , Valor médio: 35.71923076923077\n",
      "Número de quartos é: 6 , Valor médio: 20.1304245283019\n",
      "Número de quartos é: 6 , Valor médio: 20.1304245283019\n",
      "Número de quartos é: 5 , Valor médio: 20.1304245283019\n",
      "Número de quartos é: 5 , Valor médio: 20.1304245283019\n",
      "Número de quartos é: 6 , Valor médio: 20.1304245283019\n",
      "Número de quartos é: 6 , Valor médio: 20.1304245283019\n",
      "Número de quartos é: 6 , Valor médio: 20.1304245283019\n",
      "Número de quartos é: 6 , Valor médio: 20.1304245283019\n",
      "Número de quartos é: 6 , Valor médio: 20.1304245283019\n",
      "Número de quartos é: 6 , Valor médio: 20.1304245283019\n",
      "Número de quartos é: 6 , Valor médio: 20.1304245283019\n",
      "Número de quartos é: 5 , Valor médio: 20.1304245283019\n",
      "Número de quartos é: 5 , Valor médio: 20.1304245283019\n",
      "Número de quartos é: 6 , Valor médio: 20.1304245283019\n",
      "Número de quartos é: 5 , Valor médio: 20.1304245283019\n",
      "Número de quartos é: 5 , Valor médio: 20.1304245283019\n",
      "Número de quartos é: 6 , Valor médio: 20.1304245283019\n",
      "Número de quartos é: 6 , Valor médio: 20.1304245283019\n",
      "Número de quartos é: 6 , Valor médio: 20.1304245283019\n",
      "Número de quartos é: 6 , Valor médio: 20.1304245283019\n",
      "Número de quartos é: 5 , Valor médio: 20.1304245283019\n",
      "Número de quartos é: 6 , Valor médio: 20.1304245283019\n",
      "Número de quartos é: 6 , Valor médio: 20.1304245283019\n",
      "Número de quartos é: 5 , Valor médio: 20.1304245283019\n",
      "Número de quartos é: 6 , Valor médio: 20.1304245283019\n",
      "Número de quartos é: 6 , Valor médio: 20.1304245283019\n",
      "Número de quartos é: 6 , Valor médio: 20.1304245283019\n",
      "Número de quartos é: 6 , Valor médio: 20.1304245283019\n",
      "Número de quartos é: 7 , Valor médio: 35.71923076923077\n",
      "Número de quartos é: 5 , Valor médio: 20.1304245283019\n",
      "Número de quartos é: 5 , Valor médio: 20.1304245283019\n",
      "Número de quartos é: 6 , Valor médio: 20.1304245283019\n",
      "Número de quartos é: 6 , Valor médio: 20.1304245283019\n",
      "Número de quartos é: 5 , Valor médio: 20.1304245283019\n",
      "Número de quartos é: 5 , Valor médio: 20.1304245283019\n",
      "Número de quartos é: 5 , Valor médio: 20.1304245283019\n",
      "Número de quartos é: 5 , Valor médio: 20.1304245283019\n",
      "Número de quartos é: 5 , Valor médio: 20.1304245283019\n",
      "Número de quartos é: 5 , Valor médio: 20.1304245283019\n",
      "Número de quartos é: 5 , Valor médio: 20.1304245283019\n",
      "Número de quartos é: 5 , Valor médio: 20.1304245283019\n",
      "Número de quartos é: 5 , Valor médio: 20.1304245283019\n",
      "Número de quartos é: 5 , Valor médio: 20.1304245283019\n",
      "Número de quartos é: 5 , Valor médio: 20.1304245283019\n",
      "Número de quartos é: 6 , Valor médio: 20.1304245283019\n",
      "Número de quartos é: 5 , Valor médio: 20.1304245283019\n",
      "Número de quartos é: 6 , Valor médio: 20.1304245283019\n",
      "Número de quartos é: 6 , Valor médio: 20.1304245283019\n",
      "Número de quartos é: 6 , Valor médio: 20.1304245283019\n",
      "Número de quartos é: 6 , Valor médio: 20.1304245283019\n",
      "Número de quartos é: 6 , Valor médio: 20.1304245283019\n",
      "Número de quartos é: 6 , Valor médio: 20.1304245283019\n"
     ]
    }
   ],
   "source": [
    "for i in data.RM.iteritems():\n",
    "  n_quartos = i[1]\n",
    "  print('Número de quartos é: {} , Valor médio: {}'.format(n_quartos,retorna_baseline(n_quartos)))"
   ]
  },
  {
   "cell_type": "code",
   "execution_count": 23,
   "metadata": {
    "colab": {
     "base_uri": "https://localhost:8080/",
     "height": 204
    },
    "colab_type": "code",
    "id": "7Is3KDjcXzBG",
    "outputId": "8e29c91e-edac-4526-c817-1e740382a96d"
   },
   "outputs": [
    {
     "data": {
      "text/html": [
       "<div>\n",
       "<style scoped>\n",
       "    .dataframe tbody tr th:only-of-type {\n",
       "        vertical-align: middle;\n",
       "    }\n",
       "\n",
       "    .dataframe tbody tr th {\n",
       "        vertical-align: top;\n",
       "    }\n",
       "\n",
       "    .dataframe thead th {\n",
       "        text-align: right;\n",
       "    }\n",
       "</style>\n",
       "<table border=\"1\" class=\"dataframe\">\n",
       "  <thead>\n",
       "    <tr style=\"text-align: right;\">\n",
       "      <th></th>\n",
       "      <th>CRIM</th>\n",
       "      <th>ZN</th>\n",
       "      <th>INDUS</th>\n",
       "      <th>CHAS</th>\n",
       "      <th>NOX</th>\n",
       "      <th>RM</th>\n",
       "      <th>AGE</th>\n",
       "      <th>DIS</th>\n",
       "      <th>RAD</th>\n",
       "      <th>TAX</th>\n",
       "      <th>PTRATIO</th>\n",
       "      <th>B</th>\n",
       "      <th>LSTAT</th>\n",
       "      <th>MEDV</th>\n",
       "      <th>categorias</th>\n",
       "    </tr>\n",
       "  </thead>\n",
       "  <tbody>\n",
       "    <tr>\n",
       "      <th>0</th>\n",
       "      <td>0.00632</td>\n",
       "      <td>18.0</td>\n",
       "      <td>2.31</td>\n",
       "      <td>0.0</td>\n",
       "      <td>0.538</td>\n",
       "      <td>6</td>\n",
       "      <td>65.2</td>\n",
       "      <td>4.0900</td>\n",
       "      <td>1.0</td>\n",
       "      <td>296.0</td>\n",
       "      <td>15.3</td>\n",
       "      <td>396.90</td>\n",
       "      <td>4.98</td>\n",
       "      <td>24.0</td>\n",
       "      <td>Medio</td>\n",
       "    </tr>\n",
       "    <tr>\n",
       "      <th>1</th>\n",
       "      <td>0.02731</td>\n",
       "      <td>0.0</td>\n",
       "      <td>7.07</td>\n",
       "      <td>0.0</td>\n",
       "      <td>0.469</td>\n",
       "      <td>6</td>\n",
       "      <td>78.9</td>\n",
       "      <td>4.9671</td>\n",
       "      <td>2.0</td>\n",
       "      <td>242.0</td>\n",
       "      <td>17.8</td>\n",
       "      <td>396.90</td>\n",
       "      <td>9.14</td>\n",
       "      <td>21.6</td>\n",
       "      <td>Medio</td>\n",
       "    </tr>\n",
       "    <tr>\n",
       "      <th>2</th>\n",
       "      <td>0.02729</td>\n",
       "      <td>0.0</td>\n",
       "      <td>7.07</td>\n",
       "      <td>0.0</td>\n",
       "      <td>0.469</td>\n",
       "      <td>7</td>\n",
       "      <td>61.1</td>\n",
       "      <td>4.9671</td>\n",
       "      <td>2.0</td>\n",
       "      <td>242.0</td>\n",
       "      <td>17.8</td>\n",
       "      <td>392.83</td>\n",
       "      <td>4.03</td>\n",
       "      <td>34.7</td>\n",
       "      <td>Grande</td>\n",
       "    </tr>\n",
       "    <tr>\n",
       "      <th>3</th>\n",
       "      <td>0.03237</td>\n",
       "      <td>0.0</td>\n",
       "      <td>2.18</td>\n",
       "      <td>0.0</td>\n",
       "      <td>0.458</td>\n",
       "      <td>6</td>\n",
       "      <td>45.8</td>\n",
       "      <td>6.0622</td>\n",
       "      <td>3.0</td>\n",
       "      <td>222.0</td>\n",
       "      <td>18.7</td>\n",
       "      <td>394.63</td>\n",
       "      <td>2.94</td>\n",
       "      <td>33.4</td>\n",
       "      <td>Medio</td>\n",
       "    </tr>\n",
       "    <tr>\n",
       "      <th>4</th>\n",
       "      <td>0.06905</td>\n",
       "      <td>0.0</td>\n",
       "      <td>2.18</td>\n",
       "      <td>0.0</td>\n",
       "      <td>0.458</td>\n",
       "      <td>7</td>\n",
       "      <td>54.2</td>\n",
       "      <td>6.0622</td>\n",
       "      <td>3.0</td>\n",
       "      <td>222.0</td>\n",
       "      <td>18.7</td>\n",
       "      <td>396.90</td>\n",
       "      <td>5.33</td>\n",
       "      <td>36.2</td>\n",
       "      <td>Grande</td>\n",
       "    </tr>\n",
       "  </tbody>\n",
       "</table>\n",
       "</div>"
      ],
      "text/plain": [
       "      CRIM    ZN  INDUS  CHAS    NOX  ...  PTRATIO       B  LSTAT  MEDV  categorias\n",
       "0  0.00632  18.0   2.31   0.0  0.538  ...     15.3  396.90   4.98  24.0       Medio\n",
       "1  0.02731   0.0   7.07   0.0  0.469  ...     17.8  396.90   9.14  21.6       Medio\n",
       "2  0.02729   0.0   7.07   0.0  0.469  ...     17.8  392.83   4.03  34.7      Grande\n",
       "3  0.03237   0.0   2.18   0.0  0.458  ...     18.7  394.63   2.94  33.4       Medio\n",
       "4  0.06905   0.0   2.18   0.0  0.458  ...     18.7  396.90   5.33  36.2      Grande\n",
       "\n",
       "[5 rows x 15 columns]"
      ]
     },
     "execution_count": 23,
     "metadata": {
      "tags": []
     },
     "output_type": "execute_result"
    }
   ],
   "source": [
    "# imprime as 5 primeiras linhas do dataframe\n",
    "data.head()"
   ]
  },
  {
   "cell_type": "markdown",
   "metadata": {
    "colab_type": "text",
    "id": "SaYmsVtotcF_"
   },
   "source": [
    "### Trabalhando com a baseline"
   ]
  },
  {
   "cell_type": "markdown",
   "metadata": {
    "colab_type": "text",
    "id": "SXXetS7AHiXz"
   },
   "source": [
    "Preparando os dados"
   ]
  },
  {
   "cell_type": "code",
   "execution_count": 24,
   "metadata": {
    "colab": {},
    "colab_type": "code",
    "id": "Ai2si0SMFKVX"
   },
   "outputs": [],
   "source": [
    "# remove as colunas colineares, variavel alvo e a coluna categorias\n",
    "X = data.drop(['RAD','TAX','MEDV','DIS','AGE','ZN','categorias'], axis=1)"
   ]
  },
  {
   "cell_type": "code",
   "execution_count": 25,
   "metadata": {
    "colab": {},
    "colab_type": "code",
    "id": "vxOb-hwYFFJx"
   },
   "outputs": [],
   "source": [
    "# variável 'y' é nossa variável alvo\n",
    "y = data['MEDV']"
   ]
  },
  {
   "cell_type": "code",
   "execution_count": 26,
   "metadata": {
    "colab": {
     "base_uri": "https://localhost:8080/",
     "height": 204
    },
    "colab_type": "code",
    "id": "EhagncsDLyk-",
    "outputId": "e7e9f9cc-8c67-4d04-db7d-d9a6b0729fb1"
   },
   "outputs": [
    {
     "data": {
      "text/html": [
       "<div>\n",
       "<style scoped>\n",
       "    .dataframe tbody tr th:only-of-type {\n",
       "        vertical-align: middle;\n",
       "    }\n",
       "\n",
       "    .dataframe tbody tr th {\n",
       "        vertical-align: top;\n",
       "    }\n",
       "\n",
       "    .dataframe thead th {\n",
       "        text-align: right;\n",
       "    }\n",
       "</style>\n",
       "<table border=\"1\" class=\"dataframe\">\n",
       "  <thead>\n",
       "    <tr style=\"text-align: right;\">\n",
       "      <th></th>\n",
       "      <th>CRIM</th>\n",
       "      <th>INDUS</th>\n",
       "      <th>CHAS</th>\n",
       "      <th>NOX</th>\n",
       "      <th>RM</th>\n",
       "      <th>PTRATIO</th>\n",
       "      <th>B</th>\n",
       "      <th>LSTAT</th>\n",
       "    </tr>\n",
       "  </thead>\n",
       "  <tbody>\n",
       "    <tr>\n",
       "      <th>0</th>\n",
       "      <td>0.00632</td>\n",
       "      <td>2.31</td>\n",
       "      <td>0.0</td>\n",
       "      <td>0.538</td>\n",
       "      <td>6</td>\n",
       "      <td>15.3</td>\n",
       "      <td>396.90</td>\n",
       "      <td>4.98</td>\n",
       "    </tr>\n",
       "    <tr>\n",
       "      <th>1</th>\n",
       "      <td>0.02731</td>\n",
       "      <td>7.07</td>\n",
       "      <td>0.0</td>\n",
       "      <td>0.469</td>\n",
       "      <td>6</td>\n",
       "      <td>17.8</td>\n",
       "      <td>396.90</td>\n",
       "      <td>9.14</td>\n",
       "    </tr>\n",
       "    <tr>\n",
       "      <th>2</th>\n",
       "      <td>0.02729</td>\n",
       "      <td>7.07</td>\n",
       "      <td>0.0</td>\n",
       "      <td>0.469</td>\n",
       "      <td>7</td>\n",
       "      <td>17.8</td>\n",
       "      <td>392.83</td>\n",
       "      <td>4.03</td>\n",
       "    </tr>\n",
       "    <tr>\n",
       "      <th>3</th>\n",
       "      <td>0.03237</td>\n",
       "      <td>2.18</td>\n",
       "      <td>0.0</td>\n",
       "      <td>0.458</td>\n",
       "      <td>6</td>\n",
       "      <td>18.7</td>\n",
       "      <td>394.63</td>\n",
       "      <td>2.94</td>\n",
       "    </tr>\n",
       "    <tr>\n",
       "      <th>4</th>\n",
       "      <td>0.06905</td>\n",
       "      <td>2.18</td>\n",
       "      <td>0.0</td>\n",
       "      <td>0.458</td>\n",
       "      <td>7</td>\n",
       "      <td>18.7</td>\n",
       "      <td>396.90</td>\n",
       "      <td>5.33</td>\n",
       "    </tr>\n",
       "  </tbody>\n",
       "</table>\n",
       "</div>"
      ],
      "text/plain": [
       "      CRIM  INDUS  CHAS    NOX  RM  PTRATIO       B  LSTAT\n",
       "0  0.00632   2.31   0.0  0.538   6     15.3  396.90   4.98\n",
       "1  0.02731   7.07   0.0  0.469   6     17.8  396.90   9.14\n",
       "2  0.02729   7.07   0.0  0.469   7     17.8  392.83   4.03\n",
       "3  0.03237   2.18   0.0  0.458   6     18.7  394.63   2.94\n",
       "4  0.06905   2.18   0.0  0.458   7     18.7  396.90   5.33"
      ]
     },
     "execution_count": 26,
     "metadata": {
      "tags": []
     },
     "output_type": "execute_result"
    }
   ],
   "source": [
    "# Dados na variável X\n",
    "X.head()"
   ]
  },
  {
   "cell_type": "code",
   "execution_count": 27,
   "metadata": {
    "colab": {
     "base_uri": "https://localhost:8080/",
     "height": 119
    },
    "colab_type": "code",
    "id": "W3He9wgaL5W7",
    "outputId": "11bd8400-ed52-4681-b3a3-cbd4736df454"
   },
   "outputs": [
    {
     "data": {
      "text/plain": [
       "0    24.0\n",
       "1    21.6\n",
       "2    34.7\n",
       "3    33.4\n",
       "4    36.2\n",
       "Name: MEDV, dtype: float64"
      ]
     },
     "execution_count": 27,
     "metadata": {
      "tags": []
     },
     "output_type": "execute_result"
    }
   ],
   "source": [
    "# Variável alvo\n",
    "y.head()"
   ]
  },
  {
   "cell_type": "markdown",
   "metadata": {
    "colab_type": "text",
    "id": "B0I1geDbH2cV"
   },
   "source": [
    "Separando os conjuntos de treino e teste"
   ]
  },
  {
   "cell_type": "code",
   "execution_count": 28,
   "metadata": {
    "colab": {},
    "colab_type": "code",
    "id": "13W2Fe2PfoK2"
   },
   "outputs": [],
   "source": [
    "# carrega o método train_test_split\n",
    "from sklearn.model_selection import train_test_split"
   ]
  },
  {
   "cell_type": "code",
   "execution_count": 29,
   "metadata": {
    "colab": {},
    "colab_type": "code",
    "id": "FaFtnr62AJ74"
   },
   "outputs": [],
   "source": [
    "# divide os dados entre o conjunto de treino e teste, 80% e 20% respectivamente.\n",
    "# define qualquer valor para o parâmetro random_state.\n",
    "X_train, X_test, y_train, y_test = train_test_split(X, y, test_size = 0.2, random_state=5)"
   ]
  },
  {
   "cell_type": "code",
   "execution_count": 30,
   "metadata": {
    "colab": {
     "base_uri": "https://localhost:8080/",
     "height": 85
    },
    "colab_type": "code",
    "id": "BiUsFzXQAJ38",
    "outputId": "d2846999-8191-4322-ec2b-0b2d934d6009"
   },
   "outputs": [
    {
     "name": "stdout",
     "output_type": "stream",
     "text": [
      "X_train: numero de linhas e colunas: (392, 8)\n",
      "X_test: numero de linhas e colunas: (98, 8)\n",
      "y_train: numero de linhas e colunas: (392,)\n",
      "y_test: numero de linhas e colunas: (98,)\n"
     ]
    }
   ],
   "source": [
    "# imprime a quantidade de linhas dos conjuntos\n",
    "print ('X_train: numero de linhas e colunas: {}'.format(X_train.shape))\n",
    "print ('X_test: numero de linhas e colunas: {}'.format(X_test.shape))\n",
    "print ('y_train: numero de linhas e colunas: {}'.format(y_train.shape))\n",
    "print ('y_test: numero de linhas e colunas: {}'.format(y_test.shape))"
   ]
  },
  {
   "cell_type": "markdown",
   "metadata": {
    "colab_type": "text",
    "id": "Wu94wESmFQqy"
   },
   "source": [
    "Modelo de baseline"
   ]
  },
  {
   "cell_type": "code",
   "execution_count": null,
   "metadata": {
    "colab": {},
    "colab_type": "code",
    "id": "FI97hd4HFPtR"
   },
   "outputs": [],
   "source": [
    "# imprimindo as 5 primeiras linhas dos dados de teste\n",
    "X_test.head()"
   ]
  },
  {
   "cell_type": "code",
   "execution_count": 31,
   "metadata": {
    "colab": {},
    "colab_type": "code",
    "id": "vRGvzY2jFbvD"
   },
   "outputs": [],
   "source": [
    "# definindo uma lista de predicoes\n",
    "predicoes = []"
   ]
  },
  {
   "cell_type": "code",
   "execution_count": 32,
   "metadata": {
    "colab": {},
    "colab_type": "code",
    "id": "xZ09WeQcGdL0"
   },
   "outputs": [],
   "source": [
    "# para cada elemento do teste alimenta a lista predicoes\n",
    "for i in X_test.RM.iteritems():\n",
    "  n_quartos = i[1]\n",
    "  predicoes.append(retorna_baseline(n_quartos))"
   ]
  },
  {
   "cell_type": "code",
   "execution_count": 33,
   "metadata": {
    "colab": {
     "base_uri": "https://localhost:8080/",
     "height": 187
    },
    "colab_type": "code",
    "id": "Zn-1qKZYF16H",
    "outputId": "f2e1a2e4-58b0-40e9-aae0-8975a531f692"
   },
   "outputs": [
    {
     "data": {
      "text/plain": [
       "[20.1304245283019,\n",
       " 20.1304245283019,\n",
       " 20.1304245283019,\n",
       " 20.1304245283019,\n",
       " 20.1304245283019,\n",
       " 20.1304245283019,\n",
       " 20.1304245283019,\n",
       " 20.1304245283019,\n",
       " 35.71923076923077,\n",
       " 35.71923076923077]"
      ]
     },
     "execution_count": 33,
     "metadata": {
      "tags": []
     },
     "output_type": "execute_result"
    }
   ],
   "source": [
    "# imprime as 10 primeiras linhas da lista de predicoes\n",
    "predicoes[:10]"
   ]
  },
  {
   "cell_type": "markdown",
   "metadata": {
    "colab_type": "text",
    "id": "CM3QVVQ-Ug5L"
   },
   "source": [
    "Atribuindo resultados a um dataframe\n",
    "\n",
    "-   `Manteremos um log ao longo do projeto`\n",
    "-   `Permite a evolução dado o baseline`\n",
    "\n"
   ]
  },
  {
   "cell_type": "code",
   "execution_count": 34,
   "metadata": {
    "colab": {},
    "colab_type": "code",
    "id": "dMr0oUucnuy-"
   },
   "outputs": [],
   "source": [
    "# cria um dataframe vazio\n",
    "df_results = pd.DataFrame()"
   ]
  },
  {
   "cell_type": "code",
   "execution_count": 35,
   "metadata": {
    "colab": {},
    "colab_type": "code",
    "id": "9T5FnjHnUDTA"
   },
   "outputs": [],
   "source": [
    "# adiciona a coluna valor_real\n",
    "df_results['valor_real'] = y_test.values"
   ]
  },
  {
   "cell_type": "code",
   "execution_count": 36,
   "metadata": {
    "colab": {},
    "colab_type": "code",
    "id": "seteWjL0UDL3"
   },
   "outputs": [],
   "source": [
    "# cria a coluna valor_predito_baseline com as predicoes\n",
    "df_results['valor_predito_baseline'] = predicoes"
   ]
  },
  {
   "cell_type": "code",
   "execution_count": 37,
   "metadata": {
    "colab": {
     "base_uri": "https://localhost:8080/",
     "height": 359
    },
    "colab_type": "code",
    "id": "6e34IoHyUC77",
    "outputId": "9c0bf753-8711-4565-832a-bedbc32bed3f"
   },
   "outputs": [
    {
     "data": {
      "text/html": [
       "<div>\n",
       "<style scoped>\n",
       "    .dataframe tbody tr th:only-of-type {\n",
       "        vertical-align: middle;\n",
       "    }\n",
       "\n",
       "    .dataframe tbody tr th {\n",
       "        vertical-align: top;\n",
       "    }\n",
       "\n",
       "    .dataframe thead th {\n",
       "        text-align: right;\n",
       "    }\n",
       "</style>\n",
       "<table border=\"1\" class=\"dataframe\">\n",
       "  <thead>\n",
       "    <tr style=\"text-align: right;\">\n",
       "      <th></th>\n",
       "      <th>valor_real</th>\n",
       "      <th>valor_predito_baseline</th>\n",
       "    </tr>\n",
       "  </thead>\n",
       "  <tbody>\n",
       "    <tr>\n",
       "      <th>0</th>\n",
       "      <td>18.5</td>\n",
       "      <td>20.130425</td>\n",
       "    </tr>\n",
       "    <tr>\n",
       "      <th>1</th>\n",
       "      <td>12.7</td>\n",
       "      <td>20.130425</td>\n",
       "    </tr>\n",
       "    <tr>\n",
       "      <th>2</th>\n",
       "      <td>21.4</td>\n",
       "      <td>20.130425</td>\n",
       "    </tr>\n",
       "    <tr>\n",
       "      <th>3</th>\n",
       "      <td>23.7</td>\n",
       "      <td>20.130425</td>\n",
       "    </tr>\n",
       "    <tr>\n",
       "      <th>4</th>\n",
       "      <td>20.8</td>\n",
       "      <td>20.130425</td>\n",
       "    </tr>\n",
       "    <tr>\n",
       "      <th>5</th>\n",
       "      <td>25.0</td>\n",
       "      <td>20.130425</td>\n",
       "    </tr>\n",
       "    <tr>\n",
       "      <th>6</th>\n",
       "      <td>9.7</td>\n",
       "      <td>20.130425</td>\n",
       "    </tr>\n",
       "    <tr>\n",
       "      <th>7</th>\n",
       "      <td>14.9</td>\n",
       "      <td>20.130425</td>\n",
       "    </tr>\n",
       "    <tr>\n",
       "      <th>8</th>\n",
       "      <td>34.9</td>\n",
       "      <td>35.719231</td>\n",
       "    </tr>\n",
       "    <tr>\n",
       "      <th>9</th>\n",
       "      <td>31.6</td>\n",
       "      <td>35.719231</td>\n",
       "    </tr>\n",
       "  </tbody>\n",
       "</table>\n",
       "</div>"
      ],
      "text/plain": [
       "   valor_real  valor_predito_baseline\n",
       "0        18.5               20.130425\n",
       "1        12.7               20.130425\n",
       "2        21.4               20.130425\n",
       "3        23.7               20.130425\n",
       "4        20.8               20.130425\n",
       "5        25.0               20.130425\n",
       "6         9.7               20.130425\n",
       "7        14.9               20.130425\n",
       "8        34.9               35.719231\n",
       "9        31.6               35.719231"
      ]
     },
     "execution_count": 37,
     "metadata": {
      "tags": []
     },
     "output_type": "execute_result"
    }
   ],
   "source": [
    "# imprimindo as 10 primeiras linhas do df_results\n",
    "df_results.head(10)"
   ]
  },
  {
   "cell_type": "markdown",
   "metadata": {
    "colab_type": "text",
    "id": "HNRa3fuzVX_6"
   },
   "source": [
    "Plota o valor real e o baseline"
   ]
  },
  {
   "cell_type": "code",
   "execution_count": 38,
   "metadata": {
    "colab": {
     "base_uri": "https://localhost:8080/",
     "height": 542
    },
    "colab_type": "code",
    "id": "wcrc2krAVJCN",
    "outputId": "537a51e4-f35e-4ca0-dc77-da2b3571eff3"
   },
   "outputs": [
    {
     "data": {
      "text/html": [
       "<html>\n",
       "<head><meta charset=\"utf-8\" /></head>\n",
       "<body>\n",
       "    <div>\n",
       "            <script src=\"https://cdnjs.cloudflare.com/ajax/libs/mathjax/2.7.5/MathJax.js?config=TeX-AMS-MML_SVG\"></script><script type=\"text/javascript\">if (window.MathJax) {MathJax.Hub.Config({SVG: {font: \"STIX-Web\"}});}</script>\n",
       "                <script type=\"text/javascript\">window.PlotlyConfig = {MathJaxConfig: 'local'};</script>\n",
       "        <script src=\"https://cdn.plot.ly/plotly-latest.min.js\"></script>    \n",
       "            <div id=\"0ff0689e-5de1-4d61-8e09-f88654e01e63\" class=\"plotly-graph-div\" style=\"height:525px; width:100%;\"></div>\n",
       "            <script type=\"text/javascript\">\n",
       "                \n",
       "                    window.PLOTLYENV=window.PLOTLYENV || {};\n",
       "                    \n",
       "                if (document.getElementById(\"0ff0689e-5de1-4d61-8e09-f88654e01e63\")) {\n",
       "                    Plotly.newPlot(\n",
       "                        '0ff0689e-5de1-4d61-8e09-f88654e01e63',\n",
       "                        [{\"mode\": \"lines+markers\", \"name\": \"Valor Real\", \"type\": \"scatter\", \"x\": [0, 1, 2, 3, 4, 5, 6, 7, 8, 9, 10, 11, 12, 13, 14, 15, 16, 17, 18, 19, 20, 21, 22, 23, 24, 25, 26, 27, 28, 29, 30, 31, 32, 33, 34, 35, 36, 37, 38, 39, 40, 41, 42, 43, 44, 45, 46, 47, 48, 49, 50, 51, 52, 53, 54, 55, 56, 57, 58, 59, 60, 61, 62, 63, 64, 65, 66, 67, 68, 69, 70, 71, 72, 73, 74, 75, 76, 77, 78, 79, 80, 81, 82, 83, 84, 85, 86, 87, 88, 89, 90, 91, 92, 93, 94, 95, 96, 97], \"y\": [18.5, 12.7, 21.4, 23.7, 20.8, 25.0, 9.7, 14.9, 34.9, 31.6, 24.7, 22.9, 33.2, 9.6, 30.5, 19.2, 30.3, 15.4, 24.3, 24.4, 21.5, 27.9, 17.3, 21.4, 21.7, 24.4, 8.5, 15.0, 11.5, 13.6, 24.4, 7.4, 44.0, 21.7, 19.3, 16.1, 29.0, 26.4, 20.3, 10.8, 5.0, 19.6, 23.1, 23.9, 17.5, 13.5, 48.8, 26.2, 19.7, 14.2, 11.0, 19.0, 21.7, 18.4, 33.4, 14.0, 24.7, 43.8, 48.5, 25.0, 22.6, 21.2, 22.4, 23.8, 19.9, 16.5, 16.7, 17.2, 13.1, 19.1, 18.5, 22.2, 22.6, 19.4, 15.2, 19.8, 19.4, 21.6, 18.2, 19.6, 19.6, 23.0, 7.0, 17.6, 25.0, 41.3, 24.1, 22.6, 18.7, 22.6, 13.1, 22.2, 16.1, 39.8, 25.0, 20.5, 10.4, 20.4]}, {\"mode\": \"lines+markers\", \"name\": \"Valor Predito Baseline\", \"type\": \"scatter\", \"x\": [0, 1, 2, 3, 4, 5, 6, 7, 8, 9, 10, 11, 12, 13, 14, 15, 16, 17, 18, 19, 20, 21, 22, 23, 24, 25, 26, 27, 28, 29, 30, 31, 32, 33, 34, 35, 36, 37, 38, 39, 40, 41, 42, 43, 44, 45, 46, 47, 48, 49, 50, 51, 52, 53, 54, 55, 56, 57, 58, 59, 60, 61, 62, 63, 64, 65, 66, 67, 68, 69, 70, 71, 72, 73, 74, 75, 76, 77, 78, 79, 80, 81, 82, 83, 84, 85, 86, 87, 88, 89, 90, 91, 92, 93, 94, 95, 96, 97], \"y\": [20.1304245283019, 20.1304245283019, 20.1304245283019, 20.1304245283019, 20.1304245283019, 20.1304245283019, 20.1304245283019, 20.1304245283019, 35.71923076923077, 35.71923076923077, 20.1304245283019, 20.1304245283019, 35.71923076923077, 20.1304245283019, 20.1304245283019, 20.1304245283019, 35.71923076923077, 20.1304245283019, 20.1304245283019, 20.1304245283019, 20.1304245283019, 20.1304245283019, 20.1304245283019, 20.1304245283019, 20.1304245283019, 20.1304245283019, 20.1304245283019, 35.71923076923077, 20.1304245283019, 20.1304245283019, 20.1304245283019, 20.1304245283019, 35.71923076923077, 20.1304245283019, 20.1304245283019, 14.921428571428574, 35.71923076923077, 20.1304245283019, 20.1304245283019, 20.1304245283019, 20.1304245283019, 20.1304245283019, 20.1304245283019, 20.1304245283019, 20.1304245283019, 20.1304245283019, 35.71923076923077, 20.1304245283019, 20.1304245283019, 20.1304245283019, 20.1304245283019, 20.1304245283019, 20.1304245283019, 20.1304245283019, 35.71923076923077, 20.1304245283019, 20.1304245283019, 35.71923076923077, 35.71923076923077, 20.1304245283019, 20.1304245283019, 20.1304245283019, 20.1304245283019, 20.1304245283019, 20.1304245283019, 20.1304245283019, 20.1304245283019, 20.1304245283019, 20.1304245283019, 20.1304245283019, 20.1304245283019, 20.1304245283019, 20.1304245283019, 20.1304245283019, 20.1304245283019, 20.1304245283019, 20.1304245283019, 20.1304245283019, 20.1304245283019, 20.1304245283019, 20.1304245283019, 20.1304245283019, 14.921428571428574, 20.1304245283019, 20.1304245283019, 20.1304245283019, 20.1304245283019, 20.1304245283019, 20.1304245283019, 20.1304245283019, 20.1304245283019, 20.1304245283019, 20.1304245283019, 35.71923076923077, 35.71923076923077, 20.1304245283019, 20.1304245283019, 20.1304245283019]}],\n",
       "                        {\"template\": {\"data\": {\"bar\": [{\"error_x\": {\"color\": \"#2a3f5f\"}, \"error_y\": {\"color\": \"#2a3f5f\"}, \"marker\": {\"line\": {\"color\": \"#E5ECF6\", \"width\": 0.5}}, \"type\": \"bar\"}], \"barpolar\": [{\"marker\": {\"line\": {\"color\": \"#E5ECF6\", \"width\": 0.5}}, \"type\": \"barpolar\"}], \"carpet\": [{\"aaxis\": {\"endlinecolor\": \"#2a3f5f\", \"gridcolor\": \"white\", \"linecolor\": \"white\", \"minorgridcolor\": \"white\", \"startlinecolor\": \"#2a3f5f\"}, \"baxis\": {\"endlinecolor\": \"#2a3f5f\", \"gridcolor\": \"white\", \"linecolor\": \"white\", \"minorgridcolor\": \"white\", \"startlinecolor\": \"#2a3f5f\"}, \"type\": \"carpet\"}], \"choropleth\": [{\"colorbar\": {\"outlinewidth\": 0, \"ticks\": \"\"}, \"type\": \"choropleth\"}], \"contour\": [{\"colorbar\": {\"outlinewidth\": 0, \"ticks\": \"\"}, \"colorscale\": [[0.0, \"#0d0887\"], [0.1111111111111111, \"#46039f\"], [0.2222222222222222, \"#7201a8\"], [0.3333333333333333, \"#9c179e\"], [0.4444444444444444, \"#bd3786\"], [0.5555555555555556, \"#d8576b\"], [0.6666666666666666, \"#ed7953\"], [0.7777777777777778, \"#fb9f3a\"], [0.8888888888888888, \"#fdca26\"], [1.0, \"#f0f921\"]], \"type\": \"contour\"}], \"contourcarpet\": [{\"colorbar\": {\"outlinewidth\": 0, \"ticks\": \"\"}, \"type\": \"contourcarpet\"}], \"heatmap\": [{\"colorbar\": {\"outlinewidth\": 0, \"ticks\": \"\"}, \"colorscale\": [[0.0, \"#0d0887\"], [0.1111111111111111, \"#46039f\"], [0.2222222222222222, \"#7201a8\"], [0.3333333333333333, \"#9c179e\"], [0.4444444444444444, \"#bd3786\"], [0.5555555555555556, \"#d8576b\"], [0.6666666666666666, \"#ed7953\"], [0.7777777777777778, \"#fb9f3a\"], [0.8888888888888888, \"#fdca26\"], [1.0, \"#f0f921\"]], \"type\": \"heatmap\"}], \"heatmapgl\": [{\"colorbar\": {\"outlinewidth\": 0, \"ticks\": \"\"}, \"colorscale\": [[0.0, \"#0d0887\"], [0.1111111111111111, \"#46039f\"], [0.2222222222222222, \"#7201a8\"], [0.3333333333333333, \"#9c179e\"], [0.4444444444444444, \"#bd3786\"], [0.5555555555555556, \"#d8576b\"], [0.6666666666666666, \"#ed7953\"], [0.7777777777777778, \"#fb9f3a\"], [0.8888888888888888, \"#fdca26\"], [1.0, \"#f0f921\"]], \"type\": \"heatmapgl\"}], \"histogram\": [{\"marker\": {\"colorbar\": {\"outlinewidth\": 0, \"ticks\": \"\"}}, \"type\": \"histogram\"}], \"histogram2d\": [{\"colorbar\": {\"outlinewidth\": 0, \"ticks\": \"\"}, \"colorscale\": [[0.0, \"#0d0887\"], [0.1111111111111111, \"#46039f\"], [0.2222222222222222, \"#7201a8\"], [0.3333333333333333, \"#9c179e\"], [0.4444444444444444, \"#bd3786\"], [0.5555555555555556, \"#d8576b\"], [0.6666666666666666, \"#ed7953\"], [0.7777777777777778, \"#fb9f3a\"], [0.8888888888888888, \"#fdca26\"], [1.0, \"#f0f921\"]], \"type\": \"histogram2d\"}], \"histogram2dcontour\": [{\"colorbar\": {\"outlinewidth\": 0, \"ticks\": \"\"}, \"colorscale\": [[0.0, \"#0d0887\"], [0.1111111111111111, \"#46039f\"], [0.2222222222222222, \"#7201a8\"], [0.3333333333333333, \"#9c179e\"], [0.4444444444444444, \"#bd3786\"], [0.5555555555555556, \"#d8576b\"], [0.6666666666666666, \"#ed7953\"], [0.7777777777777778, \"#fb9f3a\"], [0.8888888888888888, \"#fdca26\"], [1.0, \"#f0f921\"]], \"type\": \"histogram2dcontour\"}], \"mesh3d\": [{\"colorbar\": {\"outlinewidth\": 0, \"ticks\": \"\"}, \"type\": \"mesh3d\"}], \"parcoords\": [{\"line\": {\"colorbar\": {\"outlinewidth\": 0, \"ticks\": \"\"}}, \"type\": \"parcoords\"}], \"pie\": [{\"automargin\": true, \"type\": \"pie\"}], \"scatter\": [{\"marker\": {\"colorbar\": {\"outlinewidth\": 0, \"ticks\": \"\"}}, \"type\": \"scatter\"}], \"scatter3d\": [{\"line\": {\"colorbar\": {\"outlinewidth\": 0, \"ticks\": \"\"}}, \"marker\": {\"colorbar\": {\"outlinewidth\": 0, \"ticks\": \"\"}}, \"type\": \"scatter3d\"}], \"scattercarpet\": [{\"marker\": {\"colorbar\": {\"outlinewidth\": 0, \"ticks\": \"\"}}, \"type\": \"scattercarpet\"}], \"scattergeo\": [{\"marker\": {\"colorbar\": {\"outlinewidth\": 0, \"ticks\": \"\"}}, \"type\": \"scattergeo\"}], \"scattergl\": [{\"marker\": {\"colorbar\": {\"outlinewidth\": 0, \"ticks\": \"\"}}, \"type\": \"scattergl\"}], \"scattermapbox\": [{\"marker\": {\"colorbar\": {\"outlinewidth\": 0, \"ticks\": \"\"}}, \"type\": \"scattermapbox\"}], \"scatterpolar\": [{\"marker\": {\"colorbar\": {\"outlinewidth\": 0, \"ticks\": \"\"}}, \"type\": \"scatterpolar\"}], \"scatterpolargl\": [{\"marker\": {\"colorbar\": {\"outlinewidth\": 0, \"ticks\": \"\"}}, \"type\": \"scatterpolargl\"}], \"scatterternary\": [{\"marker\": {\"colorbar\": {\"outlinewidth\": 0, \"ticks\": \"\"}}, \"type\": \"scatterternary\"}], \"surface\": [{\"colorbar\": {\"outlinewidth\": 0, \"ticks\": \"\"}, \"colorscale\": [[0.0, \"#0d0887\"], [0.1111111111111111, \"#46039f\"], [0.2222222222222222, \"#7201a8\"], [0.3333333333333333, \"#9c179e\"], [0.4444444444444444, \"#bd3786\"], [0.5555555555555556, \"#d8576b\"], [0.6666666666666666, \"#ed7953\"], [0.7777777777777778, \"#fb9f3a\"], [0.8888888888888888, \"#fdca26\"], [1.0, \"#f0f921\"]], \"type\": \"surface\"}], \"table\": [{\"cells\": {\"fill\": {\"color\": \"#EBF0F8\"}, \"line\": {\"color\": \"white\"}}, \"header\": {\"fill\": {\"color\": \"#C8D4E3\"}, \"line\": {\"color\": \"white\"}}, \"type\": \"table\"}]}, \"layout\": {\"annotationdefaults\": {\"arrowcolor\": \"#2a3f5f\", \"arrowhead\": 0, \"arrowwidth\": 1}, \"coloraxis\": {\"colorbar\": {\"outlinewidth\": 0, \"ticks\": \"\"}}, \"colorscale\": {\"diverging\": [[0, \"#8e0152\"], [0.1, \"#c51b7d\"], [0.2, \"#de77ae\"], [0.3, \"#f1b6da\"], [0.4, \"#fde0ef\"], [0.5, \"#f7f7f7\"], [0.6, \"#e6f5d0\"], [0.7, \"#b8e186\"], [0.8, \"#7fbc41\"], [0.9, \"#4d9221\"], [1, \"#276419\"]], \"sequential\": [[0.0, \"#0d0887\"], [0.1111111111111111, \"#46039f\"], [0.2222222222222222, \"#7201a8\"], [0.3333333333333333, \"#9c179e\"], [0.4444444444444444, \"#bd3786\"], [0.5555555555555556, \"#d8576b\"], [0.6666666666666666, \"#ed7953\"], [0.7777777777777778, \"#fb9f3a\"], [0.8888888888888888, \"#fdca26\"], [1.0, \"#f0f921\"]], \"sequentialminus\": [[0.0, \"#0d0887\"], [0.1111111111111111, \"#46039f\"], [0.2222222222222222, \"#7201a8\"], [0.3333333333333333, \"#9c179e\"], [0.4444444444444444, \"#bd3786\"], [0.5555555555555556, \"#d8576b\"], [0.6666666666666666, \"#ed7953\"], [0.7777777777777778, \"#fb9f3a\"], [0.8888888888888888, \"#fdca26\"], [1.0, \"#f0f921\"]]}, \"colorway\": [\"#636efa\", \"#EF553B\", \"#00cc96\", \"#ab63fa\", \"#FFA15A\", \"#19d3f3\", \"#FF6692\", \"#B6E880\", \"#FF97FF\", \"#FECB52\"], \"font\": {\"color\": \"#2a3f5f\"}, \"geo\": {\"bgcolor\": \"white\", \"lakecolor\": \"white\", \"landcolor\": \"#E5ECF6\", \"showlakes\": true, \"showland\": true, \"subunitcolor\": \"white\"}, \"hoverlabel\": {\"align\": \"left\"}, \"hovermode\": \"closest\", \"mapbox\": {\"style\": \"light\"}, \"paper_bgcolor\": \"white\", \"plot_bgcolor\": \"#E5ECF6\", \"polar\": {\"angularaxis\": {\"gridcolor\": \"white\", \"linecolor\": \"white\", \"ticks\": \"\"}, \"bgcolor\": \"#E5ECF6\", \"radialaxis\": {\"gridcolor\": \"white\", \"linecolor\": \"white\", \"ticks\": \"\"}}, \"scene\": {\"xaxis\": {\"backgroundcolor\": \"#E5ECF6\", \"gridcolor\": \"white\", \"gridwidth\": 2, \"linecolor\": \"white\", \"showbackground\": true, \"ticks\": \"\", \"zerolinecolor\": \"white\"}, \"yaxis\": {\"backgroundcolor\": \"#E5ECF6\", \"gridcolor\": \"white\", \"gridwidth\": 2, \"linecolor\": \"white\", \"showbackground\": true, \"ticks\": \"\", \"zerolinecolor\": \"white\"}, \"zaxis\": {\"backgroundcolor\": \"#E5ECF6\", \"gridcolor\": \"white\", \"gridwidth\": 2, \"linecolor\": \"white\", \"showbackground\": true, \"ticks\": \"\", \"zerolinecolor\": \"white\"}}, \"shapedefaults\": {\"line\": {\"color\": \"#2a3f5f\"}}, \"ternary\": {\"aaxis\": {\"gridcolor\": \"white\", \"linecolor\": \"white\", \"ticks\": \"\"}, \"baxis\": {\"gridcolor\": \"white\", \"linecolor\": \"white\", \"ticks\": \"\"}, \"bgcolor\": \"#E5ECF6\", \"caxis\": {\"gridcolor\": \"white\", \"linecolor\": \"white\", \"ticks\": \"\"}}, \"title\": {\"x\": 0.05}, \"xaxis\": {\"automargin\": true, \"gridcolor\": \"white\", \"linecolor\": \"white\", \"ticks\": \"\", \"title\": {\"standoff\": 15}, \"zerolinecolor\": \"white\", \"zerolinewidth\": 2}, \"yaxis\": {\"automargin\": true, \"gridcolor\": \"white\", \"linecolor\": \"white\", \"ticks\": \"\", \"title\": {\"standoff\": 15}, \"zerolinecolor\": \"white\", \"zerolinewidth\": 2}}}},\n",
       "                        {\"responsive\": true}\n",
       "                    ).then(function(){\n",
       "                            \n",
       "var gd = document.getElementById('0ff0689e-5de1-4d61-8e09-f88654e01e63');\n",
       "var x = new MutationObserver(function (mutations, observer) {{\n",
       "        var display = window.getComputedStyle(gd).display;\n",
       "        if (!display || display === 'none') {{\n",
       "            console.log([gd, 'removed!']);\n",
       "            Plotly.purge(gd);\n",
       "            observer.disconnect();\n",
       "        }}\n",
       "}});\n",
       "\n",
       "// Listen for the removal of the full notebook cells\n",
       "var notebookContainer = gd.closest('#notebook-container');\n",
       "if (notebookContainer) {{\n",
       "    x.observe(notebookContainer, {childList: true});\n",
       "}}\n",
       "\n",
       "// Listen for the clearing of the current output cell\n",
       "var outputEl = gd.closest('.output');\n",
       "if (outputEl) {{\n",
       "    x.observe(outputEl, {childList: true});\n",
       "}}\n",
       "\n",
       "                        })\n",
       "                };\n",
       "                \n",
       "            </script>\n",
       "        </div>\n",
       "</body>\n",
       "</html>"
      ]
     },
     "metadata": {
      "tags": []
     },
     "output_type": "display_data"
    }
   ],
   "source": [
    "import plotly.graph_objects as go\n",
    "\n",
    "# Create traces\n",
    "fig = go.Figure()\n",
    "\n",
    "# Linha com os dados de teste\n",
    "fig.add_trace(go.Scatter(x=df_results.index,\n",
    "                         y=df_results.valor_real,\n",
    "                         mode='lines+markers',\n",
    "                         name='Valor Real'))\n",
    "\n",
    "# Linha com os dados preditos\n",
    "fig.add_trace(go.Scatter(x=df_results.index,\n",
    "                         y=df_results.valor_predito_baseline,\n",
    "                         mode='lines+markers',\n",
    "                         name='Valor Predito Baseline'))\n",
    "# Plota a figura\n",
    "fig.show()"
   ]
  },
  {
   "cell_type": "markdown",
   "metadata": {
    "colab_type": "text",
    "id": "IUt81GVWGHLb"
   },
   "source": [
    "Avaliação do modelo baseline"
   ]
  },
  {
   "cell_type": "code",
   "execution_count": 39,
   "metadata": {
    "colab": {},
    "colab_type": "code",
    "id": "ACJFie9JF7iq"
   },
   "outputs": [],
   "source": [
    "# calcula a métrica rmse\n",
    "from sklearn.metrics import mean_squared_error\n",
    "from math import sqrt"
   ]
  },
  {
   "cell_type": "code",
   "execution_count": 40,
   "metadata": {
    "colab": {},
    "colab_type": "code",
    "id": "6UO0iZm44Gl_"
   },
   "outputs": [],
   "source": [
    "rmse = (np.sqrt(mean_squared_error(y_test, predicoes)))"
   ]
  },
  {
   "cell_type": "code",
   "execution_count": 41,
   "metadata": {
    "colab": {
     "base_uri": "https://localhost:8080/",
     "height": 68
    },
    "colab_type": "code",
    "id": "aFThM7L9GDA6",
    "outputId": "72d6907c-6297-40f0-e290-da26a3c6a512"
   },
   "outputs": [
    {
     "name": "stdout",
     "output_type": "stream",
     "text": [
      "Performance do modelo baseline:\n",
      "\n",
      "RMSE é: 6.205816494411828 \n"
     ]
    }
   ],
   "source": [
    "# imprime a performance do modelo\n",
    "print ('Performance do modelo baseline:')\n",
    "print('\\nRMSE é: {} '.format(rmse))"
   ]
  },
  {
   "cell_type": "markdown",
   "metadata": {
    "colab_type": "text",
    "id": "6jL-gszHYgZY"
   },
   "source": [
    "### Machine Learning"
   ]
  },
  {
   "cell_type": "markdown",
   "metadata": {
    "colab_type": "text",
    "id": "8rokdiRpzTry"
   },
   "source": [
    "#### Regressão Linear"
   ]
  },
  {
   "cell_type": "markdown",
   "metadata": {
    "colab_type": "text",
    "id": "nEbWBlL3Ir9M"
   },
   "source": [
    "- `Devido a correlação entre algumas features podemos usar uma regressão linear.`\n",
    "- `Modelo simples e eficiente.`\n",
    "- `Solução rápida e robusta.`"
   ]
  },
  {
   "cell_type": "code",
   "execution_count": 42,
   "metadata": {
    "colab": {},
    "colab_type": "code",
    "id": "xy7zx_pJIw6e"
   },
   "outputs": [],
   "source": [
    "# carrega o pacote LinearRegression\n",
    "from sklearn.linear_model import LinearRegression"
   ]
  },
  {
   "cell_type": "code",
   "execution_count": 43,
   "metadata": {
    "colab": {},
    "colab_type": "code",
    "id": "fRgZ6NHUfvzM"
   },
   "outputs": [],
   "source": [
    "# cria o objeto do tipo LinearRegression\n",
    "lin_model = LinearRegression()"
   ]
  },
  {
   "cell_type": "code",
   "execution_count": 44,
   "metadata": {
    "colab": {
     "base_uri": "https://localhost:8080/",
     "height": 34
    },
    "colab_type": "code",
    "id": "EP4-r-x9fyMF",
    "outputId": "52482c9f-ba5b-4edf-a396-9ed0b1340305"
   },
   "outputs": [
    {
     "data": {
      "text/plain": [
       "LinearRegression(copy_X=True, fit_intercept=True, n_jobs=None, normalize=False)"
      ]
     },
     "execution_count": 44,
     "metadata": {
      "tags": []
     },
     "output_type": "execute_result"
    }
   ],
   "source": [
    "# treina o algoritmo de regressão linear\n",
    "lin_model.fit(X_train, y_train)"
   ]
  },
  {
   "cell_type": "code",
   "execution_count": 45,
   "metadata": {
    "colab": {},
    "colab_type": "code",
    "id": "XwIaD1k1NVzg"
   },
   "outputs": [],
   "source": [
    "# avaliação do modelo nos dados de teste\n",
    "y_pred = lin_model.predict(X_test)"
   ]
  },
  {
   "cell_type": "code",
   "execution_count": 46,
   "metadata": {
    "colab": {},
    "colab_type": "code",
    "id": "Wx7arH2JoHGU"
   },
   "outputs": [],
   "source": [
    "# calcula a métrica rmse\n",
    "rmse = (np.sqrt(mean_squared_error(y_test, y_pred)))"
   ]
  },
  {
   "cell_type": "code",
   "execution_count": 47,
   "metadata": {
    "colab": {
     "base_uri": "https://localhost:8080/",
     "height": 68
    },
    "colab_type": "code",
    "id": "zi54cRQwNcPm",
    "outputId": "ab18a5b2-9c0d-4183-81e9-e8a3f3d71e10"
   },
   "outputs": [
    {
     "name": "stdout",
     "output_type": "stream",
     "text": [
      "Performance do modelo avaliado com os dados de teste:\n",
      "\n",
      "RMSE é: 4.460277295153906 \n"
     ]
    }
   ],
   "source": [
    "# imprime a performance do modelo\n",
    "print ('Performance do modelo avaliado com os dados de teste:')\n",
    "print('\\nRMSE é: {} '.format(rmse))"
   ]
  },
  {
   "cell_type": "code",
   "execution_count": 48,
   "metadata": {
    "colab": {},
    "colab_type": "code",
    "id": "Fc4Cy6ehSRz7"
   },
   "outputs": [],
   "source": [
    "# atribui os resultados no dataframe df_results\n",
    "df_results['valor_predito_reg_linear'] = lin_model.predict(X_test)"
   ]
  },
  {
   "cell_type": "code",
   "execution_count": 49,
   "metadata": {
    "colab": {
     "base_uri": "https://localhost:8080/",
     "height": 359
    },
    "colab_type": "code",
    "id": "vY6sddMASRrj",
    "outputId": "11157e6c-039c-4200-9fad-16bd225eb221"
   },
   "outputs": [
    {
     "data": {
      "text/html": [
       "<div>\n",
       "<style scoped>\n",
       "    .dataframe tbody tr th:only-of-type {\n",
       "        vertical-align: middle;\n",
       "    }\n",
       "\n",
       "    .dataframe tbody tr th {\n",
       "        vertical-align: top;\n",
       "    }\n",
       "\n",
       "    .dataframe thead th {\n",
       "        text-align: right;\n",
       "    }\n",
       "</style>\n",
       "<table border=\"1\" class=\"dataframe\">\n",
       "  <thead>\n",
       "    <tr style=\"text-align: right;\">\n",
       "      <th></th>\n",
       "      <th>valor_real</th>\n",
       "      <th>valor_predito_baseline</th>\n",
       "      <th>valor_predito_reg_linear</th>\n",
       "    </tr>\n",
       "  </thead>\n",
       "  <tbody>\n",
       "    <tr>\n",
       "      <th>0</th>\n",
       "      <td>18.5</td>\n",
       "      <td>20.130425</td>\n",
       "      <td>18.459170</td>\n",
       "    </tr>\n",
       "    <tr>\n",
       "      <th>1</th>\n",
       "      <td>12.7</td>\n",
       "      <td>20.130425</td>\n",
       "      <td>12.279894</td>\n",
       "    </tr>\n",
       "    <tr>\n",
       "      <th>2</th>\n",
       "      <td>21.4</td>\n",
       "      <td>20.130425</td>\n",
       "      <td>24.588307</td>\n",
       "    </tr>\n",
       "    <tr>\n",
       "      <th>3</th>\n",
       "      <td>23.7</td>\n",
       "      <td>20.130425</td>\n",
       "      <td>28.254693</td>\n",
       "    </tr>\n",
       "    <tr>\n",
       "      <th>4</th>\n",
       "      <td>20.8</td>\n",
       "      <td>20.130425</td>\n",
       "      <td>18.195439</td>\n",
       "    </tr>\n",
       "    <tr>\n",
       "      <th>5</th>\n",
       "      <td>25.0</td>\n",
       "      <td>20.130425</td>\n",
       "      <td>21.630648</td>\n",
       "    </tr>\n",
       "    <tr>\n",
       "      <th>6</th>\n",
       "      <td>9.7</td>\n",
       "      <td>20.130425</td>\n",
       "      <td>11.319198</td>\n",
       "    </tr>\n",
       "    <tr>\n",
       "      <th>7</th>\n",
       "      <td>14.9</td>\n",
       "      <td>20.130425</td>\n",
       "      <td>14.561032</td>\n",
       "    </tr>\n",
       "    <tr>\n",
       "      <th>8</th>\n",
       "      <td>34.9</td>\n",
       "      <td>35.719231</td>\n",
       "      <td>31.623717</td>\n",
       "    </tr>\n",
       "    <tr>\n",
       "      <th>9</th>\n",
       "      <td>31.6</td>\n",
       "      <td>35.719231</td>\n",
       "      <td>29.588133</td>\n",
       "    </tr>\n",
       "  </tbody>\n",
       "</table>\n",
       "</div>"
      ],
      "text/plain": [
       "   valor_real  valor_predito_baseline  valor_predito_reg_linear\n",
       "0        18.5               20.130425                 18.459170\n",
       "1        12.7               20.130425                 12.279894\n",
       "2        21.4               20.130425                 24.588307\n",
       "3        23.7               20.130425                 28.254693\n",
       "4        20.8               20.130425                 18.195439\n",
       "5        25.0               20.130425                 21.630648\n",
       "6         9.7               20.130425                 11.319198\n",
       "7        14.9               20.130425                 14.561032\n",
       "8        34.9               35.719231                 31.623717\n",
       "9        31.6               35.719231                 29.588133"
      ]
     },
     "execution_count": 49,
     "metadata": {
      "tags": []
     },
     "output_type": "execute_result"
    }
   ],
   "source": [
    "df_results.head(10)"
   ]
  },
  {
   "cell_type": "code",
   "execution_count": 50,
   "metadata": {
    "colab": {
     "base_uri": "https://localhost:8080/",
     "height": 542
    },
    "colab_type": "code",
    "id": "qojh6XHzSDHZ",
    "outputId": "2a40e86a-f45b-406b-c12c-a6388e7203cd"
   },
   "outputs": [
    {
     "data": {
      "text/html": [
       "<html>\n",
       "<head><meta charset=\"utf-8\" /></head>\n",
       "<body>\n",
       "    <div>\n",
       "            <script src=\"https://cdnjs.cloudflare.com/ajax/libs/mathjax/2.7.5/MathJax.js?config=TeX-AMS-MML_SVG\"></script><script type=\"text/javascript\">if (window.MathJax) {MathJax.Hub.Config({SVG: {font: \"STIX-Web\"}});}</script>\n",
       "                <script type=\"text/javascript\">window.PlotlyConfig = {MathJaxConfig: 'local'};</script>\n",
       "        <script src=\"https://cdn.plot.ly/plotly-latest.min.js\"></script>    \n",
       "            <div id=\"eda70764-f03d-4720-b50e-c3f25c8cd900\" class=\"plotly-graph-div\" style=\"height:525px; width:100%;\"></div>\n",
       "            <script type=\"text/javascript\">\n",
       "                \n",
       "                    window.PLOTLYENV=window.PLOTLYENV || {};\n",
       "                    \n",
       "                if (document.getElementById(\"eda70764-f03d-4720-b50e-c3f25c8cd900\")) {\n",
       "                    Plotly.newPlot(\n",
       "                        'eda70764-f03d-4720-b50e-c3f25c8cd900',\n",
       "                        [{\"mode\": \"lines+markers\", \"name\": \"Valor Real\", \"type\": \"scatter\", \"x\": [0, 1, 2, 3, 4, 5, 6, 7, 8, 9, 10, 11, 12, 13, 14, 15, 16, 17, 18, 19, 20, 21, 22, 23, 24, 25, 26, 27, 28, 29, 30, 31, 32, 33, 34, 35, 36, 37, 38, 39, 40, 41, 42, 43, 44, 45, 46, 47, 48, 49, 50, 51, 52, 53, 54, 55, 56, 57, 58, 59, 60, 61, 62, 63, 64, 65, 66, 67, 68, 69, 70, 71, 72, 73, 74, 75, 76, 77, 78, 79, 80, 81, 82, 83, 84, 85, 86, 87, 88, 89, 90, 91, 92, 93, 94, 95, 96, 97], \"y\": [18.5, 12.7, 21.4, 23.7, 20.8, 25.0, 9.7, 14.9, 34.9, 31.6, 24.7, 22.9, 33.2, 9.6, 30.5, 19.2, 30.3, 15.4, 24.3, 24.4, 21.5, 27.9, 17.3, 21.4, 21.7, 24.4, 8.5, 15.0, 11.5, 13.6, 24.4, 7.4, 44.0, 21.7, 19.3, 16.1, 29.0, 26.4, 20.3, 10.8, 5.0, 19.6, 23.1, 23.9, 17.5, 13.5, 48.8, 26.2, 19.7, 14.2, 11.0, 19.0, 21.7, 18.4, 33.4, 14.0, 24.7, 43.8, 48.5, 25.0, 22.6, 21.2, 22.4, 23.8, 19.9, 16.5, 16.7, 17.2, 13.1, 19.1, 18.5, 22.2, 22.6, 19.4, 15.2, 19.8, 19.4, 21.6, 18.2, 19.6, 19.6, 23.0, 7.0, 17.6, 25.0, 41.3, 24.1, 22.6, 18.7, 22.6, 13.1, 22.2, 16.1, 39.8, 25.0, 20.5, 10.4, 20.4]}, {\"mode\": \"lines+markers\", \"name\": \"Baseline\", \"type\": \"scatter\", \"x\": [0, 1, 2, 3, 4, 5, 6, 7, 8, 9, 10, 11, 12, 13, 14, 15, 16, 17, 18, 19, 20, 21, 22, 23, 24, 25, 26, 27, 28, 29, 30, 31, 32, 33, 34, 35, 36, 37, 38, 39, 40, 41, 42, 43, 44, 45, 46, 47, 48, 49, 50, 51, 52, 53, 54, 55, 56, 57, 58, 59, 60, 61, 62, 63, 64, 65, 66, 67, 68, 69, 70, 71, 72, 73, 74, 75, 76, 77, 78, 79, 80, 81, 82, 83, 84, 85, 86, 87, 88, 89, 90, 91, 92, 93, 94, 95, 96, 97], \"y\": [20.1304245283019, 20.1304245283019, 20.1304245283019, 20.1304245283019, 20.1304245283019, 20.1304245283019, 20.1304245283019, 20.1304245283019, 35.71923076923077, 35.71923076923077, 20.1304245283019, 20.1304245283019, 35.71923076923077, 20.1304245283019, 20.1304245283019, 20.1304245283019, 35.71923076923077, 20.1304245283019, 20.1304245283019, 20.1304245283019, 20.1304245283019, 20.1304245283019, 20.1304245283019, 20.1304245283019, 20.1304245283019, 20.1304245283019, 20.1304245283019, 35.71923076923077, 20.1304245283019, 20.1304245283019, 20.1304245283019, 20.1304245283019, 35.71923076923077, 20.1304245283019, 20.1304245283019, 14.921428571428574, 35.71923076923077, 20.1304245283019, 20.1304245283019, 20.1304245283019, 20.1304245283019, 20.1304245283019, 20.1304245283019, 20.1304245283019, 20.1304245283019, 20.1304245283019, 35.71923076923077, 20.1304245283019, 20.1304245283019, 20.1304245283019, 20.1304245283019, 20.1304245283019, 20.1304245283019, 20.1304245283019, 35.71923076923077, 20.1304245283019, 20.1304245283019, 35.71923076923077, 35.71923076923077, 20.1304245283019, 20.1304245283019, 20.1304245283019, 20.1304245283019, 20.1304245283019, 20.1304245283019, 20.1304245283019, 20.1304245283019, 20.1304245283019, 20.1304245283019, 20.1304245283019, 20.1304245283019, 20.1304245283019, 20.1304245283019, 20.1304245283019, 20.1304245283019, 20.1304245283019, 20.1304245283019, 20.1304245283019, 20.1304245283019, 20.1304245283019, 20.1304245283019, 20.1304245283019, 14.921428571428574, 20.1304245283019, 20.1304245283019, 20.1304245283019, 20.1304245283019, 20.1304245283019, 20.1304245283019, 20.1304245283019, 20.1304245283019, 20.1304245283019, 20.1304245283019, 35.71923076923077, 35.71923076923077, 20.1304245283019, 20.1304245283019, 20.1304245283019]}, {\"line\": {\"color\": \"#FEBFB3\"}, \"mode\": \"lines\", \"name\": \"Valor Predito Regress\\u00e3o Linear\", \"type\": \"scatter\", \"x\": [0, 1, 2, 3, 4, 5, 6, 7, 8, 9, 10, 11, 12, 13, 14, 15, 16, 17, 18, 19, 20, 21, 22, 23, 24, 25, 26, 27, 28, 29, 30, 31, 32, 33, 34, 35, 36, 37, 38, 39, 40, 41, 42, 43, 44, 45, 46, 47, 48, 49, 50, 51, 52, 53, 54, 55, 56, 57, 58, 59, 60, 61, 62, 63, 64, 65, 66, 67, 68, 69, 70, 71, 72, 73, 74, 75, 76, 77, 78, 79, 80, 81, 82, 83, 84, 85, 86, 87, 88, 89, 90, 91, 92, 93, 94, 95, 96, 97], \"y\": [18.459169620175622, 12.27989416415651, 24.588306565387423, 28.254693280668697, 18.195438537343797, 21.630648235689588, 11.31919803094615, 14.561032219959813, 31.623716773040094, 29.588132607557007, 28.60393601525742, 26.482125815783224, 29.966034207781306, 14.553173045326115, 30.278248711999723, 24.63003915876186, 33.23345824950145, 16.931248570273684, 24.99446421909778, 26.466441440860127, 22.813639524070087, 27.103390731816347, 12.524996632311225, 19.37929751974933, 21.581545971002537, 23.877006702039054, 14.085855797820356, 21.230146967559786, 13.643973122717863, 14.716712882017276, 25.80016154201209, 7.867171947538868, 33.02051098404501, 26.045218917809276, 24.03678166511637, 17.775403456686533, 33.22709163662169, 27.517944398741662, 21.187383562583435, 10.957868727277681, 7.507685772949113, 19.418586584539916, 27.393339951286585, 23.8410182563615, 24.74227083856386, 16.990723698020265, 35.47974424493103, 26.159912917617135, 22.49691218178387, 17.904788196114122, 14.154116782257066, 21.181885684574734, 20.624525388320667, 21.177587641065532, 29.49552122400647, 14.23004112679746, 26.544112805265772, 31.0880450668066, 33.726935599253906, 24.891581735351775, 24.187944371239205, 23.864725908860084, 22.05278167361648, 21.38994045785447, 18.845951646544716, 27.841582054943295, 17.93632331758325, 13.823897089289773, 17.676139911036124, 19.29463827968289, 20.582306559638138, 25.390649846634087, 26.23596042344075, 18.89486986816471, 14.74830291774068, 26.818675625015647, 24.878238751496404, 25.213916812117624, 21.19251508313218, 20.512703338801487, 18.270477629632566, 21.37039101688553, -0.09444264955234871, 20.958291503542682, 28.552537591219135, 28.0218620799915, 27.66690749195503, 21.458421647169153, 21.377824334771667, 27.621006503404928, 16.075247361056483, 26.092542124103044, 17.756087552806495, 29.38959640373895, 25.474439973258512, 15.839468986221018, 8.44698583407828, 20.760205429443275]}],\n",
       "                        {\"template\": {\"data\": {\"bar\": [{\"error_x\": {\"color\": \"#2a3f5f\"}, \"error_y\": {\"color\": \"#2a3f5f\"}, \"marker\": {\"line\": {\"color\": \"#E5ECF6\", \"width\": 0.5}}, \"type\": \"bar\"}], \"barpolar\": [{\"marker\": {\"line\": {\"color\": \"#E5ECF6\", \"width\": 0.5}}, \"type\": \"barpolar\"}], \"carpet\": [{\"aaxis\": {\"endlinecolor\": \"#2a3f5f\", \"gridcolor\": \"white\", \"linecolor\": \"white\", \"minorgridcolor\": \"white\", \"startlinecolor\": \"#2a3f5f\"}, \"baxis\": {\"endlinecolor\": \"#2a3f5f\", \"gridcolor\": \"white\", \"linecolor\": \"white\", \"minorgridcolor\": \"white\", \"startlinecolor\": \"#2a3f5f\"}, \"type\": \"carpet\"}], \"choropleth\": [{\"colorbar\": {\"outlinewidth\": 0, \"ticks\": \"\"}, \"type\": \"choropleth\"}], \"contour\": [{\"colorbar\": {\"outlinewidth\": 0, \"ticks\": \"\"}, \"colorscale\": [[0.0, \"#0d0887\"], [0.1111111111111111, \"#46039f\"], [0.2222222222222222, \"#7201a8\"], [0.3333333333333333, \"#9c179e\"], [0.4444444444444444, \"#bd3786\"], [0.5555555555555556, \"#d8576b\"], [0.6666666666666666, \"#ed7953\"], [0.7777777777777778, \"#fb9f3a\"], [0.8888888888888888, \"#fdca26\"], [1.0, \"#f0f921\"]], \"type\": \"contour\"}], \"contourcarpet\": [{\"colorbar\": {\"outlinewidth\": 0, \"ticks\": \"\"}, \"type\": \"contourcarpet\"}], \"heatmap\": [{\"colorbar\": {\"outlinewidth\": 0, \"ticks\": \"\"}, \"colorscale\": [[0.0, \"#0d0887\"], [0.1111111111111111, \"#46039f\"], [0.2222222222222222, \"#7201a8\"], [0.3333333333333333, \"#9c179e\"], [0.4444444444444444, \"#bd3786\"], [0.5555555555555556, \"#d8576b\"], [0.6666666666666666, \"#ed7953\"], [0.7777777777777778, \"#fb9f3a\"], [0.8888888888888888, \"#fdca26\"], [1.0, \"#f0f921\"]], \"type\": \"heatmap\"}], \"heatmapgl\": [{\"colorbar\": {\"outlinewidth\": 0, \"ticks\": \"\"}, \"colorscale\": [[0.0, \"#0d0887\"], [0.1111111111111111, \"#46039f\"], [0.2222222222222222, \"#7201a8\"], [0.3333333333333333, \"#9c179e\"], [0.4444444444444444, \"#bd3786\"], [0.5555555555555556, \"#d8576b\"], [0.6666666666666666, \"#ed7953\"], [0.7777777777777778, \"#fb9f3a\"], [0.8888888888888888, \"#fdca26\"], [1.0, \"#f0f921\"]], \"type\": \"heatmapgl\"}], \"histogram\": [{\"marker\": {\"colorbar\": {\"outlinewidth\": 0, \"ticks\": \"\"}}, \"type\": \"histogram\"}], \"histogram2d\": [{\"colorbar\": {\"outlinewidth\": 0, \"ticks\": \"\"}, \"colorscale\": [[0.0, \"#0d0887\"], [0.1111111111111111, \"#46039f\"], [0.2222222222222222, \"#7201a8\"], [0.3333333333333333, \"#9c179e\"], [0.4444444444444444, \"#bd3786\"], [0.5555555555555556, \"#d8576b\"], [0.6666666666666666, \"#ed7953\"], [0.7777777777777778, \"#fb9f3a\"], [0.8888888888888888, \"#fdca26\"], [1.0, \"#f0f921\"]], \"type\": \"histogram2d\"}], \"histogram2dcontour\": [{\"colorbar\": {\"outlinewidth\": 0, \"ticks\": \"\"}, \"colorscale\": [[0.0, \"#0d0887\"], [0.1111111111111111, \"#46039f\"], [0.2222222222222222, \"#7201a8\"], [0.3333333333333333, \"#9c179e\"], [0.4444444444444444, \"#bd3786\"], [0.5555555555555556, \"#d8576b\"], [0.6666666666666666, \"#ed7953\"], [0.7777777777777778, \"#fb9f3a\"], [0.8888888888888888, \"#fdca26\"], [1.0, \"#f0f921\"]], \"type\": \"histogram2dcontour\"}], \"mesh3d\": [{\"colorbar\": {\"outlinewidth\": 0, \"ticks\": \"\"}, \"type\": \"mesh3d\"}], \"parcoords\": [{\"line\": {\"colorbar\": {\"outlinewidth\": 0, \"ticks\": \"\"}}, \"type\": \"parcoords\"}], \"pie\": [{\"automargin\": true, \"type\": \"pie\"}], \"scatter\": [{\"marker\": {\"colorbar\": {\"outlinewidth\": 0, \"ticks\": \"\"}}, \"type\": \"scatter\"}], \"scatter3d\": [{\"line\": {\"colorbar\": {\"outlinewidth\": 0, \"ticks\": \"\"}}, \"marker\": {\"colorbar\": {\"outlinewidth\": 0, \"ticks\": \"\"}}, \"type\": \"scatter3d\"}], \"scattercarpet\": [{\"marker\": {\"colorbar\": {\"outlinewidth\": 0, \"ticks\": \"\"}}, \"type\": \"scattercarpet\"}], \"scattergeo\": [{\"marker\": {\"colorbar\": {\"outlinewidth\": 0, \"ticks\": \"\"}}, \"type\": \"scattergeo\"}], \"scattergl\": [{\"marker\": {\"colorbar\": {\"outlinewidth\": 0, \"ticks\": \"\"}}, \"type\": \"scattergl\"}], \"scattermapbox\": [{\"marker\": {\"colorbar\": {\"outlinewidth\": 0, \"ticks\": \"\"}}, \"type\": \"scattermapbox\"}], \"scatterpolar\": [{\"marker\": {\"colorbar\": {\"outlinewidth\": 0, \"ticks\": \"\"}}, \"type\": \"scatterpolar\"}], \"scatterpolargl\": [{\"marker\": {\"colorbar\": {\"outlinewidth\": 0, \"ticks\": \"\"}}, \"type\": \"scatterpolargl\"}], \"scatterternary\": [{\"marker\": {\"colorbar\": {\"outlinewidth\": 0, \"ticks\": \"\"}}, \"type\": \"scatterternary\"}], \"surface\": [{\"colorbar\": {\"outlinewidth\": 0, \"ticks\": \"\"}, \"colorscale\": [[0.0, \"#0d0887\"], [0.1111111111111111, \"#46039f\"], [0.2222222222222222, \"#7201a8\"], [0.3333333333333333, \"#9c179e\"], [0.4444444444444444, \"#bd3786\"], [0.5555555555555556, \"#d8576b\"], [0.6666666666666666, \"#ed7953\"], [0.7777777777777778, \"#fb9f3a\"], [0.8888888888888888, \"#fdca26\"], [1.0, \"#f0f921\"]], \"type\": \"surface\"}], \"table\": [{\"cells\": {\"fill\": {\"color\": \"#EBF0F8\"}, \"line\": {\"color\": \"white\"}}, \"header\": {\"fill\": {\"color\": \"#C8D4E3\"}, \"line\": {\"color\": \"white\"}}, \"type\": \"table\"}]}, \"layout\": {\"annotationdefaults\": {\"arrowcolor\": \"#2a3f5f\", \"arrowhead\": 0, \"arrowwidth\": 1}, \"coloraxis\": {\"colorbar\": {\"outlinewidth\": 0, \"ticks\": \"\"}}, \"colorscale\": {\"diverging\": [[0, \"#8e0152\"], [0.1, \"#c51b7d\"], [0.2, \"#de77ae\"], [0.3, \"#f1b6da\"], [0.4, \"#fde0ef\"], [0.5, \"#f7f7f7\"], [0.6, \"#e6f5d0\"], [0.7, \"#b8e186\"], [0.8, \"#7fbc41\"], [0.9, \"#4d9221\"], [1, \"#276419\"]], \"sequential\": [[0.0, \"#0d0887\"], [0.1111111111111111, \"#46039f\"], [0.2222222222222222, \"#7201a8\"], [0.3333333333333333, \"#9c179e\"], [0.4444444444444444, \"#bd3786\"], [0.5555555555555556, \"#d8576b\"], [0.6666666666666666, \"#ed7953\"], [0.7777777777777778, \"#fb9f3a\"], [0.8888888888888888, \"#fdca26\"], [1.0, \"#f0f921\"]], \"sequentialminus\": [[0.0, \"#0d0887\"], [0.1111111111111111, \"#46039f\"], [0.2222222222222222, \"#7201a8\"], [0.3333333333333333, \"#9c179e\"], [0.4444444444444444, \"#bd3786\"], [0.5555555555555556, \"#d8576b\"], [0.6666666666666666, \"#ed7953\"], [0.7777777777777778, \"#fb9f3a\"], [0.8888888888888888, \"#fdca26\"], [1.0, \"#f0f921\"]]}, \"colorway\": [\"#636efa\", \"#EF553B\", \"#00cc96\", \"#ab63fa\", \"#FFA15A\", \"#19d3f3\", \"#FF6692\", \"#B6E880\", \"#FF97FF\", \"#FECB52\"], \"font\": {\"color\": \"#2a3f5f\"}, \"geo\": {\"bgcolor\": \"white\", \"lakecolor\": \"white\", \"landcolor\": \"#E5ECF6\", \"showlakes\": true, \"showland\": true, \"subunitcolor\": \"white\"}, \"hoverlabel\": {\"align\": \"left\"}, \"hovermode\": \"closest\", \"mapbox\": {\"style\": \"light\"}, \"paper_bgcolor\": \"white\", \"plot_bgcolor\": \"#E5ECF6\", \"polar\": {\"angularaxis\": {\"gridcolor\": \"white\", \"linecolor\": \"white\", \"ticks\": \"\"}, \"bgcolor\": \"#E5ECF6\", \"radialaxis\": {\"gridcolor\": \"white\", \"linecolor\": \"white\", \"ticks\": \"\"}}, \"scene\": {\"xaxis\": {\"backgroundcolor\": \"#E5ECF6\", \"gridcolor\": \"white\", \"gridwidth\": 2, \"linecolor\": \"white\", \"showbackground\": true, \"ticks\": \"\", \"zerolinecolor\": \"white\"}, \"yaxis\": {\"backgroundcolor\": \"#E5ECF6\", \"gridcolor\": \"white\", \"gridwidth\": 2, \"linecolor\": \"white\", \"showbackground\": true, \"ticks\": \"\", \"zerolinecolor\": \"white\"}, \"zaxis\": {\"backgroundcolor\": \"#E5ECF6\", \"gridcolor\": \"white\", \"gridwidth\": 2, \"linecolor\": \"white\", \"showbackground\": true, \"ticks\": \"\", \"zerolinecolor\": \"white\"}}, \"shapedefaults\": {\"line\": {\"color\": \"#2a3f5f\"}}, \"ternary\": {\"aaxis\": {\"gridcolor\": \"white\", \"linecolor\": \"white\", \"ticks\": \"\"}, \"baxis\": {\"gridcolor\": \"white\", \"linecolor\": \"white\", \"ticks\": \"\"}, \"bgcolor\": \"#E5ECF6\", \"caxis\": {\"gridcolor\": \"white\", \"linecolor\": \"white\", \"ticks\": \"\"}}, \"title\": {\"x\": 0.05}, \"xaxis\": {\"automargin\": true, \"gridcolor\": \"white\", \"linecolor\": \"white\", \"ticks\": \"\", \"title\": {\"standoff\": 15}, \"zerolinecolor\": \"white\", \"zerolinewidth\": 2}, \"yaxis\": {\"automargin\": true, \"gridcolor\": \"white\", \"linecolor\": \"white\", \"ticks\": \"\", \"title\": {\"standoff\": 15}, \"zerolinecolor\": \"white\", \"zerolinewidth\": 2}}}},\n",
       "                        {\"responsive\": true}\n",
       "                    ).then(function(){\n",
       "                            \n",
       "var gd = document.getElementById('eda70764-f03d-4720-b50e-c3f25c8cd900');\n",
       "var x = new MutationObserver(function (mutations, observer) {{\n",
       "        var display = window.getComputedStyle(gd).display;\n",
       "        if (!display || display === 'none') {{\n",
       "            console.log([gd, 'removed!']);\n",
       "            Plotly.purge(gd);\n",
       "            observer.disconnect();\n",
       "        }}\n",
       "}});\n",
       "\n",
       "// Listen for the removal of the full notebook cells\n",
       "var notebookContainer = gd.closest('#notebook-container');\n",
       "if (notebookContainer) {{\n",
       "    x.observe(notebookContainer, {childList: true});\n",
       "}}\n",
       "\n",
       "// Listen for the clearing of the current output cell\n",
       "var outputEl = gd.closest('.output');\n",
       "if (outputEl) {{\n",
       "    x.observe(outputEl, {childList: true});\n",
       "}}\n",
       "\n",
       "                        })\n",
       "                };\n",
       "                \n",
       "            </script>\n",
       "        </div>\n",
       "</body>\n",
       "</html>"
      ]
     },
     "metadata": {
      "tags": []
     },
     "output_type": "display_data"
    }
   ],
   "source": [
    "import plotly.graph_objects as go\n",
    "\n",
    "# Create traces\n",
    "fig = go.Figure()\n",
    "\n",
    "# Linha com os dados de teste\n",
    "fig.add_trace(go.Scatter(x=df_results.index,\n",
    "                         y=df_results.valor_real,\n",
    "                         mode='lines+markers',\n",
    "                         name='Valor Real'))\n",
    "\n",
    "# Linha com os dados de baseline\n",
    "fig.add_trace(go.Scatter(x=df_results.index,\n",
    "                         y=df_results.valor_predito_baseline,\n",
    "                         mode='lines+markers',\n",
    "                         name='Baseline'))\n",
    "\n",
    "# Linha com os dados preditos pela regressão linear\n",
    "fig.add_trace(go.Scatter(x=df_results.index,\n",
    "                         y=df_results.valor_predito_reg_linear,\n",
    "                         mode='lines',\n",
    "                         line = dict(color = '#FEBFB3'),\n",
    "                         name='Valor Predito Regressão Linear'))\n",
    "\n",
    "# Plota a figura\n",
    "fig.show()"
   ]
  },
  {
   "cell_type": "markdown",
   "metadata": {
    "colab_type": "text",
    "id": "yhHrta_etlaE"
   },
   "source": [
    "##### Arvore de decisão\n",
    "\n",
    "*   `Algoritmo de aprendizado supervisionado`\n",
    "*   `Explicabilidade do Modelo`\n",
    "*   `Simples`\n"
   ]
  },
  {
   "cell_type": "code",
   "execution_count": 51,
   "metadata": {
    "colab": {},
    "colab_type": "code",
    "id": "s6AMt-S1tklE"
   },
   "outputs": [],
   "source": [
    "# importa o pacote DecisionTreeRegressor\n",
    "from sklearn.tree import DecisionTreeRegressor"
   ]
  },
  {
   "cell_type": "code",
   "execution_count": 52,
   "metadata": {
    "colab": {},
    "colab_type": "code",
    "id": "9GWqPqMatkiv"
   },
   "outputs": [],
   "source": [
    "# cria um objeto do tipo DecisionTreeRegressor\n",
    "regressor = DecisionTreeRegressor()"
   ]
  },
  {
   "cell_type": "code",
   "execution_count": 53,
   "metadata": {
    "colab": {
     "base_uri": "https://localhost:8080/",
     "height": 119
    },
    "colab_type": "code",
    "id": "aesYvbgetkgX",
    "outputId": "9baa76ec-1185-455a-9ce3-3675db58856b"
   },
   "outputs": [
    {
     "data": {
      "text/plain": [
       "DecisionTreeRegressor(ccp_alpha=0.0, criterion='mse', max_depth=None,\n",
       "                      max_features=None, max_leaf_nodes=None,\n",
       "                      min_impurity_decrease=0.0, min_impurity_split=None,\n",
       "                      min_samples_leaf=1, min_samples_split=2,\n",
       "                      min_weight_fraction_leaf=0.0, presort='deprecated',\n",
       "                      random_state=None, splitter='best')"
      ]
     },
     "execution_count": 53,
     "metadata": {
      "tags": []
     },
     "output_type": "execute_result"
    }
   ],
   "source": [
    "# treina o algoritmo\n",
    "regressor.fit(X_train, y_train)"
   ]
  },
  {
   "cell_type": "markdown",
   "metadata": {
    "colab_type": "text",
    "id": "WHDUHZgHyztm"
   },
   "source": [
    "Avaliando o modelo de Árvore de Decisão"
   ]
  },
  {
   "cell_type": "code",
   "execution_count": 54,
   "metadata": {
    "colab": {},
    "colab_type": "code",
    "id": "3rnUwS6Vtkdw"
   },
   "outputs": [],
   "source": [
    "# fazendo as previsões\n",
    "y_pred = regressor.predict(X_test)"
   ]
  },
  {
   "cell_type": "code",
   "execution_count": 55,
   "metadata": {
    "colab": {},
    "colab_type": "code",
    "id": "WPIrhQh_Lt4i"
   },
   "outputs": [],
   "source": [
    "# Adicionando o valor do modelo no dataframe df_results\n",
    "df_results['valor_predito_arvore'] = y_pred"
   ]
  },
  {
   "cell_type": "code",
   "execution_count": 56,
   "metadata": {
    "colab": {
     "base_uri": "https://localhost:8080/",
     "height": 359
    },
    "colab_type": "code",
    "id": "z3bMNJK0LASe",
    "outputId": "c7b450ca-d5b7-4ae7-b5f5-f83038296ab5"
   },
   "outputs": [
    {
     "data": {
      "text/html": [
       "<div>\n",
       "<style scoped>\n",
       "    .dataframe tbody tr th:only-of-type {\n",
       "        vertical-align: middle;\n",
       "    }\n",
       "\n",
       "    .dataframe tbody tr th {\n",
       "        vertical-align: top;\n",
       "    }\n",
       "\n",
       "    .dataframe thead th {\n",
       "        text-align: right;\n",
       "    }\n",
       "</style>\n",
       "<table border=\"1\" class=\"dataframe\">\n",
       "  <thead>\n",
       "    <tr style=\"text-align: right;\">\n",
       "      <th></th>\n",
       "      <th>valor_real</th>\n",
       "      <th>valor_predito_baseline</th>\n",
       "      <th>valor_predito_reg_linear</th>\n",
       "      <th>valor_predito_arvore</th>\n",
       "    </tr>\n",
       "  </thead>\n",
       "  <tbody>\n",
       "    <tr>\n",
       "      <th>0</th>\n",
       "      <td>18.5</td>\n",
       "      <td>20.130425</td>\n",
       "      <td>18.459170</td>\n",
       "      <td>17.8</td>\n",
       "    </tr>\n",
       "    <tr>\n",
       "      <th>1</th>\n",
       "      <td>12.7</td>\n",
       "      <td>20.130425</td>\n",
       "      <td>12.279894</td>\n",
       "      <td>23.2</td>\n",
       "    </tr>\n",
       "    <tr>\n",
       "      <th>2</th>\n",
       "      <td>21.4</td>\n",
       "      <td>20.130425</td>\n",
       "      <td>24.588307</td>\n",
       "      <td>24.5</td>\n",
       "    </tr>\n",
       "    <tr>\n",
       "      <th>3</th>\n",
       "      <td>23.7</td>\n",
       "      <td>20.130425</td>\n",
       "      <td>28.254693</td>\n",
       "      <td>23.3</td>\n",
       "    </tr>\n",
       "    <tr>\n",
       "      <th>4</th>\n",
       "      <td>20.8</td>\n",
       "      <td>20.130425</td>\n",
       "      <td>18.195439</td>\n",
       "      <td>21.8</td>\n",
       "    </tr>\n",
       "    <tr>\n",
       "      <th>5</th>\n",
       "      <td>25.0</td>\n",
       "      <td>20.130425</td>\n",
       "      <td>21.630648</td>\n",
       "      <td>27.5</td>\n",
       "    </tr>\n",
       "    <tr>\n",
       "      <th>6</th>\n",
       "      <td>9.7</td>\n",
       "      <td>20.130425</td>\n",
       "      <td>11.319198</td>\n",
       "      <td>7.2</td>\n",
       "    </tr>\n",
       "    <tr>\n",
       "      <th>7</th>\n",
       "      <td>14.9</td>\n",
       "      <td>20.130425</td>\n",
       "      <td>14.561032</td>\n",
       "      <td>17.1</td>\n",
       "    </tr>\n",
       "    <tr>\n",
       "      <th>8</th>\n",
       "      <td>34.9</td>\n",
       "      <td>35.719231</td>\n",
       "      <td>31.623717</td>\n",
       "      <td>36.4</td>\n",
       "    </tr>\n",
       "    <tr>\n",
       "      <th>9</th>\n",
       "      <td>31.6</td>\n",
       "      <td>35.719231</td>\n",
       "      <td>29.588133</td>\n",
       "      <td>31.7</td>\n",
       "    </tr>\n",
       "  </tbody>\n",
       "</table>\n",
       "</div>"
      ],
      "text/plain": [
       "   valor_real  ...  valor_predito_arvore\n",
       "0        18.5  ...                  17.8\n",
       "1        12.7  ...                  23.2\n",
       "2        21.4  ...                  24.5\n",
       "3        23.7  ...                  23.3\n",
       "4        20.8  ...                  21.8\n",
       "5        25.0  ...                  27.5\n",
       "6         9.7  ...                   7.2\n",
       "7        14.9  ...                  17.1\n",
       "8        34.9  ...                  36.4\n",
       "9        31.6  ...                  31.7\n",
       "\n",
       "[10 rows x 4 columns]"
      ]
     },
     "execution_count": 56,
     "metadata": {
      "tags": []
     },
     "output_type": "execute_result"
    }
   ],
   "source": [
    "# visualiza o dataframe df_results\n",
    "df_results.head(10)"
   ]
  },
  {
   "cell_type": "code",
   "execution_count": 57,
   "metadata": {
    "colab": {
     "base_uri": "https://localhost:8080/",
     "height": 542
    },
    "colab_type": "code",
    "id": "PV-RAtLPN12A",
    "outputId": "480cb86b-ecd2-43ae-8076-662f90d456bc"
   },
   "outputs": [
    {
     "data": {
      "text/html": [
       "<html>\n",
       "<head><meta charset=\"utf-8\" /></head>\n",
       "<body>\n",
       "    <div>\n",
       "            <script src=\"https://cdnjs.cloudflare.com/ajax/libs/mathjax/2.7.5/MathJax.js?config=TeX-AMS-MML_SVG\"></script><script type=\"text/javascript\">if (window.MathJax) {MathJax.Hub.Config({SVG: {font: \"STIX-Web\"}});}</script>\n",
       "                <script type=\"text/javascript\">window.PlotlyConfig = {MathJaxConfig: 'local'};</script>\n",
       "        <script src=\"https://cdn.plot.ly/plotly-latest.min.js\"></script>    \n",
       "            <div id=\"13ea83ee-bf32-46e7-98c1-7b5b08d1126b\" class=\"plotly-graph-div\" style=\"height:525px; width:100%;\"></div>\n",
       "            <script type=\"text/javascript\">\n",
       "                \n",
       "                    window.PLOTLYENV=window.PLOTLYENV || {};\n",
       "                    \n",
       "                if (document.getElementById(\"13ea83ee-bf32-46e7-98c1-7b5b08d1126b\")) {\n",
       "                    Plotly.newPlot(\n",
       "                        '13ea83ee-bf32-46e7-98c1-7b5b08d1126b',\n",
       "                        [{\"mode\": \"lines+markers\", \"name\": \"Valor Real\", \"type\": \"scatter\", \"x\": [0, 1, 2, 3, 4, 5, 6, 7, 8, 9, 10, 11, 12, 13, 14, 15, 16, 17, 18, 19, 20, 21, 22, 23, 24, 25, 26, 27, 28, 29, 30, 31, 32, 33, 34, 35, 36, 37, 38, 39, 40, 41, 42, 43, 44, 45, 46, 47, 48, 49, 50, 51, 52, 53, 54, 55, 56, 57, 58, 59, 60, 61, 62, 63, 64, 65, 66, 67, 68, 69, 70, 71, 72, 73, 74, 75, 76, 77, 78, 79, 80, 81, 82, 83, 84, 85, 86, 87, 88, 89, 90, 91, 92, 93, 94, 95, 96, 97], \"y\": [18.5, 12.7, 21.4, 23.7, 20.8, 25.0, 9.7, 14.9, 34.9, 31.6, 24.7, 22.9, 33.2, 9.6, 30.5, 19.2, 30.3, 15.4, 24.3, 24.4, 21.5, 27.9, 17.3, 21.4, 21.7, 24.4, 8.5, 15.0, 11.5, 13.6, 24.4, 7.4, 44.0, 21.7, 19.3, 16.1, 29.0, 26.4, 20.3, 10.8, 5.0, 19.6, 23.1, 23.9, 17.5, 13.5, 48.8, 26.2, 19.7, 14.2, 11.0, 19.0, 21.7, 18.4, 33.4, 14.0, 24.7, 43.8, 48.5, 25.0, 22.6, 21.2, 22.4, 23.8, 19.9, 16.5, 16.7, 17.2, 13.1, 19.1, 18.5, 22.2, 22.6, 19.4, 15.2, 19.8, 19.4, 21.6, 18.2, 19.6, 19.6, 23.0, 7.0, 17.6, 25.0, 41.3, 24.1, 22.6, 18.7, 22.6, 13.1, 22.2, 16.1, 39.8, 25.0, 20.5, 10.4, 20.4]}, {\"mode\": \"lines+markers\", \"name\": \"Valor Predito Baseline\", \"type\": \"scatter\", \"x\": [0, 1, 2, 3, 4, 5, 6, 7, 8, 9, 10, 11, 12, 13, 14, 15, 16, 17, 18, 19, 20, 21, 22, 23, 24, 25, 26, 27, 28, 29, 30, 31, 32, 33, 34, 35, 36, 37, 38, 39, 40, 41, 42, 43, 44, 45, 46, 47, 48, 49, 50, 51, 52, 53, 54, 55, 56, 57, 58, 59, 60, 61, 62, 63, 64, 65, 66, 67, 68, 69, 70, 71, 72, 73, 74, 75, 76, 77, 78, 79, 80, 81, 82, 83, 84, 85, 86, 87, 88, 89, 90, 91, 92, 93, 94, 95, 96, 97], \"y\": [20.1304245283019, 20.1304245283019, 20.1304245283019, 20.1304245283019, 20.1304245283019, 20.1304245283019, 20.1304245283019, 20.1304245283019, 35.71923076923077, 35.71923076923077, 20.1304245283019, 20.1304245283019, 35.71923076923077, 20.1304245283019, 20.1304245283019, 20.1304245283019, 35.71923076923077, 20.1304245283019, 20.1304245283019, 20.1304245283019, 20.1304245283019, 20.1304245283019, 20.1304245283019, 20.1304245283019, 20.1304245283019, 20.1304245283019, 20.1304245283019, 35.71923076923077, 20.1304245283019, 20.1304245283019, 20.1304245283019, 20.1304245283019, 35.71923076923077, 20.1304245283019, 20.1304245283019, 14.921428571428574, 35.71923076923077, 20.1304245283019, 20.1304245283019, 20.1304245283019, 20.1304245283019, 20.1304245283019, 20.1304245283019, 20.1304245283019, 20.1304245283019, 20.1304245283019, 35.71923076923077, 20.1304245283019, 20.1304245283019, 20.1304245283019, 20.1304245283019, 20.1304245283019, 20.1304245283019, 20.1304245283019, 35.71923076923077, 20.1304245283019, 20.1304245283019, 35.71923076923077, 35.71923076923077, 20.1304245283019, 20.1304245283019, 20.1304245283019, 20.1304245283019, 20.1304245283019, 20.1304245283019, 20.1304245283019, 20.1304245283019, 20.1304245283019, 20.1304245283019, 20.1304245283019, 20.1304245283019, 20.1304245283019, 20.1304245283019, 20.1304245283019, 20.1304245283019, 20.1304245283019, 20.1304245283019, 20.1304245283019, 20.1304245283019, 20.1304245283019, 20.1304245283019, 20.1304245283019, 14.921428571428574, 20.1304245283019, 20.1304245283019, 20.1304245283019, 20.1304245283019, 20.1304245283019, 20.1304245283019, 20.1304245283019, 20.1304245283019, 20.1304245283019, 20.1304245283019, 35.71923076923077, 35.71923076923077, 20.1304245283019, 20.1304245283019, 20.1304245283019]}, {\"mode\": \"lines+markers\", \"name\": \"Valor Predito Reg Liner\", \"type\": \"scatter\", \"x\": [0, 1, 2, 3, 4, 5, 6, 7, 8, 9, 10, 11, 12, 13, 14, 15, 16, 17, 18, 19, 20, 21, 22, 23, 24, 25, 26, 27, 28, 29, 30, 31, 32, 33, 34, 35, 36, 37, 38, 39, 40, 41, 42, 43, 44, 45, 46, 47, 48, 49, 50, 51, 52, 53, 54, 55, 56, 57, 58, 59, 60, 61, 62, 63, 64, 65, 66, 67, 68, 69, 70, 71, 72, 73, 74, 75, 76, 77, 78, 79, 80, 81, 82, 83, 84, 85, 86, 87, 88, 89, 90, 91, 92, 93, 94, 95, 96, 97], \"y\": [18.459169620175622, 12.27989416415651, 24.588306565387423, 28.254693280668697, 18.195438537343797, 21.630648235689588, 11.31919803094615, 14.561032219959813, 31.623716773040094, 29.588132607557007, 28.60393601525742, 26.482125815783224, 29.966034207781306, 14.553173045326115, 30.278248711999723, 24.63003915876186, 33.23345824950145, 16.931248570273684, 24.99446421909778, 26.466441440860127, 22.813639524070087, 27.103390731816347, 12.524996632311225, 19.37929751974933, 21.581545971002537, 23.877006702039054, 14.085855797820356, 21.230146967559786, 13.643973122717863, 14.716712882017276, 25.80016154201209, 7.867171947538868, 33.02051098404501, 26.045218917809276, 24.03678166511637, 17.775403456686533, 33.22709163662169, 27.517944398741662, 21.187383562583435, 10.957868727277681, 7.507685772949113, 19.418586584539916, 27.393339951286585, 23.8410182563615, 24.74227083856386, 16.990723698020265, 35.47974424493103, 26.159912917617135, 22.49691218178387, 17.904788196114122, 14.154116782257066, 21.181885684574734, 20.624525388320667, 21.177587641065532, 29.49552122400647, 14.23004112679746, 26.544112805265772, 31.0880450668066, 33.726935599253906, 24.891581735351775, 24.187944371239205, 23.864725908860084, 22.05278167361648, 21.38994045785447, 18.845951646544716, 27.841582054943295, 17.93632331758325, 13.823897089289773, 17.676139911036124, 19.29463827968289, 20.582306559638138, 25.390649846634087, 26.23596042344075, 18.89486986816471, 14.74830291774068, 26.818675625015647, 24.878238751496404, 25.213916812117624, 21.19251508313218, 20.512703338801487, 18.270477629632566, 21.37039101688553, -0.09444264955234871, 20.958291503542682, 28.552537591219135, 28.0218620799915, 27.66690749195503, 21.458421647169153, 21.377824334771667, 27.621006503404928, 16.075247361056483, 26.092542124103044, 17.756087552806495, 29.38959640373895, 25.474439973258512, 15.839468986221018, 8.44698583407828, 20.760205429443275]}, {\"mode\": \"lines+markers\", \"name\": \"Valor Predito Arvore\", \"type\": \"scatter\", \"x\": [0, 1, 2, 3, 4, 5, 6, 7, 8, 9, 10, 11, 12, 13, 14, 15, 16, 17, 18, 19, 20, 21, 22, 23, 24, 25, 26, 27, 28, 29, 30, 31, 32, 33, 34, 35, 36, 37, 38, 39, 40, 41, 42, 43, 44, 45, 46, 47, 48, 49, 50, 51, 52, 53, 54, 55, 56, 57, 58, 59, 60, 61, 62, 63, 64, 65, 66, 67, 68, 69, 70, 71, 72, 73, 74, 75, 76, 77, 78, 79, 80, 81, 82, 83, 84, 85, 86, 87, 88, 89, 90, 91, 92, 93, 94, 95, 96, 97], \"y\": [17.8, 23.2, 24.5, 23.3, 21.8, 27.5, 7.2, 17.1, 36.4, 31.7, 24.5, 22.2, 34.9, 14.6, 29.8, 23.1, 34.6, 14.6, 24.5, 24.8, 15.3, 28.7, 15.7, 20.6, 23.4, 19.4, 9.5, 31.0, 12.8, 16.2, 22.2, 10.5, 45.4, 23.0, 23.2, 14.5, 32.2, 23.3, 18.8, 8.4, 6.3, 19.2, 25.0, 22.2, 17.2, 14.1, 31.5, 22.8, 17.1, 22.4, 9.5, 19.5, 19.6, 21.7, 36.1, 14.4, 21.2, 38.7, 34.7, 24.3, 28.7, 21.0, 27.5, 19.1, 15.2, 22.0, 20.1, 27.5, 15.6, 20.0, 20.0, 20.7, 20.9, 22.4, 16.2, 19.4, 23.2, 23.8, 23.4, 15.3, 18.3, 21.4, 8.3, 17.2, 32.0, 24.8, 22.5, 19.3, 19.6, 30.1, 13.8, 22.3, 18.4, 37.9, 43.1, 18.8, 8.3, 18.3]}],\n",
       "                        {\"template\": {\"data\": {\"bar\": [{\"error_x\": {\"color\": \"#2a3f5f\"}, \"error_y\": {\"color\": \"#2a3f5f\"}, \"marker\": {\"line\": {\"color\": \"#E5ECF6\", \"width\": 0.5}}, \"type\": \"bar\"}], \"barpolar\": [{\"marker\": {\"line\": {\"color\": \"#E5ECF6\", \"width\": 0.5}}, \"type\": \"barpolar\"}], \"carpet\": [{\"aaxis\": {\"endlinecolor\": \"#2a3f5f\", \"gridcolor\": \"white\", \"linecolor\": \"white\", \"minorgridcolor\": \"white\", \"startlinecolor\": \"#2a3f5f\"}, \"baxis\": {\"endlinecolor\": \"#2a3f5f\", \"gridcolor\": \"white\", \"linecolor\": \"white\", \"minorgridcolor\": \"white\", \"startlinecolor\": \"#2a3f5f\"}, \"type\": \"carpet\"}], \"choropleth\": [{\"colorbar\": {\"outlinewidth\": 0, \"ticks\": \"\"}, \"type\": \"choropleth\"}], \"contour\": [{\"colorbar\": {\"outlinewidth\": 0, \"ticks\": \"\"}, \"colorscale\": [[0.0, \"#0d0887\"], [0.1111111111111111, \"#46039f\"], [0.2222222222222222, \"#7201a8\"], [0.3333333333333333, \"#9c179e\"], [0.4444444444444444, \"#bd3786\"], [0.5555555555555556, \"#d8576b\"], [0.6666666666666666, \"#ed7953\"], [0.7777777777777778, \"#fb9f3a\"], [0.8888888888888888, \"#fdca26\"], [1.0, \"#f0f921\"]], \"type\": \"contour\"}], \"contourcarpet\": [{\"colorbar\": {\"outlinewidth\": 0, \"ticks\": \"\"}, \"type\": \"contourcarpet\"}], \"heatmap\": [{\"colorbar\": {\"outlinewidth\": 0, \"ticks\": \"\"}, \"colorscale\": [[0.0, \"#0d0887\"], [0.1111111111111111, \"#46039f\"], [0.2222222222222222, \"#7201a8\"], [0.3333333333333333, \"#9c179e\"], [0.4444444444444444, \"#bd3786\"], [0.5555555555555556, \"#d8576b\"], [0.6666666666666666, \"#ed7953\"], [0.7777777777777778, \"#fb9f3a\"], [0.8888888888888888, \"#fdca26\"], [1.0, \"#f0f921\"]], \"type\": \"heatmap\"}], \"heatmapgl\": [{\"colorbar\": {\"outlinewidth\": 0, \"ticks\": \"\"}, \"colorscale\": [[0.0, \"#0d0887\"], [0.1111111111111111, \"#46039f\"], [0.2222222222222222, \"#7201a8\"], [0.3333333333333333, \"#9c179e\"], [0.4444444444444444, \"#bd3786\"], [0.5555555555555556, \"#d8576b\"], [0.6666666666666666, \"#ed7953\"], [0.7777777777777778, \"#fb9f3a\"], [0.8888888888888888, \"#fdca26\"], [1.0, \"#f0f921\"]], \"type\": \"heatmapgl\"}], \"histogram\": [{\"marker\": {\"colorbar\": {\"outlinewidth\": 0, \"ticks\": \"\"}}, \"type\": \"histogram\"}], \"histogram2d\": [{\"colorbar\": {\"outlinewidth\": 0, \"ticks\": \"\"}, \"colorscale\": [[0.0, \"#0d0887\"], [0.1111111111111111, \"#46039f\"], [0.2222222222222222, \"#7201a8\"], [0.3333333333333333, \"#9c179e\"], [0.4444444444444444, \"#bd3786\"], [0.5555555555555556, \"#d8576b\"], [0.6666666666666666, \"#ed7953\"], [0.7777777777777778, \"#fb9f3a\"], [0.8888888888888888, \"#fdca26\"], [1.0, \"#f0f921\"]], \"type\": \"histogram2d\"}], \"histogram2dcontour\": [{\"colorbar\": {\"outlinewidth\": 0, \"ticks\": \"\"}, \"colorscale\": [[0.0, \"#0d0887\"], [0.1111111111111111, \"#46039f\"], [0.2222222222222222, \"#7201a8\"], [0.3333333333333333, \"#9c179e\"], [0.4444444444444444, \"#bd3786\"], [0.5555555555555556, \"#d8576b\"], [0.6666666666666666, \"#ed7953\"], [0.7777777777777778, \"#fb9f3a\"], [0.8888888888888888, \"#fdca26\"], [1.0, \"#f0f921\"]], \"type\": \"histogram2dcontour\"}], \"mesh3d\": [{\"colorbar\": {\"outlinewidth\": 0, \"ticks\": \"\"}, \"type\": \"mesh3d\"}], \"parcoords\": [{\"line\": {\"colorbar\": {\"outlinewidth\": 0, \"ticks\": \"\"}}, \"type\": \"parcoords\"}], \"pie\": [{\"automargin\": true, \"type\": \"pie\"}], \"scatter\": [{\"marker\": {\"colorbar\": {\"outlinewidth\": 0, \"ticks\": \"\"}}, \"type\": \"scatter\"}], \"scatter3d\": [{\"line\": {\"colorbar\": {\"outlinewidth\": 0, \"ticks\": \"\"}}, \"marker\": {\"colorbar\": {\"outlinewidth\": 0, \"ticks\": \"\"}}, \"type\": \"scatter3d\"}], \"scattercarpet\": [{\"marker\": {\"colorbar\": {\"outlinewidth\": 0, \"ticks\": \"\"}}, \"type\": \"scattercarpet\"}], \"scattergeo\": [{\"marker\": {\"colorbar\": {\"outlinewidth\": 0, \"ticks\": \"\"}}, \"type\": \"scattergeo\"}], \"scattergl\": [{\"marker\": {\"colorbar\": {\"outlinewidth\": 0, \"ticks\": \"\"}}, \"type\": \"scattergl\"}], \"scattermapbox\": [{\"marker\": {\"colorbar\": {\"outlinewidth\": 0, \"ticks\": \"\"}}, \"type\": \"scattermapbox\"}], \"scatterpolar\": [{\"marker\": {\"colorbar\": {\"outlinewidth\": 0, \"ticks\": \"\"}}, \"type\": \"scatterpolar\"}], \"scatterpolargl\": [{\"marker\": {\"colorbar\": {\"outlinewidth\": 0, \"ticks\": \"\"}}, \"type\": \"scatterpolargl\"}], \"scatterternary\": [{\"marker\": {\"colorbar\": {\"outlinewidth\": 0, \"ticks\": \"\"}}, \"type\": \"scatterternary\"}], \"surface\": [{\"colorbar\": {\"outlinewidth\": 0, \"ticks\": \"\"}, \"colorscale\": [[0.0, \"#0d0887\"], [0.1111111111111111, \"#46039f\"], [0.2222222222222222, \"#7201a8\"], [0.3333333333333333, \"#9c179e\"], [0.4444444444444444, \"#bd3786\"], [0.5555555555555556, \"#d8576b\"], [0.6666666666666666, \"#ed7953\"], [0.7777777777777778, \"#fb9f3a\"], [0.8888888888888888, \"#fdca26\"], [1.0, \"#f0f921\"]], \"type\": \"surface\"}], \"table\": [{\"cells\": {\"fill\": {\"color\": \"#EBF0F8\"}, \"line\": {\"color\": \"white\"}}, \"header\": {\"fill\": {\"color\": \"#C8D4E3\"}, \"line\": {\"color\": \"white\"}}, \"type\": \"table\"}]}, \"layout\": {\"annotationdefaults\": {\"arrowcolor\": \"#2a3f5f\", \"arrowhead\": 0, \"arrowwidth\": 1}, \"coloraxis\": {\"colorbar\": {\"outlinewidth\": 0, \"ticks\": \"\"}}, \"colorscale\": {\"diverging\": [[0, \"#8e0152\"], [0.1, \"#c51b7d\"], [0.2, \"#de77ae\"], [0.3, \"#f1b6da\"], [0.4, \"#fde0ef\"], [0.5, \"#f7f7f7\"], [0.6, \"#e6f5d0\"], [0.7, \"#b8e186\"], [0.8, \"#7fbc41\"], [0.9, \"#4d9221\"], [1, \"#276419\"]], \"sequential\": [[0.0, \"#0d0887\"], [0.1111111111111111, \"#46039f\"], [0.2222222222222222, \"#7201a8\"], [0.3333333333333333, \"#9c179e\"], [0.4444444444444444, \"#bd3786\"], [0.5555555555555556, \"#d8576b\"], [0.6666666666666666, \"#ed7953\"], [0.7777777777777778, \"#fb9f3a\"], [0.8888888888888888, \"#fdca26\"], [1.0, \"#f0f921\"]], \"sequentialminus\": [[0.0, \"#0d0887\"], [0.1111111111111111, \"#46039f\"], [0.2222222222222222, \"#7201a8\"], [0.3333333333333333, \"#9c179e\"], [0.4444444444444444, \"#bd3786\"], [0.5555555555555556, \"#d8576b\"], [0.6666666666666666, \"#ed7953\"], [0.7777777777777778, \"#fb9f3a\"], [0.8888888888888888, \"#fdca26\"], [1.0, \"#f0f921\"]]}, \"colorway\": [\"#636efa\", \"#EF553B\", \"#00cc96\", \"#ab63fa\", \"#FFA15A\", \"#19d3f3\", \"#FF6692\", \"#B6E880\", \"#FF97FF\", \"#FECB52\"], \"font\": {\"color\": \"#2a3f5f\"}, \"geo\": {\"bgcolor\": \"white\", \"lakecolor\": \"white\", \"landcolor\": \"#E5ECF6\", \"showlakes\": true, \"showland\": true, \"subunitcolor\": \"white\"}, \"hoverlabel\": {\"align\": \"left\"}, \"hovermode\": \"closest\", \"mapbox\": {\"style\": \"light\"}, \"paper_bgcolor\": \"white\", \"plot_bgcolor\": \"#E5ECF6\", \"polar\": {\"angularaxis\": {\"gridcolor\": \"white\", \"linecolor\": \"white\", \"ticks\": \"\"}, \"bgcolor\": \"#E5ECF6\", \"radialaxis\": {\"gridcolor\": \"white\", \"linecolor\": \"white\", \"ticks\": \"\"}}, \"scene\": {\"xaxis\": {\"backgroundcolor\": \"#E5ECF6\", \"gridcolor\": \"white\", \"gridwidth\": 2, \"linecolor\": \"white\", \"showbackground\": true, \"ticks\": \"\", \"zerolinecolor\": \"white\"}, \"yaxis\": {\"backgroundcolor\": \"#E5ECF6\", \"gridcolor\": \"white\", \"gridwidth\": 2, \"linecolor\": \"white\", \"showbackground\": true, \"ticks\": \"\", \"zerolinecolor\": \"white\"}, \"zaxis\": {\"backgroundcolor\": \"#E5ECF6\", \"gridcolor\": \"white\", \"gridwidth\": 2, \"linecolor\": \"white\", \"showbackground\": true, \"ticks\": \"\", \"zerolinecolor\": \"white\"}}, \"shapedefaults\": {\"line\": {\"color\": \"#2a3f5f\"}}, \"ternary\": {\"aaxis\": {\"gridcolor\": \"white\", \"linecolor\": \"white\", \"ticks\": \"\"}, \"baxis\": {\"gridcolor\": \"white\", \"linecolor\": \"white\", \"ticks\": \"\"}, \"bgcolor\": \"#E5ECF6\", \"caxis\": {\"gridcolor\": \"white\", \"linecolor\": \"white\", \"ticks\": \"\"}}, \"title\": {\"x\": 0.05}, \"xaxis\": {\"automargin\": true, \"gridcolor\": \"white\", \"linecolor\": \"white\", \"ticks\": \"\", \"title\": {\"standoff\": 15}, \"zerolinecolor\": \"white\", \"zerolinewidth\": 2}, \"yaxis\": {\"automargin\": true, \"gridcolor\": \"white\", \"linecolor\": \"white\", \"ticks\": \"\", \"title\": {\"standoff\": 15}, \"zerolinecolor\": \"white\", \"zerolinewidth\": 2}}}},\n",
       "                        {\"responsive\": true}\n",
       "                    ).then(function(){\n",
       "                            \n",
       "var gd = document.getElementById('13ea83ee-bf32-46e7-98c1-7b5b08d1126b');\n",
       "var x = new MutationObserver(function (mutations, observer) {{\n",
       "        var display = window.getComputedStyle(gd).display;\n",
       "        if (!display || display === 'none') {{\n",
       "            console.log([gd, 'removed!']);\n",
       "            Plotly.purge(gd);\n",
       "            observer.disconnect();\n",
       "        }}\n",
       "}});\n",
       "\n",
       "// Listen for the removal of the full notebook cells\n",
       "var notebookContainer = gd.closest('#notebook-container');\n",
       "if (notebookContainer) {{\n",
       "    x.observe(notebookContainer, {childList: true});\n",
       "}}\n",
       "\n",
       "// Listen for the clearing of the current output cell\n",
       "var outputEl = gd.closest('.output');\n",
       "if (outputEl) {{\n",
       "    x.observe(outputEl, {childList: true});\n",
       "}}\n",
       "\n",
       "                        })\n",
       "                };\n",
       "                \n",
       "            </script>\n",
       "        </div>\n",
       "</body>\n",
       "</html>"
      ]
     },
     "metadata": {
      "tags": []
     },
     "output_type": "display_data"
    }
   ],
   "source": [
    "import plotly.graph_objects as go\n",
    "\n",
    "# cria uma figura\n",
    "fig = go.Figure()\n",
    "\n",
    "# Linha com os dados de teste\n",
    "fig.add_trace(go.Scatter(x=df_results.index,\n",
    "                         y=df_results.valor_real,\n",
    "                         mode='lines+markers',\n",
    "                         name='Valor Real'))\n",
    "\n",
    "# Linha com os dados de teste\n",
    "fig.add_trace(go.Scatter(x=df_results.index,\n",
    "                         y=df_results.valor_predito_baseline,\n",
    "                         mode='lines+markers',\n",
    "                         name='Valor Predito Baseline'))\n",
    "\n",
    "\n",
    "# Linha com os dados de teste\n",
    "fig.add_trace(go.Scatter(x=df_results.index,\n",
    "                         y=df_results.valor_predito_reg_linear,\n",
    "                         mode='lines+markers',\n",
    "                         name='Valor Predito Reg Liner'))\n",
    "\n",
    "# Linha com os dados preditos\n",
    "fig.add_trace(go.Scatter(x=df_results.index,\n",
    "                         y=df_results.valor_predito_arvore,\n",
    "                         mode='lines+markers',\n",
    "                         name='Valor Predito Arvore'))\n",
    "# Plota a figura\n",
    "fig.show()"
   ]
  },
  {
   "cell_type": "markdown",
   "metadata": {
    "colab_type": "text",
    "id": "exqvETJrM0BB"
   },
   "source": [
    "Avaliação do Modelo"
   ]
  },
  {
   "cell_type": "code",
   "execution_count": 58,
   "metadata": {
    "colab": {},
    "colab_type": "code",
    "id": "VpR1FT389JN_"
   },
   "outputs": [],
   "source": [
    "# calcula a métrica rmse\n",
    "rmse = (np.sqrt(mean_squared_error(y_test, y_pred)))"
   ]
  },
  {
   "cell_type": "code",
   "execution_count": 59,
   "metadata": {
    "colab": {
     "base_uri": "https://localhost:8080/",
     "height": 68
    },
    "colab_type": "code",
    "id": "cEBz7JpJyYcm",
    "outputId": "244aa0d7-74d0-4b9f-f0d5-f6f45873fd5f"
   },
   "outputs": [
    {
     "name": "stdout",
     "output_type": "stream",
     "text": [
      "Performance do modelo avaliado com os dados de teste:\n",
      "\n",
      "RMSE é: 4.88995221378095 \n"
     ]
    }
   ],
   "source": [
    "# imprime a performance do modelo\n",
    "print ('Performance do modelo avaliado com os dados de teste:')\n",
    "print('\\nRMSE é: {} '.format(rmse))"
   ]
  },
  {
   "cell_type": "markdown",
   "metadata": {
    "colab_type": "text",
    "id": "IPf53dk8cQ4A"
   },
   "source": [
    "#### Random Forest\n",
    "\n",
    "- `Método Ensemble`\n",
    "- `Mais robustez para os modelos`"
   ]
  },
  {
   "cell_type": "code",
   "execution_count": 60,
   "metadata": {
    "colab": {},
    "colab_type": "code",
    "id": "dXpfe5pfWcxs"
   },
   "outputs": [],
   "source": [
    "# Importa o método RandomForestRegressor\n",
    "from sklearn.ensemble import RandomForestRegressor"
   ]
  },
  {
   "cell_type": "code",
   "execution_count": 61,
   "metadata": {
    "colab": {},
    "colab_type": "code",
    "id": "G-TcDYH6WcqX"
   },
   "outputs": [],
   "source": [
    "# cria o objeto rf_regressor\n",
    "rf_regressor = RandomForestRegressor()"
   ]
  },
  {
   "cell_type": "code",
   "execution_count": 62,
   "metadata": {
    "colab": {
     "base_uri": "https://localhost:8080/",
     "height": 136
    },
    "colab_type": "code",
    "id": "PXwdpDXdWcm5",
    "outputId": "c3626d24-3629-4940-d7fa-91e88e2cb569"
   },
   "outputs": [
    {
     "data": {
      "text/plain": [
       "RandomForestRegressor(bootstrap=True, ccp_alpha=0.0, criterion='mse',\n",
       "                      max_depth=None, max_features='auto', max_leaf_nodes=None,\n",
       "                      max_samples=None, min_impurity_decrease=0.0,\n",
       "                      min_impurity_split=None, min_samples_leaf=1,\n",
       "                      min_samples_split=2, min_weight_fraction_leaf=0.0,\n",
       "                      n_estimators=100, n_jobs=None, oob_score=False,\n",
       "                      random_state=None, verbose=0, warm_start=False)"
      ]
     },
     "execution_count": 62,
     "metadata": {
      "tags": []
     },
     "output_type": "execute_result"
    }
   ],
   "source": [
    "# treina o algoritmo\n",
    "rf_regressor.fit(X_train, y_train)"
   ]
  },
  {
   "cell_type": "code",
   "execution_count": 63,
   "metadata": {
    "colab": {},
    "colab_type": "code",
    "id": "YJp4BOStc5bS"
   },
   "outputs": [],
   "source": [
    "# avaliação do modelo nos dados de teste\n",
    "y_pred = rf_regressor.predict(X_test)"
   ]
  },
  {
   "cell_type": "code",
   "execution_count": 64,
   "metadata": {
    "colab": {},
    "colab_type": "code",
    "id": "2jH8pO-PdD3I"
   },
   "outputs": [],
   "source": [
    "# adiciona os resultados no dataframe df_results\n",
    "df_results['valor_predito_random_forest'] = rf_regressor.predict(X_test)"
   ]
  },
  {
   "cell_type": "code",
   "execution_count": 65,
   "metadata": {
    "colab": {},
    "colab_type": "code",
    "id": "WLxMyfruc5UO"
   },
   "outputs": [],
   "source": [
    "# calcula a métrica rmse\n",
    "rmse = (np.sqrt(mean_squared_error(y_test, y_pred)))"
   ]
  },
  {
   "cell_type": "code",
   "execution_count": 66,
   "metadata": {
    "colab": {
     "base_uri": "https://localhost:8080/",
     "height": 68
    },
    "colab_type": "code",
    "id": "V7Yt6UAxc5MQ",
    "outputId": "e1702074-eab0-4f0c-c22a-ca589f674e1f"
   },
   "outputs": [
    {
     "name": "stdout",
     "output_type": "stream",
     "text": [
      "Performance do modelo avaliado com os dados de teste:\n",
      "\n",
      "RMSE é: 3.3896804993620115 \n"
     ]
    }
   ],
   "source": [
    "# imprime a performance do modelo\n",
    "print ('Performance do modelo avaliado com os dados de teste:')\n",
    "print('\\nRMSE é: {} '.format(rmse))"
   ]
  },
  {
   "cell_type": "code",
   "execution_count": 67,
   "metadata": {
    "colab": {
     "base_uri": "https://localhost:8080/",
     "height": 542
    },
    "colab_type": "code",
    "id": "xKy2c8eidpdW",
    "outputId": "bb3073e8-d90e-4da8-a70c-47913c78df90"
   },
   "outputs": [
    {
     "data": {
      "text/html": [
       "<html>\n",
       "<head><meta charset=\"utf-8\" /></head>\n",
       "<body>\n",
       "    <div>\n",
       "            <script src=\"https://cdnjs.cloudflare.com/ajax/libs/mathjax/2.7.5/MathJax.js?config=TeX-AMS-MML_SVG\"></script><script type=\"text/javascript\">if (window.MathJax) {MathJax.Hub.Config({SVG: {font: \"STIX-Web\"}});}</script>\n",
       "                <script type=\"text/javascript\">window.PlotlyConfig = {MathJaxConfig: 'local'};</script>\n",
       "        <script src=\"https://cdn.plot.ly/plotly-latest.min.js\"></script>    \n",
       "            <div id=\"4be0e76a-4f1c-4234-9e6e-34b0c1a3afc5\" class=\"plotly-graph-div\" style=\"height:525px; width:100%;\"></div>\n",
       "            <script type=\"text/javascript\">\n",
       "                \n",
       "                    window.PLOTLYENV=window.PLOTLYENV || {};\n",
       "                    \n",
       "                if (document.getElementById(\"4be0e76a-4f1c-4234-9e6e-34b0c1a3afc5\")) {\n",
       "                    Plotly.newPlot(\n",
       "                        '4be0e76a-4f1c-4234-9e6e-34b0c1a3afc5',\n",
       "                        [{\"mode\": \"markers\", \"name\": \"Valor Real\", \"type\": \"scatter\", \"x\": [0, 1, 2, 3, 4, 5, 6, 7, 8, 9, 10, 11, 12, 13, 14, 15, 16, 17, 18, 19, 20, 21, 22, 23, 24, 25, 26, 27, 28, 29, 30, 31, 32, 33, 34, 35, 36, 37, 38, 39, 40, 41, 42, 43, 44, 45, 46, 47, 48, 49, 50, 51, 52, 53, 54, 55, 56, 57, 58, 59, 60, 61, 62, 63, 64, 65, 66, 67, 68, 69, 70, 71, 72, 73, 74, 75, 76, 77, 78, 79, 80, 81, 82, 83, 84, 85, 86, 87, 88, 89, 90, 91, 92, 93, 94, 95, 96, 97], \"y\": [18.5, 12.7, 21.4, 23.7, 20.8, 25.0, 9.7, 14.9, 34.9, 31.6, 24.7, 22.9, 33.2, 9.6, 30.5, 19.2, 30.3, 15.4, 24.3, 24.4, 21.5, 27.9, 17.3, 21.4, 21.7, 24.4, 8.5, 15.0, 11.5, 13.6, 24.4, 7.4, 44.0, 21.7, 19.3, 16.1, 29.0, 26.4, 20.3, 10.8, 5.0, 19.6, 23.1, 23.9, 17.5, 13.5, 48.8, 26.2, 19.7, 14.2, 11.0, 19.0, 21.7, 18.4, 33.4, 14.0, 24.7, 43.8, 48.5, 25.0, 22.6, 21.2, 22.4, 23.8, 19.9, 16.5, 16.7, 17.2, 13.1, 19.1, 18.5, 22.2, 22.6, 19.4, 15.2, 19.8, 19.4, 21.6, 18.2, 19.6, 19.6, 23.0, 7.0, 17.6, 25.0, 41.3, 24.1, 22.6, 18.7, 22.6, 13.1, 22.2, 16.1, 39.8, 25.0, 20.5, 10.4, 20.4]}, {\"line\": {\"color\": \"#FF00FF\"}, \"mode\": \"lines+markers\", \"name\": \"Valor da Baseline\", \"type\": \"scatter\", \"x\": [0, 1, 2, 3, 4, 5, 6, 7, 8, 9, 10, 11, 12, 13, 14, 15, 16, 17, 18, 19, 20, 21, 22, 23, 24, 25, 26, 27, 28, 29, 30, 31, 32, 33, 34, 35, 36, 37, 38, 39, 40, 41, 42, 43, 44, 45, 46, 47, 48, 49, 50, 51, 52, 53, 54, 55, 56, 57, 58, 59, 60, 61, 62, 63, 64, 65, 66, 67, 68, 69, 70, 71, 72, 73, 74, 75, 76, 77, 78, 79, 80, 81, 82, 83, 84, 85, 86, 87, 88, 89, 90, 91, 92, 93, 94, 95, 96, 97], \"y\": [20.1304245283019, 20.1304245283019, 20.1304245283019, 20.1304245283019, 20.1304245283019, 20.1304245283019, 20.1304245283019, 20.1304245283019, 35.71923076923077, 35.71923076923077, 20.1304245283019, 20.1304245283019, 35.71923076923077, 20.1304245283019, 20.1304245283019, 20.1304245283019, 35.71923076923077, 20.1304245283019, 20.1304245283019, 20.1304245283019, 20.1304245283019, 20.1304245283019, 20.1304245283019, 20.1304245283019, 20.1304245283019, 20.1304245283019, 20.1304245283019, 35.71923076923077, 20.1304245283019, 20.1304245283019, 20.1304245283019, 20.1304245283019, 35.71923076923077, 20.1304245283019, 20.1304245283019, 14.921428571428574, 35.71923076923077, 20.1304245283019, 20.1304245283019, 20.1304245283019, 20.1304245283019, 20.1304245283019, 20.1304245283019, 20.1304245283019, 20.1304245283019, 20.1304245283019, 35.71923076923077, 20.1304245283019, 20.1304245283019, 20.1304245283019, 20.1304245283019, 20.1304245283019, 20.1304245283019, 20.1304245283019, 35.71923076923077, 20.1304245283019, 20.1304245283019, 35.71923076923077, 35.71923076923077, 20.1304245283019, 20.1304245283019, 20.1304245283019, 20.1304245283019, 20.1304245283019, 20.1304245283019, 20.1304245283019, 20.1304245283019, 20.1304245283019, 20.1304245283019, 20.1304245283019, 20.1304245283019, 20.1304245283019, 20.1304245283019, 20.1304245283019, 20.1304245283019, 20.1304245283019, 20.1304245283019, 20.1304245283019, 20.1304245283019, 20.1304245283019, 20.1304245283019, 20.1304245283019, 14.921428571428574, 20.1304245283019, 20.1304245283019, 20.1304245283019, 20.1304245283019, 20.1304245283019, 20.1304245283019, 20.1304245283019, 20.1304245283019, 20.1304245283019, 20.1304245283019, 35.71923076923077, 35.71923076923077, 20.1304245283019, 20.1304245283019, 20.1304245283019]}, {\"line\": {\"color\": \"#B2FF66\"}, \"mode\": \"lines\", \"name\": \"Valor Predito \\u00c1rvore\", \"type\": \"scatter\", \"x\": [0, 1, 2, 3, 4, 5, 6, 7, 8, 9, 10, 11, 12, 13, 14, 15, 16, 17, 18, 19, 20, 21, 22, 23, 24, 25, 26, 27, 28, 29, 30, 31, 32, 33, 34, 35, 36, 37, 38, 39, 40, 41, 42, 43, 44, 45, 46, 47, 48, 49, 50, 51, 52, 53, 54, 55, 56, 57, 58, 59, 60, 61, 62, 63, 64, 65, 66, 67, 68, 69, 70, 71, 72, 73, 74, 75, 76, 77, 78, 79, 80, 81, 82, 83, 84, 85, 86, 87, 88, 89, 90, 91, 92, 93, 94, 95, 96, 97], \"y\": [17.8, 23.2, 24.5, 23.3, 21.8, 27.5, 7.2, 17.1, 36.4, 31.7, 24.5, 22.2, 34.9, 14.6, 29.8, 23.1, 34.6, 14.6, 24.5, 24.8, 15.3, 28.7, 15.7, 20.6, 23.4, 19.4, 9.5, 31.0, 12.8, 16.2, 22.2, 10.5, 45.4, 23.0, 23.2, 14.5, 32.2, 23.3, 18.8, 8.4, 6.3, 19.2, 25.0, 22.2, 17.2, 14.1, 31.5, 22.8, 17.1, 22.4, 9.5, 19.5, 19.6, 21.7, 36.1, 14.4, 21.2, 38.7, 34.7, 24.3, 28.7, 21.0, 27.5, 19.1, 15.2, 22.0, 20.1, 27.5, 15.6, 20.0, 20.0, 20.7, 20.9, 22.4, 16.2, 19.4, 23.2, 23.8, 23.4, 15.3, 18.3, 21.4, 8.3, 17.2, 32.0, 24.8, 22.5, 19.3, 19.6, 30.1, 13.8, 22.3, 18.4, 37.9, 43.1, 18.8, 8.3, 18.3]}, {\"line\": {\"color\": \"#17BECF\"}, \"mode\": \"lines\", \"name\": \"Valor Predito Regress\\u00e3o Linear\", \"type\": \"scatter\", \"x\": [0, 1, 2, 3, 4, 5, 6, 7, 8, 9, 10, 11, 12, 13, 14, 15, 16, 17, 18, 19, 20, 21, 22, 23, 24, 25, 26, 27, 28, 29, 30, 31, 32, 33, 34, 35, 36, 37, 38, 39, 40, 41, 42, 43, 44, 45, 46, 47, 48, 49, 50, 51, 52, 53, 54, 55, 56, 57, 58, 59, 60, 61, 62, 63, 64, 65, 66, 67, 68, 69, 70, 71, 72, 73, 74, 75, 76, 77, 78, 79, 80, 81, 82, 83, 84, 85, 86, 87, 88, 89, 90, 91, 92, 93, 94, 95, 96, 97], \"y\": [18.459169620175622, 12.27989416415651, 24.588306565387423, 28.254693280668697, 18.195438537343797, 21.630648235689588, 11.31919803094615, 14.561032219959813, 31.623716773040094, 29.588132607557007, 28.60393601525742, 26.482125815783224, 29.966034207781306, 14.553173045326115, 30.278248711999723, 24.63003915876186, 33.23345824950145, 16.931248570273684, 24.99446421909778, 26.466441440860127, 22.813639524070087, 27.103390731816347, 12.524996632311225, 19.37929751974933, 21.581545971002537, 23.877006702039054, 14.085855797820356, 21.230146967559786, 13.643973122717863, 14.716712882017276, 25.80016154201209, 7.867171947538868, 33.02051098404501, 26.045218917809276, 24.03678166511637, 17.775403456686533, 33.22709163662169, 27.517944398741662, 21.187383562583435, 10.957868727277681, 7.507685772949113, 19.418586584539916, 27.393339951286585, 23.8410182563615, 24.74227083856386, 16.990723698020265, 35.47974424493103, 26.159912917617135, 22.49691218178387, 17.904788196114122, 14.154116782257066, 21.181885684574734, 20.624525388320667, 21.177587641065532, 29.49552122400647, 14.23004112679746, 26.544112805265772, 31.0880450668066, 33.726935599253906, 24.891581735351775, 24.187944371239205, 23.864725908860084, 22.05278167361648, 21.38994045785447, 18.845951646544716, 27.841582054943295, 17.93632331758325, 13.823897089289773, 17.676139911036124, 19.29463827968289, 20.582306559638138, 25.390649846634087, 26.23596042344075, 18.89486986816471, 14.74830291774068, 26.818675625015647, 24.878238751496404, 25.213916812117624, 21.19251508313218, 20.512703338801487, 18.270477629632566, 21.37039101688553, -0.09444264955234871, 20.958291503542682, 28.552537591219135, 28.0218620799915, 27.66690749195503, 21.458421647169153, 21.377824334771667, 27.621006503404928, 16.075247361056483, 26.092542124103044, 17.756087552806495, 29.38959640373895, 25.474439973258512, 15.839468986221018, 8.44698583407828, 20.760205429443275]}, {\"line\": {\"color\": \"#7F7F7F\"}, \"mode\": \"lines\", \"name\": \"Valor Predito Random Forest\", \"type\": \"scatter\", \"x\": [0, 1, 2, 3, 4, 5, 6, 7, 8, 9, 10, 11, 12, 13, 14, 15, 16, 17, 18, 19, 20, 21, 22, 23, 24, 25, 26, 27, 28, 29, 30, 31, 32, 33, 34, 35, 36, 37, 38, 39, 40, 41, 42, 43, 44, 45, 46, 47, 48, 49, 50, 51, 52, 53, 54, 55, 56, 57, 58, 59, 60, 61, 62, 63, 64, 65, 66, 67, 68, 69, 70, 71, 72, 73, 74, 75, 76, 77, 78, 79, 80, 81, 82, 83, 84, 85, 86, 87, 88, 89, 90, 91, 92, 93, 94, 95, 96, 97], \"y\": [19.306999999999988, 16.302000000000007, 23.464999999999996, 25.129999999999995, 22.340000000000003, 23.614, 9.853000000000002, 13.534000000000006, 39.39300000000005, 33.53099999999997, 25.73399999999999, 26.961999999999993, 33.294999999999966, 13.115000000000014, 32.943000000000005, 21.003999999999987, 32.20299999999999, 14.816999999999993, 23.293000000000006, 24.332000000000008, 18.926999999999996, 28.557, 16.83600000000001, 21.967, 21.961000000000013, 21.463000000000008, 13.468999999999987, 21.796000000000017, 12.230999999999984, 17.055999999999994, 23.533999999999995, 8.677000000000007, 41.87800000000003, 21.59799999999999, 24.685000000000006, 20.068999999999996, 35.384999999999984, 23.885999999999996, 21.034000000000002, 10.171999999999992, 6.798000000000007, 19.63000000000001, 24.678999999999995, 20.611000000000004, 20.521, 14.203000000000007, 37.20599999999999, 24.15000000000001, 19.278000000000002, 15.940999999999997, 12.015999999999995, 20.22500000000001, 21.271, 19.611000000000008, 34.21999999999995, 14.741999999999994, 24.995000000000005, 40.09700000000004, 40.33400000000004, 24.537, 24.259999999999994, 20.159999999999982, 21.86900000000001, 19.94399999999998, 17.608000000000004, 25.574, 14.970999999999997, 17.124000000000002, 15.966999999999993, 18.252000000000002, 21.305999999999997, 24.83899999999999, 24.634000000000004, 16.495999999999988, 17.095999999999993, 24.462000000000018, 22.14900000000001, 23.787999999999997, 20.34399999999999, 18.003999999999994, 18.924000000000007, 21.17299999999999, 8.773999999999996, 18.893999999999995, 29.869999999999987, 26.917000000000016, 27.223000000000006, 20.16999999999998, 20.464000000000002, 29.409000000000013, 14.990999999999996, 21.523999999999987, 17.36800000000001, 33.39399999999998, 30.42200000000001, 19.724999999999984, 7.837000000000001, 20.05399999999999]}],\n",
       "                        {\"template\": {\"data\": {\"bar\": [{\"error_x\": {\"color\": \"#2a3f5f\"}, \"error_y\": {\"color\": \"#2a3f5f\"}, \"marker\": {\"line\": {\"color\": \"#E5ECF6\", \"width\": 0.5}}, \"type\": \"bar\"}], \"barpolar\": [{\"marker\": {\"line\": {\"color\": \"#E5ECF6\", \"width\": 0.5}}, \"type\": \"barpolar\"}], \"carpet\": [{\"aaxis\": {\"endlinecolor\": \"#2a3f5f\", \"gridcolor\": \"white\", \"linecolor\": \"white\", \"minorgridcolor\": \"white\", \"startlinecolor\": \"#2a3f5f\"}, \"baxis\": {\"endlinecolor\": \"#2a3f5f\", \"gridcolor\": \"white\", \"linecolor\": \"white\", \"minorgridcolor\": \"white\", \"startlinecolor\": \"#2a3f5f\"}, \"type\": \"carpet\"}], \"choropleth\": [{\"colorbar\": {\"outlinewidth\": 0, \"ticks\": \"\"}, \"type\": \"choropleth\"}], \"contour\": [{\"colorbar\": {\"outlinewidth\": 0, \"ticks\": \"\"}, \"colorscale\": [[0.0, \"#0d0887\"], [0.1111111111111111, \"#46039f\"], [0.2222222222222222, \"#7201a8\"], [0.3333333333333333, \"#9c179e\"], [0.4444444444444444, \"#bd3786\"], [0.5555555555555556, \"#d8576b\"], [0.6666666666666666, \"#ed7953\"], [0.7777777777777778, \"#fb9f3a\"], [0.8888888888888888, \"#fdca26\"], [1.0, \"#f0f921\"]], \"type\": \"contour\"}], \"contourcarpet\": [{\"colorbar\": {\"outlinewidth\": 0, \"ticks\": \"\"}, \"type\": \"contourcarpet\"}], \"heatmap\": [{\"colorbar\": {\"outlinewidth\": 0, \"ticks\": \"\"}, \"colorscale\": [[0.0, \"#0d0887\"], [0.1111111111111111, \"#46039f\"], [0.2222222222222222, \"#7201a8\"], [0.3333333333333333, \"#9c179e\"], [0.4444444444444444, \"#bd3786\"], [0.5555555555555556, \"#d8576b\"], [0.6666666666666666, \"#ed7953\"], [0.7777777777777778, \"#fb9f3a\"], [0.8888888888888888, \"#fdca26\"], [1.0, \"#f0f921\"]], \"type\": \"heatmap\"}], \"heatmapgl\": [{\"colorbar\": {\"outlinewidth\": 0, \"ticks\": \"\"}, \"colorscale\": [[0.0, \"#0d0887\"], [0.1111111111111111, \"#46039f\"], [0.2222222222222222, \"#7201a8\"], [0.3333333333333333, \"#9c179e\"], [0.4444444444444444, \"#bd3786\"], [0.5555555555555556, \"#d8576b\"], [0.6666666666666666, \"#ed7953\"], [0.7777777777777778, \"#fb9f3a\"], [0.8888888888888888, \"#fdca26\"], [1.0, \"#f0f921\"]], \"type\": \"heatmapgl\"}], \"histogram\": [{\"marker\": {\"colorbar\": {\"outlinewidth\": 0, \"ticks\": \"\"}}, \"type\": \"histogram\"}], \"histogram2d\": [{\"colorbar\": {\"outlinewidth\": 0, \"ticks\": \"\"}, \"colorscale\": [[0.0, \"#0d0887\"], [0.1111111111111111, \"#46039f\"], [0.2222222222222222, \"#7201a8\"], [0.3333333333333333, \"#9c179e\"], [0.4444444444444444, \"#bd3786\"], [0.5555555555555556, \"#d8576b\"], [0.6666666666666666, \"#ed7953\"], [0.7777777777777778, \"#fb9f3a\"], [0.8888888888888888, \"#fdca26\"], [1.0, \"#f0f921\"]], \"type\": \"histogram2d\"}], \"histogram2dcontour\": [{\"colorbar\": {\"outlinewidth\": 0, \"ticks\": \"\"}, \"colorscale\": [[0.0, \"#0d0887\"], [0.1111111111111111, \"#46039f\"], [0.2222222222222222, \"#7201a8\"], [0.3333333333333333, \"#9c179e\"], [0.4444444444444444, \"#bd3786\"], [0.5555555555555556, \"#d8576b\"], [0.6666666666666666, \"#ed7953\"], [0.7777777777777778, \"#fb9f3a\"], [0.8888888888888888, \"#fdca26\"], [1.0, \"#f0f921\"]], \"type\": \"histogram2dcontour\"}], \"mesh3d\": [{\"colorbar\": {\"outlinewidth\": 0, \"ticks\": \"\"}, \"type\": \"mesh3d\"}], \"parcoords\": [{\"line\": {\"colorbar\": {\"outlinewidth\": 0, \"ticks\": \"\"}}, \"type\": \"parcoords\"}], \"pie\": [{\"automargin\": true, \"type\": \"pie\"}], \"scatter\": [{\"marker\": {\"colorbar\": {\"outlinewidth\": 0, \"ticks\": \"\"}}, \"type\": \"scatter\"}], \"scatter3d\": [{\"line\": {\"colorbar\": {\"outlinewidth\": 0, \"ticks\": \"\"}}, \"marker\": {\"colorbar\": {\"outlinewidth\": 0, \"ticks\": \"\"}}, \"type\": \"scatter3d\"}], \"scattercarpet\": [{\"marker\": {\"colorbar\": {\"outlinewidth\": 0, \"ticks\": \"\"}}, \"type\": \"scattercarpet\"}], \"scattergeo\": [{\"marker\": {\"colorbar\": {\"outlinewidth\": 0, \"ticks\": \"\"}}, \"type\": \"scattergeo\"}], \"scattergl\": [{\"marker\": {\"colorbar\": {\"outlinewidth\": 0, \"ticks\": \"\"}}, \"type\": \"scattergl\"}], \"scattermapbox\": [{\"marker\": {\"colorbar\": {\"outlinewidth\": 0, \"ticks\": \"\"}}, \"type\": \"scattermapbox\"}], \"scatterpolar\": [{\"marker\": {\"colorbar\": {\"outlinewidth\": 0, \"ticks\": \"\"}}, \"type\": \"scatterpolar\"}], \"scatterpolargl\": [{\"marker\": {\"colorbar\": {\"outlinewidth\": 0, \"ticks\": \"\"}}, \"type\": \"scatterpolargl\"}], \"scatterternary\": [{\"marker\": {\"colorbar\": {\"outlinewidth\": 0, \"ticks\": \"\"}}, \"type\": \"scatterternary\"}], \"surface\": [{\"colorbar\": {\"outlinewidth\": 0, \"ticks\": \"\"}, \"colorscale\": [[0.0, \"#0d0887\"], [0.1111111111111111, \"#46039f\"], [0.2222222222222222, \"#7201a8\"], [0.3333333333333333, \"#9c179e\"], [0.4444444444444444, \"#bd3786\"], [0.5555555555555556, \"#d8576b\"], [0.6666666666666666, \"#ed7953\"], [0.7777777777777778, \"#fb9f3a\"], [0.8888888888888888, \"#fdca26\"], [1.0, \"#f0f921\"]], \"type\": \"surface\"}], \"table\": [{\"cells\": {\"fill\": {\"color\": \"#EBF0F8\"}, \"line\": {\"color\": \"white\"}}, \"header\": {\"fill\": {\"color\": \"#C8D4E3\"}, \"line\": {\"color\": \"white\"}}, \"type\": \"table\"}]}, \"layout\": {\"annotationdefaults\": {\"arrowcolor\": \"#2a3f5f\", \"arrowhead\": 0, \"arrowwidth\": 1}, \"coloraxis\": {\"colorbar\": {\"outlinewidth\": 0, \"ticks\": \"\"}}, \"colorscale\": {\"diverging\": [[0, \"#8e0152\"], [0.1, \"#c51b7d\"], [0.2, \"#de77ae\"], [0.3, \"#f1b6da\"], [0.4, \"#fde0ef\"], [0.5, \"#f7f7f7\"], [0.6, \"#e6f5d0\"], [0.7, \"#b8e186\"], [0.8, \"#7fbc41\"], [0.9, \"#4d9221\"], [1, \"#276419\"]], \"sequential\": [[0.0, \"#0d0887\"], [0.1111111111111111, \"#46039f\"], [0.2222222222222222, \"#7201a8\"], [0.3333333333333333, \"#9c179e\"], [0.4444444444444444, \"#bd3786\"], [0.5555555555555556, \"#d8576b\"], [0.6666666666666666, \"#ed7953\"], [0.7777777777777778, \"#fb9f3a\"], [0.8888888888888888, \"#fdca26\"], [1.0, \"#f0f921\"]], \"sequentialminus\": [[0.0, \"#0d0887\"], [0.1111111111111111, \"#46039f\"], [0.2222222222222222, \"#7201a8\"], [0.3333333333333333, \"#9c179e\"], [0.4444444444444444, \"#bd3786\"], [0.5555555555555556, \"#d8576b\"], [0.6666666666666666, \"#ed7953\"], [0.7777777777777778, \"#fb9f3a\"], [0.8888888888888888, \"#fdca26\"], [1.0, \"#f0f921\"]]}, \"colorway\": [\"#636efa\", \"#EF553B\", \"#00cc96\", \"#ab63fa\", \"#FFA15A\", \"#19d3f3\", \"#FF6692\", \"#B6E880\", \"#FF97FF\", \"#FECB52\"], \"font\": {\"color\": \"#2a3f5f\"}, \"geo\": {\"bgcolor\": \"white\", \"lakecolor\": \"white\", \"landcolor\": \"#E5ECF6\", \"showlakes\": true, \"showland\": true, \"subunitcolor\": \"white\"}, \"hoverlabel\": {\"align\": \"left\"}, \"hovermode\": \"closest\", \"mapbox\": {\"style\": \"light\"}, \"paper_bgcolor\": \"white\", \"plot_bgcolor\": \"#E5ECF6\", \"polar\": {\"angularaxis\": {\"gridcolor\": \"white\", \"linecolor\": \"white\", \"ticks\": \"\"}, \"bgcolor\": \"#E5ECF6\", \"radialaxis\": {\"gridcolor\": \"white\", \"linecolor\": \"white\", \"ticks\": \"\"}}, \"scene\": {\"xaxis\": {\"backgroundcolor\": \"#E5ECF6\", \"gridcolor\": \"white\", \"gridwidth\": 2, \"linecolor\": \"white\", \"showbackground\": true, \"ticks\": \"\", \"zerolinecolor\": \"white\"}, \"yaxis\": {\"backgroundcolor\": \"#E5ECF6\", \"gridcolor\": \"white\", \"gridwidth\": 2, \"linecolor\": \"white\", \"showbackground\": true, \"ticks\": \"\", \"zerolinecolor\": \"white\"}, \"zaxis\": {\"backgroundcolor\": \"#E5ECF6\", \"gridcolor\": \"white\", \"gridwidth\": 2, \"linecolor\": \"white\", \"showbackground\": true, \"ticks\": \"\", \"zerolinecolor\": \"white\"}}, \"shapedefaults\": {\"line\": {\"color\": \"#2a3f5f\"}}, \"ternary\": {\"aaxis\": {\"gridcolor\": \"white\", \"linecolor\": \"white\", \"ticks\": \"\"}, \"baxis\": {\"gridcolor\": \"white\", \"linecolor\": \"white\", \"ticks\": \"\"}, \"bgcolor\": \"#E5ECF6\", \"caxis\": {\"gridcolor\": \"white\", \"linecolor\": \"white\", \"ticks\": \"\"}}, \"title\": {\"x\": 0.05}, \"xaxis\": {\"automargin\": true, \"gridcolor\": \"white\", \"linecolor\": \"white\", \"ticks\": \"\", \"title\": {\"standoff\": 15}, \"zerolinecolor\": \"white\", \"zerolinewidth\": 2}, \"yaxis\": {\"automargin\": true, \"gridcolor\": \"white\", \"linecolor\": \"white\", \"ticks\": \"\", \"title\": {\"standoff\": 15}, \"zerolinecolor\": \"white\", \"zerolinewidth\": 2}}}},\n",
       "                        {\"responsive\": true}\n",
       "                    ).then(function(){\n",
       "                            \n",
       "var gd = document.getElementById('4be0e76a-4f1c-4234-9e6e-34b0c1a3afc5');\n",
       "var x = new MutationObserver(function (mutations, observer) {{\n",
       "        var display = window.getComputedStyle(gd).display;\n",
       "        if (!display || display === 'none') {{\n",
       "            console.log([gd, 'removed!']);\n",
       "            Plotly.purge(gd);\n",
       "            observer.disconnect();\n",
       "        }}\n",
       "}});\n",
       "\n",
       "// Listen for the removal of the full notebook cells\n",
       "var notebookContainer = gd.closest('#notebook-container');\n",
       "if (notebookContainer) {{\n",
       "    x.observe(notebookContainer, {childList: true});\n",
       "}}\n",
       "\n",
       "// Listen for the clearing of the current output cell\n",
       "var outputEl = gd.closest('.output');\n",
       "if (outputEl) {{\n",
       "    x.observe(outputEl, {childList: true});\n",
       "}}\n",
       "\n",
       "                        })\n",
       "                };\n",
       "                \n",
       "            </script>\n",
       "        </div>\n",
       "</body>\n",
       "</html>"
      ]
     },
     "metadata": {
      "tags": []
     },
     "output_type": "display_data"
    }
   ],
   "source": [
    "# plota os resultados dos modelos e o valor real.\n",
    "import plotly.graph_objects as go\n",
    "\n",
    "# Create traces\n",
    "fig = go.Figure()\n",
    "\n",
    "# Linha com os dados de teste\n",
    "fig.add_trace(go.Scatter(x=df_results.index,\n",
    "                         y=df_results.valor_real,\n",
    "                         mode='markers',\n",
    "                         name='Valor Real'))\n",
    "\n",
    "# Linha com os dados da baseline\n",
    "fig.add_trace(go.Scatter(x=df_results.index,\n",
    "                         y=df_results.valor_predito_baseline,\n",
    "                         mode='lines+markers',\n",
    "                         line = dict(color = '#FF00FF'),\n",
    "                         name='Valor da Baseline'))\n",
    "\n",
    "# Linha com os dados preditos pela arvore\n",
    "fig.add_trace(go.Scatter(x=df_results.index,\n",
    "                         y=df_results.valor_predito_arvore,\n",
    "                         mode='lines',\n",
    "                         line = dict(color = '#B2FF66'),\n",
    "                         name='Valor Predito Árvore'))\n",
    "\n",
    "# Linha com os dados preditos pela regressão linear\n",
    "fig.add_trace(go.Scatter(x=df_results.index,\n",
    "                         y=df_results.valor_predito_reg_linear,\n",
    "                         mode='lines',\n",
    "                         line = dict(color = '#17BECF'),\n",
    "                         name='Valor Predito Regressão Linear'))\n",
    "\n",
    "\n",
    "# Linha com os dados preditos pela Random Forest\n",
    "fig.add_trace(go.Scatter(x=df_results.index,\n",
    "                         y=df_results.valor_predito_random_forest,\n",
    "                         mode='lines',\n",
    "                         line = dict(color = '#7F7F7F'),\n",
    "                         name='Valor Predito Random Forest'))\n",
    "\n",
    "# Plota a figura\n",
    "fig.show()"
   ]
  },
  {
   "cell_type": "markdown",
   "metadata": {
    "colab_type": "text",
    "id": "udB7k-TMe9tj"
   },
   "source": [
    "### Tunning do Algoritmo de Machine Learning"
   ]
  },
  {
   "cell_type": "markdown",
   "metadata": {
    "colab_type": "text",
    "id": "-ivExBIzzrmX"
   },
   "source": [
    "**Parâmetros da Random Forest**\n",
    "\n",
    "- `O parâmetro n_estimators define a quantidade de árvores que serão usadas para criação dos modelos. Quanto maior o número de árvores, maior será o número de modelos no ensemble.`\n",
    "\n",
    "- `O parâmtro max_deph define a profundidade da árvore, quanto mais profunda a árvore, mais especializado nos dados de treino o nosso modelo estará.`\n",
    "\n",
    "- `O parâmetro max_features define a quantidade máxima de nós que serão usados para separar os níveis folha da árvore`"
   ]
  },
  {
   "cell_type": "markdown",
   "metadata": {
    "colab_type": "text",
    "id": "Kt1_TcBfWn31"
   },
   "source": [
    "Deploy da Aplicação"
   ]
  },
  {
   "cell_type": "code",
   "execution_count": 68,
   "metadata": {
    "colab": {},
    "colab_type": "code",
    "id": "o_vwA3soYjYq"
   },
   "outputs": [],
   "source": [
    "X['MEDV'] = y"
   ]
  },
  {
   "cell_type": "code",
   "execution_count": 69,
   "metadata": {
    "colab": {
     "base_uri": "https://localhost:8080/",
     "height": 204
    },
    "colab_type": "code",
    "id": "x5-qVIdOZwdt",
    "outputId": "fd52a0b8-b152-4cc4-cc81-6a4b12fbd6a4"
   },
   "outputs": [
    {
     "data": {
      "text/html": [
       "<div>\n",
       "<style scoped>\n",
       "    .dataframe tbody tr th:only-of-type {\n",
       "        vertical-align: middle;\n",
       "    }\n",
       "\n",
       "    .dataframe tbody tr th {\n",
       "        vertical-align: top;\n",
       "    }\n",
       "\n",
       "    .dataframe thead th {\n",
       "        text-align: right;\n",
       "    }\n",
       "</style>\n",
       "<table border=\"1\" class=\"dataframe\">\n",
       "  <thead>\n",
       "    <tr style=\"text-align: right;\">\n",
       "      <th></th>\n",
       "      <th>CRIM</th>\n",
       "      <th>INDUS</th>\n",
       "      <th>CHAS</th>\n",
       "      <th>NOX</th>\n",
       "      <th>RM</th>\n",
       "      <th>PTRATIO</th>\n",
       "      <th>B</th>\n",
       "      <th>LSTAT</th>\n",
       "      <th>MEDV</th>\n",
       "    </tr>\n",
       "  </thead>\n",
       "  <tbody>\n",
       "    <tr>\n",
       "      <th>0</th>\n",
       "      <td>0.00632</td>\n",
       "      <td>2.31</td>\n",
       "      <td>0.0</td>\n",
       "      <td>0.538</td>\n",
       "      <td>6</td>\n",
       "      <td>15.3</td>\n",
       "      <td>396.90</td>\n",
       "      <td>4.98</td>\n",
       "      <td>24.0</td>\n",
       "    </tr>\n",
       "    <tr>\n",
       "      <th>1</th>\n",
       "      <td>0.02731</td>\n",
       "      <td>7.07</td>\n",
       "      <td>0.0</td>\n",
       "      <td>0.469</td>\n",
       "      <td>6</td>\n",
       "      <td>17.8</td>\n",
       "      <td>396.90</td>\n",
       "      <td>9.14</td>\n",
       "      <td>21.6</td>\n",
       "    </tr>\n",
       "    <tr>\n",
       "      <th>2</th>\n",
       "      <td>0.02729</td>\n",
       "      <td>7.07</td>\n",
       "      <td>0.0</td>\n",
       "      <td>0.469</td>\n",
       "      <td>7</td>\n",
       "      <td>17.8</td>\n",
       "      <td>392.83</td>\n",
       "      <td>4.03</td>\n",
       "      <td>34.7</td>\n",
       "    </tr>\n",
       "    <tr>\n",
       "      <th>3</th>\n",
       "      <td>0.03237</td>\n",
       "      <td>2.18</td>\n",
       "      <td>0.0</td>\n",
       "      <td>0.458</td>\n",
       "      <td>6</td>\n",
       "      <td>18.7</td>\n",
       "      <td>394.63</td>\n",
       "      <td>2.94</td>\n",
       "      <td>33.4</td>\n",
       "    </tr>\n",
       "    <tr>\n",
       "      <th>4</th>\n",
       "      <td>0.06905</td>\n",
       "      <td>2.18</td>\n",
       "      <td>0.0</td>\n",
       "      <td>0.458</td>\n",
       "      <td>7</td>\n",
       "      <td>18.7</td>\n",
       "      <td>396.90</td>\n",
       "      <td>5.33</td>\n",
       "      <td>36.2</td>\n",
       "    </tr>\n",
       "  </tbody>\n",
       "</table>\n",
       "</div>"
      ],
      "text/plain": [
       "      CRIM  INDUS  CHAS    NOX  RM  PTRATIO       B  LSTAT  MEDV\n",
       "0  0.00632   2.31   0.0  0.538   6     15.3  396.90   4.98  24.0\n",
       "1  0.02731   7.07   0.0  0.469   6     17.8  396.90   9.14  21.6\n",
       "2  0.02729   7.07   0.0  0.469   7     17.8  392.83   4.03  34.7\n",
       "3  0.03237   2.18   0.0  0.458   6     18.7  394.63   2.94  33.4\n",
       "4  0.06905   2.18   0.0  0.458   7     18.7  396.90   5.33  36.2"
      ]
     },
     "execution_count": 69,
     "metadata": {
      "tags": []
     },
     "output_type": "execute_result"
    }
   ],
   "source": [
    "X.head()"
   ]
  },
  {
   "cell_type": "code",
   "execution_count": 70,
   "metadata": {
    "colab": {},
    "colab_type": "code",
    "id": "vbPO7woOa7N0"
   },
   "outputs": [],
   "source": [
    "X.to_csv('data.csv', index=False)"
   ]
  }
 ],
 "metadata": {
  "anaconda-cloud": {},
  "colab": {
   "collapsed_sections": [],
   "name": "Previsao_Valor_Imovel.ipynb",
   "provenance": [],
   "toc_visible": true
  },
  "kernelspec": {
   "display_name": "Python 3",
   "language": "python",
   "name": "python3"
  },
  "language_info": {
   "codemirror_mode": {
    "name": "ipython",
    "version": 3
   },
   "file_extension": ".py",
   "mimetype": "text/x-python",
   "name": "python",
   "nbconvert_exporter": "python",
   "pygments_lexer": "ipython3",
   "version": "3.7.6"
  }
 },
 "nbformat": 4,
 "nbformat_minor": 1
}
